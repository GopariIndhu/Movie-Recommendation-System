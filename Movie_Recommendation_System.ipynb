{
  "nbformat": 4,
  "nbformat_minor": 0,
  "metadata": {
    "colab": {
      "provenance": [],
      "authorship_tag": "ABX9TyMdTImDXH86GlGSX5hlgDf4",
      "include_colab_link": true
    },
    "kernelspec": {
      "name": "python3",
      "display_name": "Python 3"
    },
    "language_info": {
      "name": "python"
    }
  },
  "cells": [
    {
      "cell_type": "markdown",
      "metadata": {
        "id": "view-in-github",
        "colab_type": "text"
      },
      "source": [
        "<a href=\"https://colab.research.google.com/github/GopariIndhu/Movie-Recommendation-System/blob/main/Movie_Recommendation_System.ipynb\" target=\"_parent\"><img src=\"https://colab.research.google.com/assets/colab-badge.svg\" alt=\"Open In Colab\"/></a>"
      ]
    },
    {
      "cell_type": "markdown",
      "source": [
        "**Movie Recommendation System**\n",
        "Recommender System is a system that seeks to predict or filter preferences according to the user's choices. Recommender systems are utilized in a variety of areas including movies, music, news, books, research articles, search queries, social tags, and products in general. Recommender systems produce a list of recommendations in any of the two ways -\n",
        "\n",
        "**Collaborative filtering:** Collaborative filtering approaches build a model from the user's past behavior (i.e. items purchased or searched by the user) as well as similar decisions made by other users. This model is then used to predict items(or ratings for items) that users may have an interest in.\n",
        "\n",
        "**Content-based filtering:** Content-base filtering approaches uses a series of discrete characteristics of an item in order to recommend additional items with similar properties. Content-based filtering methods are totally based on a description of the item and a profile of the user's preferences. It recommends items based on the user's past preferences. Let's develop a basic recommendation system using Python and Pandas.\n",
        "\n",
        "Let's develop a basic recommendation system by suggesting items that are most similar to a particular item, in this case, movies. It just tells what movies/items are most similar to the user's movie choice.**"
      ],
      "metadata": {
        "id": "f2FuRpZRWnOU"
      }
    },
    {
      "cell_type": "markdown",
      "source": [
        "**Import Library**"
      ],
      "metadata": {
        "id": "MLiq9aIoXDR3"
      }
    },
    {
      "cell_type": "code",
      "source": [
        "import pandas as pd\n",
        "import numpy as np"
      ],
      "metadata": {
        "id": "bzoPVb0mYPI6"
      },
      "execution_count": null,
      "outputs": []
    },
    {
      "cell_type": "code",
      "source": [
        "df = pd.read_csv(r'https://raw.githubusercontent.com/YBI-Foundation/Dataset/main/Movies%20Recommendation.csv')"
      ],
      "metadata": {
        "id": "dSiTvR2JZGxw"
      },
      "execution_count": null,
      "outputs": []
    },
    {
      "cell_type": "code",
      "source": [
        "df.head()"
      ],
      "metadata": {
        "colab": {
          "base_uri": "https://localhost:8080/",
          "height": 637
        },
        "id": "-4uqYFXPZQWA",
        "outputId": "01bfbffa-99aa-428c-c121-88a83635cd8c"
      },
      "execution_count": null,
      "outputs": [
        {
          "output_type": "execute_result",
          "data": {
            "text/plain": [
              "   Movie_ID      Movie_Title                       Movie_Genre Movie_Language  \\\n",
              "0         1       Four Rooms                      Crime Comedy             en   \n",
              "1         2        Star Wars  Adventure Action Science Fiction             en   \n",
              "2         3     Finding Nemo                  Animation Family             en   \n",
              "3         4     Forrest Gump              Comedy Drama Romance             en   \n",
              "4         5  American Beauty                             Drama             en   \n",
              "\n",
              "   Movie_Budget  Movie_Popularity Movie_Release_Date  Movie_Revenue  \\\n",
              "0       4000000         22.876230         09-12-1995        4300000   \n",
              "1      11000000        126.393695         25-05-1977      775398007   \n",
              "2      94000000         85.688789         30-05-2003      940335536   \n",
              "3      55000000        138.133331         06-07-1994      677945399   \n",
              "4      15000000         80.878605         15-09-1999      356296601   \n",
              "\n",
              "   Movie_Runtime  Movie_Vote  ...  \\\n",
              "0           98.0         6.5  ...   \n",
              "1          121.0         8.1  ...   \n",
              "2          100.0         7.6  ...   \n",
              "3          142.0         8.2  ...   \n",
              "4          122.0         7.9  ...   \n",
              "\n",
              "                                      Movie_Homepage  \\\n",
              "0                                                NaN   \n",
              "1  http://www.starwars.com/films/star-wars-episod...   \n",
              "2              http://movies.disney.com/finding-nemo   \n",
              "3                                                NaN   \n",
              "4                      http://www.dreamworks.com/ab/   \n",
              "\n",
              "                                      Movie_Keywords  \\\n",
              "0          hotel new year's eve witch bet hotel room   \n",
              "1        android galaxy hermit death star lightsaber   \n",
              "2  father son relationship harbor underwater fish...   \n",
              "3  vietnam veteran hippie mentally disabled runni...   \n",
              "4  male nudity female nudity adultery midlife cri...   \n",
              "\n",
              "                                      Movie_Overview  \\\n",
              "0  It's Ted the Bellhop's first night on the job....   \n",
              "1  Princess Leia is captured and held hostage by ...   \n",
              "2  Nemo, an adventurous young clownfish, is unexp...   \n",
              "3  A man with a low IQ has accomplished great thi...   \n",
              "4  Lester Burnham, a depressed suburban father in...   \n",
              "\n",
              "                              Movie_Production_House  \\\n",
              "0  [{\"name\": \"Miramax Films\", \"id\": 14}, {\"name\":...   \n",
              "1  [{\"name\": \"Lucasfilm\", \"id\": 1}, {\"name\": \"Twe...   \n",
              "2     [{\"name\": \"Pixar Animation Studios\", \"id\": 3}]   \n",
              "3          [{\"name\": \"Paramount Pictures\", \"id\": 4}]   \n",
              "4  [{\"name\": \"DreamWorks SKG\", \"id\": 27}, {\"name\"...   \n",
              "\n",
              "                            Movie_Production_Country  \\\n",
              "0  [{\"iso_3166_1\": \"US\", \"name\": \"United States o...   \n",
              "1  [{\"iso_3166_1\": \"US\", \"name\": \"United States o...   \n",
              "2  [{\"iso_3166_1\": \"US\", \"name\": \"United States o...   \n",
              "3  [{\"iso_3166_1\": \"US\", \"name\": \"United States o...   \n",
              "4  [{\"iso_3166_1\": \"US\", \"name\": \"United States o...   \n",
              "\n",
              "                      Movie_Spoken_Language  \\\n",
              "0  [{\"iso_639_1\": \"en\", \"name\": \"English\"}]   \n",
              "1  [{\"iso_639_1\": \"en\", \"name\": \"English\"}]   \n",
              "2  [{\"iso_639_1\": \"en\", \"name\": \"English\"}]   \n",
              "3  [{\"iso_639_1\": \"en\", \"name\": \"English\"}]   \n",
              "4  [{\"iso_639_1\": \"en\", \"name\": \"English\"}]   \n",
              "\n",
              "                                       Movie_Tagline  \\\n",
              "0  Twelve outrageous guests. Four scandalous requ...   \n",
              "1       A long time ago in a galaxy far, far away...   \n",
              "2  There are 3.7 trillion fish in the ocean, they...   \n",
              "3  The world will never be the same, once you've ...   \n",
              "4                                       Look closer.   \n",
              "\n",
              "                                          Movie_Cast  \\\n",
              "0  Tim Roth Antonio Banderas Jennifer Beals Madon...   \n",
              "1  Mark Hamill Harrison Ford Carrie Fisher Peter ...   \n",
              "2  Albert Brooks Ellen DeGeneres Alexander Gould ...   \n",
              "3  Tom Hanks Robin Wright Gary Sinise Mykelti Wil...   \n",
              "4  Kevin Spacey Annette Bening Thora Birch Wes Be...   \n",
              "\n",
              "                                          Movie_Crew   Movie_Director  \n",
              "0  [{'name': 'Allison Anders', 'gender': 1, 'depa...   Allison Anders  \n",
              "1  [{'name': 'George Lucas', 'gender': 2, 'depart...     George Lucas  \n",
              "2  [{'name': 'Andrew Stanton', 'gender': 2, 'depa...   Andrew Stanton  \n",
              "3  [{'name': 'Alan Silvestri', 'gender': 2, 'depa...  Robert Zemeckis  \n",
              "4  [{'name': 'Thomas Newman', 'gender': 2, 'depar...       Sam Mendes  \n",
              "\n",
              "[5 rows x 21 columns]"
            ],
            "text/html": [
              "\n",
              "  <div id=\"df-c780fd33-cba1-41d1-bc83-f577e97e57d3\" class=\"colab-df-container\">\n",
              "    <div>\n",
              "<style scoped>\n",
              "    .dataframe tbody tr th:only-of-type {\n",
              "        vertical-align: middle;\n",
              "    }\n",
              "\n",
              "    .dataframe tbody tr th {\n",
              "        vertical-align: top;\n",
              "    }\n",
              "\n",
              "    .dataframe thead th {\n",
              "        text-align: right;\n",
              "    }\n",
              "</style>\n",
              "<table border=\"1\" class=\"dataframe\">\n",
              "  <thead>\n",
              "    <tr style=\"text-align: right;\">\n",
              "      <th></th>\n",
              "      <th>Movie_ID</th>\n",
              "      <th>Movie_Title</th>\n",
              "      <th>Movie_Genre</th>\n",
              "      <th>Movie_Language</th>\n",
              "      <th>Movie_Budget</th>\n",
              "      <th>Movie_Popularity</th>\n",
              "      <th>Movie_Release_Date</th>\n",
              "      <th>Movie_Revenue</th>\n",
              "      <th>Movie_Runtime</th>\n",
              "      <th>Movie_Vote</th>\n",
              "      <th>...</th>\n",
              "      <th>Movie_Homepage</th>\n",
              "      <th>Movie_Keywords</th>\n",
              "      <th>Movie_Overview</th>\n",
              "      <th>Movie_Production_House</th>\n",
              "      <th>Movie_Production_Country</th>\n",
              "      <th>Movie_Spoken_Language</th>\n",
              "      <th>Movie_Tagline</th>\n",
              "      <th>Movie_Cast</th>\n",
              "      <th>Movie_Crew</th>\n",
              "      <th>Movie_Director</th>\n",
              "    </tr>\n",
              "  </thead>\n",
              "  <tbody>\n",
              "    <tr>\n",
              "      <th>0</th>\n",
              "      <td>1</td>\n",
              "      <td>Four Rooms</td>\n",
              "      <td>Crime Comedy</td>\n",
              "      <td>en</td>\n",
              "      <td>4000000</td>\n",
              "      <td>22.876230</td>\n",
              "      <td>09-12-1995</td>\n",
              "      <td>4300000</td>\n",
              "      <td>98.0</td>\n",
              "      <td>6.5</td>\n",
              "      <td>...</td>\n",
              "      <td>NaN</td>\n",
              "      <td>hotel new year's eve witch bet hotel room</td>\n",
              "      <td>It's Ted the Bellhop's first night on the job....</td>\n",
              "      <td>[{\"name\": \"Miramax Films\", \"id\": 14}, {\"name\":...</td>\n",
              "      <td>[{\"iso_3166_1\": \"US\", \"name\": \"United States o...</td>\n",
              "      <td>[{\"iso_639_1\": \"en\", \"name\": \"English\"}]</td>\n",
              "      <td>Twelve outrageous guests. Four scandalous requ...</td>\n",
              "      <td>Tim Roth Antonio Banderas Jennifer Beals Madon...</td>\n",
              "      <td>[{'name': 'Allison Anders', 'gender': 1, 'depa...</td>\n",
              "      <td>Allison Anders</td>\n",
              "    </tr>\n",
              "    <tr>\n",
              "      <th>1</th>\n",
              "      <td>2</td>\n",
              "      <td>Star Wars</td>\n",
              "      <td>Adventure Action Science Fiction</td>\n",
              "      <td>en</td>\n",
              "      <td>11000000</td>\n",
              "      <td>126.393695</td>\n",
              "      <td>25-05-1977</td>\n",
              "      <td>775398007</td>\n",
              "      <td>121.0</td>\n",
              "      <td>8.1</td>\n",
              "      <td>...</td>\n",
              "      <td>http://www.starwars.com/films/star-wars-episod...</td>\n",
              "      <td>android galaxy hermit death star lightsaber</td>\n",
              "      <td>Princess Leia is captured and held hostage by ...</td>\n",
              "      <td>[{\"name\": \"Lucasfilm\", \"id\": 1}, {\"name\": \"Twe...</td>\n",
              "      <td>[{\"iso_3166_1\": \"US\", \"name\": \"United States o...</td>\n",
              "      <td>[{\"iso_639_1\": \"en\", \"name\": \"English\"}]</td>\n",
              "      <td>A long time ago in a galaxy far, far away...</td>\n",
              "      <td>Mark Hamill Harrison Ford Carrie Fisher Peter ...</td>\n",
              "      <td>[{'name': 'George Lucas', 'gender': 2, 'depart...</td>\n",
              "      <td>George Lucas</td>\n",
              "    </tr>\n",
              "    <tr>\n",
              "      <th>2</th>\n",
              "      <td>3</td>\n",
              "      <td>Finding Nemo</td>\n",
              "      <td>Animation Family</td>\n",
              "      <td>en</td>\n",
              "      <td>94000000</td>\n",
              "      <td>85.688789</td>\n",
              "      <td>30-05-2003</td>\n",
              "      <td>940335536</td>\n",
              "      <td>100.0</td>\n",
              "      <td>7.6</td>\n",
              "      <td>...</td>\n",
              "      <td>http://movies.disney.com/finding-nemo</td>\n",
              "      <td>father son relationship harbor underwater fish...</td>\n",
              "      <td>Nemo, an adventurous young clownfish, is unexp...</td>\n",
              "      <td>[{\"name\": \"Pixar Animation Studios\", \"id\": 3}]</td>\n",
              "      <td>[{\"iso_3166_1\": \"US\", \"name\": \"United States o...</td>\n",
              "      <td>[{\"iso_639_1\": \"en\", \"name\": \"English\"}]</td>\n",
              "      <td>There are 3.7 trillion fish in the ocean, they...</td>\n",
              "      <td>Albert Brooks Ellen DeGeneres Alexander Gould ...</td>\n",
              "      <td>[{'name': 'Andrew Stanton', 'gender': 2, 'depa...</td>\n",
              "      <td>Andrew Stanton</td>\n",
              "    </tr>\n",
              "    <tr>\n",
              "      <th>3</th>\n",
              "      <td>4</td>\n",
              "      <td>Forrest Gump</td>\n",
              "      <td>Comedy Drama Romance</td>\n",
              "      <td>en</td>\n",
              "      <td>55000000</td>\n",
              "      <td>138.133331</td>\n",
              "      <td>06-07-1994</td>\n",
              "      <td>677945399</td>\n",
              "      <td>142.0</td>\n",
              "      <td>8.2</td>\n",
              "      <td>...</td>\n",
              "      <td>NaN</td>\n",
              "      <td>vietnam veteran hippie mentally disabled runni...</td>\n",
              "      <td>A man with a low IQ has accomplished great thi...</td>\n",
              "      <td>[{\"name\": \"Paramount Pictures\", \"id\": 4}]</td>\n",
              "      <td>[{\"iso_3166_1\": \"US\", \"name\": \"United States o...</td>\n",
              "      <td>[{\"iso_639_1\": \"en\", \"name\": \"English\"}]</td>\n",
              "      <td>The world will never be the same, once you've ...</td>\n",
              "      <td>Tom Hanks Robin Wright Gary Sinise Mykelti Wil...</td>\n",
              "      <td>[{'name': 'Alan Silvestri', 'gender': 2, 'depa...</td>\n",
              "      <td>Robert Zemeckis</td>\n",
              "    </tr>\n",
              "    <tr>\n",
              "      <th>4</th>\n",
              "      <td>5</td>\n",
              "      <td>American Beauty</td>\n",
              "      <td>Drama</td>\n",
              "      <td>en</td>\n",
              "      <td>15000000</td>\n",
              "      <td>80.878605</td>\n",
              "      <td>15-09-1999</td>\n",
              "      <td>356296601</td>\n",
              "      <td>122.0</td>\n",
              "      <td>7.9</td>\n",
              "      <td>...</td>\n",
              "      <td>http://www.dreamworks.com/ab/</td>\n",
              "      <td>male nudity female nudity adultery midlife cri...</td>\n",
              "      <td>Lester Burnham, a depressed suburban father in...</td>\n",
              "      <td>[{\"name\": \"DreamWorks SKG\", \"id\": 27}, {\"name\"...</td>\n",
              "      <td>[{\"iso_3166_1\": \"US\", \"name\": \"United States o...</td>\n",
              "      <td>[{\"iso_639_1\": \"en\", \"name\": \"English\"}]</td>\n",
              "      <td>Look closer.</td>\n",
              "      <td>Kevin Spacey Annette Bening Thora Birch Wes Be...</td>\n",
              "      <td>[{'name': 'Thomas Newman', 'gender': 2, 'depar...</td>\n",
              "      <td>Sam Mendes</td>\n",
              "    </tr>\n",
              "  </tbody>\n",
              "</table>\n",
              "<p>5 rows × 21 columns</p>\n",
              "</div>\n",
              "    <div class=\"colab-df-buttons\">\n",
              "\n",
              "  <div class=\"colab-df-container\">\n",
              "    <button class=\"colab-df-convert\" onclick=\"convertToInteractive('df-c780fd33-cba1-41d1-bc83-f577e97e57d3')\"\n",
              "            title=\"Convert this dataframe to an interactive table.\"\n",
              "            style=\"display:none;\">\n",
              "\n",
              "  <svg xmlns=\"http://www.w3.org/2000/svg\" height=\"24px\" viewBox=\"0 -960 960 960\">\n",
              "    <path d=\"M120-120v-720h720v720H120Zm60-500h600v-160H180v160Zm220 220h160v-160H400v160Zm0 220h160v-160H400v160ZM180-400h160v-160H180v160Zm440 0h160v-160H620v160ZM180-180h160v-160H180v160Zm440 0h160v-160H620v160Z\"/>\n",
              "  </svg>\n",
              "    </button>\n",
              "\n",
              "  <style>\n",
              "    .colab-df-container {\n",
              "      display:flex;\n",
              "      gap: 12px;\n",
              "    }\n",
              "\n",
              "    .colab-df-convert {\n",
              "      background-color: #E8F0FE;\n",
              "      border: none;\n",
              "      border-radius: 50%;\n",
              "      cursor: pointer;\n",
              "      display: none;\n",
              "      fill: #1967D2;\n",
              "      height: 32px;\n",
              "      padding: 0 0 0 0;\n",
              "      width: 32px;\n",
              "    }\n",
              "\n",
              "    .colab-df-convert:hover {\n",
              "      background-color: #E2EBFA;\n",
              "      box-shadow: 0px 1px 2px rgba(60, 64, 67, 0.3), 0px 1px 3px 1px rgba(60, 64, 67, 0.15);\n",
              "      fill: #174EA6;\n",
              "    }\n",
              "\n",
              "    .colab-df-buttons div {\n",
              "      margin-bottom: 4px;\n",
              "    }\n",
              "\n",
              "    [theme=dark] .colab-df-convert {\n",
              "      background-color: #3B4455;\n",
              "      fill: #D2E3FC;\n",
              "    }\n",
              "\n",
              "    [theme=dark] .colab-df-convert:hover {\n",
              "      background-color: #434B5C;\n",
              "      box-shadow: 0px 1px 3px 1px rgba(0, 0, 0, 0.15);\n",
              "      filter: drop-shadow(0px 1px 2px rgba(0, 0, 0, 0.3));\n",
              "      fill: #FFFFFF;\n",
              "    }\n",
              "  </style>\n",
              "\n",
              "    <script>\n",
              "      const buttonEl =\n",
              "        document.querySelector('#df-c780fd33-cba1-41d1-bc83-f577e97e57d3 button.colab-df-convert');\n",
              "      buttonEl.style.display =\n",
              "        google.colab.kernel.accessAllowed ? 'block' : 'none';\n",
              "\n",
              "      async function convertToInteractive(key) {\n",
              "        const element = document.querySelector('#df-c780fd33-cba1-41d1-bc83-f577e97e57d3');\n",
              "        const dataTable =\n",
              "          await google.colab.kernel.invokeFunction('convertToInteractive',\n",
              "                                                    [key], {});\n",
              "        if (!dataTable) return;\n",
              "\n",
              "        const docLinkHtml = 'Like what you see? Visit the ' +\n",
              "          '<a target=\"_blank\" href=https://colab.research.google.com/notebooks/data_table.ipynb>data table notebook</a>'\n",
              "          + ' to learn more about interactive tables.';\n",
              "        element.innerHTML = '';\n",
              "        dataTable['output_type'] = 'display_data';\n",
              "        await google.colab.output.renderOutput(dataTable, element);\n",
              "        const docLink = document.createElement('div');\n",
              "        docLink.innerHTML = docLinkHtml;\n",
              "        element.appendChild(docLink);\n",
              "      }\n",
              "    </script>\n",
              "  </div>\n",
              "\n",
              "\n",
              "<div id=\"df-a56be819-4fb9-4a04-8794-cd7c2d0bfc1c\">\n",
              "  <button class=\"colab-df-quickchart\" onclick=\"quickchart('df-a56be819-4fb9-4a04-8794-cd7c2d0bfc1c')\"\n",
              "            title=\"Suggest charts\"\n",
              "            style=\"display:none;\">\n",
              "\n",
              "<svg xmlns=\"http://www.w3.org/2000/svg\" height=\"24px\"viewBox=\"0 0 24 24\"\n",
              "     width=\"24px\">\n",
              "    <g>\n",
              "        <path d=\"M19 3H5c-1.1 0-2 .9-2 2v14c0 1.1.9 2 2 2h14c1.1 0 2-.9 2-2V5c0-1.1-.9-2-2-2zM9 17H7v-7h2v7zm4 0h-2V7h2v10zm4 0h-2v-4h2v4z\"/>\n",
              "    </g>\n",
              "</svg>\n",
              "  </button>\n",
              "\n",
              "<style>\n",
              "  .colab-df-quickchart {\n",
              "      --bg-color: #E8F0FE;\n",
              "      --fill-color: #1967D2;\n",
              "      --hover-bg-color: #E2EBFA;\n",
              "      --hover-fill-color: #174EA6;\n",
              "      --disabled-fill-color: #AAA;\n",
              "      --disabled-bg-color: #DDD;\n",
              "  }\n",
              "\n",
              "  [theme=dark] .colab-df-quickchart {\n",
              "      --bg-color: #3B4455;\n",
              "      --fill-color: #D2E3FC;\n",
              "      --hover-bg-color: #434B5C;\n",
              "      --hover-fill-color: #FFFFFF;\n",
              "      --disabled-bg-color: #3B4455;\n",
              "      --disabled-fill-color: #666;\n",
              "  }\n",
              "\n",
              "  .colab-df-quickchart {\n",
              "    background-color: var(--bg-color);\n",
              "    border: none;\n",
              "    border-radius: 50%;\n",
              "    cursor: pointer;\n",
              "    display: none;\n",
              "    fill: var(--fill-color);\n",
              "    height: 32px;\n",
              "    padding: 0;\n",
              "    width: 32px;\n",
              "  }\n",
              "\n",
              "  .colab-df-quickchart:hover {\n",
              "    background-color: var(--hover-bg-color);\n",
              "    box-shadow: 0 1px 2px rgba(60, 64, 67, 0.3), 0 1px 3px 1px rgba(60, 64, 67, 0.15);\n",
              "    fill: var(--button-hover-fill-color);\n",
              "  }\n",
              "\n",
              "  .colab-df-quickchart-complete:disabled,\n",
              "  .colab-df-quickchart-complete:disabled:hover {\n",
              "    background-color: var(--disabled-bg-color);\n",
              "    fill: var(--disabled-fill-color);\n",
              "    box-shadow: none;\n",
              "  }\n",
              "\n",
              "  .colab-df-spinner {\n",
              "    border: 2px solid var(--fill-color);\n",
              "    border-color: transparent;\n",
              "    border-bottom-color: var(--fill-color);\n",
              "    animation:\n",
              "      spin 1s steps(1) infinite;\n",
              "  }\n",
              "\n",
              "  @keyframes spin {\n",
              "    0% {\n",
              "      border-color: transparent;\n",
              "      border-bottom-color: var(--fill-color);\n",
              "      border-left-color: var(--fill-color);\n",
              "    }\n",
              "    20% {\n",
              "      border-color: transparent;\n",
              "      border-left-color: var(--fill-color);\n",
              "      border-top-color: var(--fill-color);\n",
              "    }\n",
              "    30% {\n",
              "      border-color: transparent;\n",
              "      border-left-color: var(--fill-color);\n",
              "      border-top-color: var(--fill-color);\n",
              "      border-right-color: var(--fill-color);\n",
              "    }\n",
              "    40% {\n",
              "      border-color: transparent;\n",
              "      border-right-color: var(--fill-color);\n",
              "      border-top-color: var(--fill-color);\n",
              "    }\n",
              "    60% {\n",
              "      border-color: transparent;\n",
              "      border-right-color: var(--fill-color);\n",
              "    }\n",
              "    80% {\n",
              "      border-color: transparent;\n",
              "      border-right-color: var(--fill-color);\n",
              "      border-bottom-color: var(--fill-color);\n",
              "    }\n",
              "    90% {\n",
              "      border-color: transparent;\n",
              "      border-bottom-color: var(--fill-color);\n",
              "    }\n",
              "  }\n",
              "</style>\n",
              "\n",
              "  <script>\n",
              "    async function quickchart(key) {\n",
              "      const quickchartButtonEl =\n",
              "        document.querySelector('#' + key + ' button');\n",
              "      quickchartButtonEl.disabled = true;  // To prevent multiple clicks.\n",
              "      quickchartButtonEl.classList.add('colab-df-spinner');\n",
              "      try {\n",
              "        const charts = await google.colab.kernel.invokeFunction(\n",
              "            'suggestCharts', [key], {});\n",
              "      } catch (error) {\n",
              "        console.error('Error during call to suggestCharts:', error);\n",
              "      }\n",
              "      quickchartButtonEl.classList.remove('colab-df-spinner');\n",
              "      quickchartButtonEl.classList.add('colab-df-quickchart-complete');\n",
              "    }\n",
              "    (() => {\n",
              "      let quickchartButtonEl =\n",
              "        document.querySelector('#df-a56be819-4fb9-4a04-8794-cd7c2d0bfc1c button');\n",
              "      quickchartButtonEl.style.display =\n",
              "        google.colab.kernel.accessAllowed ? 'block' : 'none';\n",
              "    })();\n",
              "  </script>\n",
              "</div>\n",
              "\n",
              "    </div>\n",
              "  </div>\n"
            ],
            "application/vnd.google.colaboratory.intrinsic+json": {
              "type": "dataframe",
              "variable_name": "df"
            }
          },
          "metadata": {},
          "execution_count": 16
        }
      ]
    },
    {
      "cell_type": "code",
      "source": [
        "df.info()"
      ],
      "metadata": {
        "colab": {
          "base_uri": "https://localhost:8080/"
        },
        "id": "LMlSOH-qZYGe",
        "outputId": "880651df-4834-4927-ca16-32be64e3c5c0"
      },
      "execution_count": null,
      "outputs": [
        {
          "output_type": "stream",
          "name": "stdout",
          "text": [
            "<class 'pandas.core.frame.DataFrame'>\n",
            "RangeIndex: 4760 entries, 0 to 4759\n",
            "Data columns (total 21 columns):\n",
            " #   Column                    Non-Null Count  Dtype  \n",
            "---  ------                    --------------  -----  \n",
            " 0   Movie_ID                  4760 non-null   int64  \n",
            " 1   Movie_Title               4760 non-null   object \n",
            " 2   Movie_Genre               4760 non-null   object \n",
            " 3   Movie_Language            4760 non-null   object \n",
            " 4   Movie_Budget              4760 non-null   int64  \n",
            " 5   Movie_Popularity          4760 non-null   float64\n",
            " 6   Movie_Release_Date        4760 non-null   object \n",
            " 7   Movie_Revenue             4760 non-null   int64  \n",
            " 8   Movie_Runtime             4758 non-null   float64\n",
            " 9   Movie_Vote                4760 non-null   float64\n",
            " 10  Movie_Vote_Count          4760 non-null   int64  \n",
            " 11  Movie_Homepage            1699 non-null   object \n",
            " 12  Movie_Keywords            4373 non-null   object \n",
            " 13  Movie_Overview            4757 non-null   object \n",
            " 14  Movie_Production_House    4760 non-null   object \n",
            " 15  Movie_Production_Country  4760 non-null   object \n",
            " 16  Movie_Spoken_Language     4760 non-null   object \n",
            " 17  Movie_Tagline             3942 non-null   object \n",
            " 18  Movie_Cast                4733 non-null   object \n",
            " 19  Movie_Crew                4760 non-null   object \n",
            " 20  Movie_Director            4738 non-null   object \n",
            "dtypes: float64(3), int64(4), object(14)\n",
            "memory usage: 781.1+ KB\n"
          ]
        }
      ]
    },
    {
      "cell_type": "code",
      "source": [
        "df.shape"
      ],
      "metadata": {
        "colab": {
          "base_uri": "https://localhost:8080/"
        },
        "id": "lTy4Fh9jZYDb",
        "outputId": "39a4b136-6b4c-4a35-d9e1-28b4cadc00b2"
      },
      "execution_count": null,
      "outputs": [
        {
          "output_type": "execute_result",
          "data": {
            "text/plain": [
              "(4760, 21)"
            ]
          },
          "metadata": {},
          "execution_count": 18
        }
      ]
    },
    {
      "cell_type": "code",
      "source": [
        "df.columns"
      ],
      "metadata": {
        "colab": {
          "base_uri": "https://localhost:8080/"
        },
        "id": "nF4QFrp3ZYAj",
        "outputId": "240edd16-6d72-4182-bd1e-a3596df0deda"
      },
      "execution_count": null,
      "outputs": [
        {
          "output_type": "execute_result",
          "data": {
            "text/plain": [
              "Index(['Movie_ID', 'Movie_Title', 'Movie_Genre', 'Movie_Language',\n",
              "       'Movie_Budget', 'Movie_Popularity', 'Movie_Release_Date',\n",
              "       'Movie_Revenue', 'Movie_Runtime', 'Movie_Vote', 'Movie_Vote_Count',\n",
              "       'Movie_Homepage', 'Movie_Keywords', 'Movie_Overview',\n",
              "       'Movie_Production_House', 'Movie_Production_Country',\n",
              "       'Movie_Spoken_Language', 'Movie_Tagline', 'Movie_Cast', 'Movie_Crew',\n",
              "       'Movie_Director'],\n",
              "      dtype='object')"
            ]
          },
          "metadata": {},
          "execution_count": 19
        }
      ]
    },
    {
      "cell_type": "markdown",
      "source": [
        "**Get Feature Selection**"
      ],
      "metadata": {
        "id": "9B2NPrF5Zpi8"
      }
    },
    {
      "cell_type": "code",
      "source": [
        "df_features = df[['Movie_Genre','Movie_Keywords','Movie_Tagline','Movie_Cast','Movie_Director']].fillna('')"
      ],
      "metadata": {
        "id": "kNszIxZgZX9P"
      },
      "execution_count": null,
      "outputs": []
    },
    {
      "cell_type": "code",
      "source": [
        "df_features.shape"
      ],
      "metadata": {
        "colab": {
          "base_uri": "https://localhost:8080/"
        },
        "id": "nd1fD4LAZwax",
        "outputId": "67cfdbe9-cf95-4e02-de90-28215e3a51ea"
      },
      "execution_count": null,
      "outputs": [
        {
          "output_type": "execute_result",
          "data": {
            "text/plain": [
              "(4760, 5)"
            ]
          },
          "metadata": {},
          "execution_count": 21
        }
      ]
    },
    {
      "cell_type": "code",
      "source": [
        "df_features"
      ],
      "metadata": {
        "colab": {
          "base_uri": "https://localhost:8080/",
          "height": 580
        },
        "id": "nJa0pJBSZwYh",
        "outputId": "a67eb6c0-14e4-4d41-fff0-6cb4f9aca088"
      },
      "execution_count": null,
      "outputs": [
        {
          "output_type": "execute_result",
          "data": {
            "text/plain": [
              "                           Movie_Genre  \\\n",
              "0                         Crime Comedy   \n",
              "1     Adventure Action Science Fiction   \n",
              "2                     Animation Family   \n",
              "3                 Comedy Drama Romance   \n",
              "4                                Drama   \n",
              "...                                ...   \n",
              "4755                            Horror   \n",
              "4756               Comedy Family Drama   \n",
              "4757                    Thriller Drama   \n",
              "4758                            Family   \n",
              "4759                       Documentary   \n",
              "\n",
              "                                         Movie_Keywords  \\\n",
              "0             hotel new year's eve witch bet hotel room   \n",
              "1           android galaxy hermit death star lightsaber   \n",
              "2     father son relationship harbor underwater fish...   \n",
              "3     vietnam veteran hippie mentally disabled runni...   \n",
              "4     male nudity female nudity adultery midlife cri...   \n",
              "...                                                 ...   \n",
              "4755                                                      \n",
              "4756                                                      \n",
              "4757                     christian film sex trafficking   \n",
              "4758                                                      \n",
              "4759  music actors legendary perfomer classic hollyw...   \n",
              "\n",
              "                                          Movie_Tagline  \\\n",
              "0     Twelve outrageous guests. Four scandalous requ...   \n",
              "1          A long time ago in a galaxy far, far away...   \n",
              "2     There are 3.7 trillion fish in the ocean, they...   \n",
              "3     The world will never be the same, once you've ...   \n",
              "4                                          Look closer.   \n",
              "...                                                 ...   \n",
              "4755                The hot spot where Satan's waitin'.   \n",
              "4756           It’s better to stand out than to fit in.   \n",
              "4757           She never knew it could happen to her...   \n",
              "4758                                                      \n",
              "4759                                                      \n",
              "\n",
              "                                             Movie_Cast     Movie_Director  \n",
              "0     Tim Roth Antonio Banderas Jennifer Beals Madon...     Allison Anders  \n",
              "1     Mark Hamill Harrison Ford Carrie Fisher Peter ...       George Lucas  \n",
              "2     Albert Brooks Ellen DeGeneres Alexander Gould ...     Andrew Stanton  \n",
              "3     Tom Hanks Robin Wright Gary Sinise Mykelti Wil...    Robert Zemeckis  \n",
              "4     Kevin Spacey Annette Bening Thora Birch Wes Be...         Sam Mendes  \n",
              "...                                                 ...                ...  \n",
              "4755  Lisa Hart Carroll Michael Des Barres Paul Drak...         Pece Dingo  \n",
              "4756  Roni Akurati Brighton Sharbino Jason Lee Anjul...       Frank Lotito  \n",
              "4757  Nicole Smolen Kim Baldwin Ariana Stephens Brys...       Jaco Booyens  \n",
              "4758                                                                        \n",
              "4759                                    Tony Oppedisano  Simon Napier-Bell  \n",
              "\n",
              "[4760 rows x 5 columns]"
            ],
            "text/html": [
              "\n",
              "  <div id=\"df-3ba4d674-ee5a-424b-938a-a3dfdec126c6\" class=\"colab-df-container\">\n",
              "    <div>\n",
              "<style scoped>\n",
              "    .dataframe tbody tr th:only-of-type {\n",
              "        vertical-align: middle;\n",
              "    }\n",
              "\n",
              "    .dataframe tbody tr th {\n",
              "        vertical-align: top;\n",
              "    }\n",
              "\n",
              "    .dataframe thead th {\n",
              "        text-align: right;\n",
              "    }\n",
              "</style>\n",
              "<table border=\"1\" class=\"dataframe\">\n",
              "  <thead>\n",
              "    <tr style=\"text-align: right;\">\n",
              "      <th></th>\n",
              "      <th>Movie_Genre</th>\n",
              "      <th>Movie_Keywords</th>\n",
              "      <th>Movie_Tagline</th>\n",
              "      <th>Movie_Cast</th>\n",
              "      <th>Movie_Director</th>\n",
              "    </tr>\n",
              "  </thead>\n",
              "  <tbody>\n",
              "    <tr>\n",
              "      <th>0</th>\n",
              "      <td>Crime Comedy</td>\n",
              "      <td>hotel new year's eve witch bet hotel room</td>\n",
              "      <td>Twelve outrageous guests. Four scandalous requ...</td>\n",
              "      <td>Tim Roth Antonio Banderas Jennifer Beals Madon...</td>\n",
              "      <td>Allison Anders</td>\n",
              "    </tr>\n",
              "    <tr>\n",
              "      <th>1</th>\n",
              "      <td>Adventure Action Science Fiction</td>\n",
              "      <td>android galaxy hermit death star lightsaber</td>\n",
              "      <td>A long time ago in a galaxy far, far away...</td>\n",
              "      <td>Mark Hamill Harrison Ford Carrie Fisher Peter ...</td>\n",
              "      <td>George Lucas</td>\n",
              "    </tr>\n",
              "    <tr>\n",
              "      <th>2</th>\n",
              "      <td>Animation Family</td>\n",
              "      <td>father son relationship harbor underwater fish...</td>\n",
              "      <td>There are 3.7 trillion fish in the ocean, they...</td>\n",
              "      <td>Albert Brooks Ellen DeGeneres Alexander Gould ...</td>\n",
              "      <td>Andrew Stanton</td>\n",
              "    </tr>\n",
              "    <tr>\n",
              "      <th>3</th>\n",
              "      <td>Comedy Drama Romance</td>\n",
              "      <td>vietnam veteran hippie mentally disabled runni...</td>\n",
              "      <td>The world will never be the same, once you've ...</td>\n",
              "      <td>Tom Hanks Robin Wright Gary Sinise Mykelti Wil...</td>\n",
              "      <td>Robert Zemeckis</td>\n",
              "    </tr>\n",
              "    <tr>\n",
              "      <th>4</th>\n",
              "      <td>Drama</td>\n",
              "      <td>male nudity female nudity adultery midlife cri...</td>\n",
              "      <td>Look closer.</td>\n",
              "      <td>Kevin Spacey Annette Bening Thora Birch Wes Be...</td>\n",
              "      <td>Sam Mendes</td>\n",
              "    </tr>\n",
              "    <tr>\n",
              "      <th>...</th>\n",
              "      <td>...</td>\n",
              "      <td>...</td>\n",
              "      <td>...</td>\n",
              "      <td>...</td>\n",
              "      <td>...</td>\n",
              "    </tr>\n",
              "    <tr>\n",
              "      <th>4755</th>\n",
              "      <td>Horror</td>\n",
              "      <td></td>\n",
              "      <td>The hot spot where Satan's waitin'.</td>\n",
              "      <td>Lisa Hart Carroll Michael Des Barres Paul Drak...</td>\n",
              "      <td>Pece Dingo</td>\n",
              "    </tr>\n",
              "    <tr>\n",
              "      <th>4756</th>\n",
              "      <td>Comedy Family Drama</td>\n",
              "      <td></td>\n",
              "      <td>It’s better to stand out than to fit in.</td>\n",
              "      <td>Roni Akurati Brighton Sharbino Jason Lee Anjul...</td>\n",
              "      <td>Frank Lotito</td>\n",
              "    </tr>\n",
              "    <tr>\n",
              "      <th>4757</th>\n",
              "      <td>Thriller Drama</td>\n",
              "      <td>christian film sex trafficking</td>\n",
              "      <td>She never knew it could happen to her...</td>\n",
              "      <td>Nicole Smolen Kim Baldwin Ariana Stephens Brys...</td>\n",
              "      <td>Jaco Booyens</td>\n",
              "    </tr>\n",
              "    <tr>\n",
              "      <th>4758</th>\n",
              "      <td>Family</td>\n",
              "      <td></td>\n",
              "      <td></td>\n",
              "      <td></td>\n",
              "      <td></td>\n",
              "    </tr>\n",
              "    <tr>\n",
              "      <th>4759</th>\n",
              "      <td>Documentary</td>\n",
              "      <td>music actors legendary perfomer classic hollyw...</td>\n",
              "      <td></td>\n",
              "      <td>Tony Oppedisano</td>\n",
              "      <td>Simon Napier-Bell</td>\n",
              "    </tr>\n",
              "  </tbody>\n",
              "</table>\n",
              "<p>4760 rows × 5 columns</p>\n",
              "</div>\n",
              "    <div class=\"colab-df-buttons\">\n",
              "\n",
              "  <div class=\"colab-df-container\">\n",
              "    <button class=\"colab-df-convert\" onclick=\"convertToInteractive('df-3ba4d674-ee5a-424b-938a-a3dfdec126c6')\"\n",
              "            title=\"Convert this dataframe to an interactive table.\"\n",
              "            style=\"display:none;\">\n",
              "\n",
              "  <svg xmlns=\"http://www.w3.org/2000/svg\" height=\"24px\" viewBox=\"0 -960 960 960\">\n",
              "    <path d=\"M120-120v-720h720v720H120Zm60-500h600v-160H180v160Zm220 220h160v-160H400v160Zm0 220h160v-160H400v160ZM180-400h160v-160H180v160Zm440 0h160v-160H620v160ZM180-180h160v-160H180v160Zm440 0h160v-160H620v160Z\"/>\n",
              "  </svg>\n",
              "    </button>\n",
              "\n",
              "  <style>\n",
              "    .colab-df-container {\n",
              "      display:flex;\n",
              "      gap: 12px;\n",
              "    }\n",
              "\n",
              "    .colab-df-convert {\n",
              "      background-color: #E8F0FE;\n",
              "      border: none;\n",
              "      border-radius: 50%;\n",
              "      cursor: pointer;\n",
              "      display: none;\n",
              "      fill: #1967D2;\n",
              "      height: 32px;\n",
              "      padding: 0 0 0 0;\n",
              "      width: 32px;\n",
              "    }\n",
              "\n",
              "    .colab-df-convert:hover {\n",
              "      background-color: #E2EBFA;\n",
              "      box-shadow: 0px 1px 2px rgba(60, 64, 67, 0.3), 0px 1px 3px 1px rgba(60, 64, 67, 0.15);\n",
              "      fill: #174EA6;\n",
              "    }\n",
              "\n",
              "    .colab-df-buttons div {\n",
              "      margin-bottom: 4px;\n",
              "    }\n",
              "\n",
              "    [theme=dark] .colab-df-convert {\n",
              "      background-color: #3B4455;\n",
              "      fill: #D2E3FC;\n",
              "    }\n",
              "\n",
              "    [theme=dark] .colab-df-convert:hover {\n",
              "      background-color: #434B5C;\n",
              "      box-shadow: 0px 1px 3px 1px rgba(0, 0, 0, 0.15);\n",
              "      filter: drop-shadow(0px 1px 2px rgba(0, 0, 0, 0.3));\n",
              "      fill: #FFFFFF;\n",
              "    }\n",
              "  </style>\n",
              "\n",
              "    <script>\n",
              "      const buttonEl =\n",
              "        document.querySelector('#df-3ba4d674-ee5a-424b-938a-a3dfdec126c6 button.colab-df-convert');\n",
              "      buttonEl.style.display =\n",
              "        google.colab.kernel.accessAllowed ? 'block' : 'none';\n",
              "\n",
              "      async function convertToInteractive(key) {\n",
              "        const element = document.querySelector('#df-3ba4d674-ee5a-424b-938a-a3dfdec126c6');\n",
              "        const dataTable =\n",
              "          await google.colab.kernel.invokeFunction('convertToInteractive',\n",
              "                                                    [key], {});\n",
              "        if (!dataTable) return;\n",
              "\n",
              "        const docLinkHtml = 'Like what you see? Visit the ' +\n",
              "          '<a target=\"_blank\" href=https://colab.research.google.com/notebooks/data_table.ipynb>data table notebook</a>'\n",
              "          + ' to learn more about interactive tables.';\n",
              "        element.innerHTML = '';\n",
              "        dataTable['output_type'] = 'display_data';\n",
              "        await google.colab.output.renderOutput(dataTable, element);\n",
              "        const docLink = document.createElement('div');\n",
              "        docLink.innerHTML = docLinkHtml;\n",
              "        element.appendChild(docLink);\n",
              "      }\n",
              "    </script>\n",
              "  </div>\n",
              "\n",
              "\n",
              "<div id=\"df-4845643c-f85d-4b34-be6b-8501771e65d0\">\n",
              "  <button class=\"colab-df-quickchart\" onclick=\"quickchart('df-4845643c-f85d-4b34-be6b-8501771e65d0')\"\n",
              "            title=\"Suggest charts\"\n",
              "            style=\"display:none;\">\n",
              "\n",
              "<svg xmlns=\"http://www.w3.org/2000/svg\" height=\"24px\"viewBox=\"0 0 24 24\"\n",
              "     width=\"24px\">\n",
              "    <g>\n",
              "        <path d=\"M19 3H5c-1.1 0-2 .9-2 2v14c0 1.1.9 2 2 2h14c1.1 0 2-.9 2-2V5c0-1.1-.9-2-2-2zM9 17H7v-7h2v7zm4 0h-2V7h2v10zm4 0h-2v-4h2v4z\"/>\n",
              "    </g>\n",
              "</svg>\n",
              "  </button>\n",
              "\n",
              "<style>\n",
              "  .colab-df-quickchart {\n",
              "      --bg-color: #E8F0FE;\n",
              "      --fill-color: #1967D2;\n",
              "      --hover-bg-color: #E2EBFA;\n",
              "      --hover-fill-color: #174EA6;\n",
              "      --disabled-fill-color: #AAA;\n",
              "      --disabled-bg-color: #DDD;\n",
              "  }\n",
              "\n",
              "  [theme=dark] .colab-df-quickchart {\n",
              "      --bg-color: #3B4455;\n",
              "      --fill-color: #D2E3FC;\n",
              "      --hover-bg-color: #434B5C;\n",
              "      --hover-fill-color: #FFFFFF;\n",
              "      --disabled-bg-color: #3B4455;\n",
              "      --disabled-fill-color: #666;\n",
              "  }\n",
              "\n",
              "  .colab-df-quickchart {\n",
              "    background-color: var(--bg-color);\n",
              "    border: none;\n",
              "    border-radius: 50%;\n",
              "    cursor: pointer;\n",
              "    display: none;\n",
              "    fill: var(--fill-color);\n",
              "    height: 32px;\n",
              "    padding: 0;\n",
              "    width: 32px;\n",
              "  }\n",
              "\n",
              "  .colab-df-quickchart:hover {\n",
              "    background-color: var(--hover-bg-color);\n",
              "    box-shadow: 0 1px 2px rgba(60, 64, 67, 0.3), 0 1px 3px 1px rgba(60, 64, 67, 0.15);\n",
              "    fill: var(--button-hover-fill-color);\n",
              "  }\n",
              "\n",
              "  .colab-df-quickchart-complete:disabled,\n",
              "  .colab-df-quickchart-complete:disabled:hover {\n",
              "    background-color: var(--disabled-bg-color);\n",
              "    fill: var(--disabled-fill-color);\n",
              "    box-shadow: none;\n",
              "  }\n",
              "\n",
              "  .colab-df-spinner {\n",
              "    border: 2px solid var(--fill-color);\n",
              "    border-color: transparent;\n",
              "    border-bottom-color: var(--fill-color);\n",
              "    animation:\n",
              "      spin 1s steps(1) infinite;\n",
              "  }\n",
              "\n",
              "  @keyframes spin {\n",
              "    0% {\n",
              "      border-color: transparent;\n",
              "      border-bottom-color: var(--fill-color);\n",
              "      border-left-color: var(--fill-color);\n",
              "    }\n",
              "    20% {\n",
              "      border-color: transparent;\n",
              "      border-left-color: var(--fill-color);\n",
              "      border-top-color: var(--fill-color);\n",
              "    }\n",
              "    30% {\n",
              "      border-color: transparent;\n",
              "      border-left-color: var(--fill-color);\n",
              "      border-top-color: var(--fill-color);\n",
              "      border-right-color: var(--fill-color);\n",
              "    }\n",
              "    40% {\n",
              "      border-color: transparent;\n",
              "      border-right-color: var(--fill-color);\n",
              "      border-top-color: var(--fill-color);\n",
              "    }\n",
              "    60% {\n",
              "      border-color: transparent;\n",
              "      border-right-color: var(--fill-color);\n",
              "    }\n",
              "    80% {\n",
              "      border-color: transparent;\n",
              "      border-right-color: var(--fill-color);\n",
              "      border-bottom-color: var(--fill-color);\n",
              "    }\n",
              "    90% {\n",
              "      border-color: transparent;\n",
              "      border-bottom-color: var(--fill-color);\n",
              "    }\n",
              "  }\n",
              "</style>\n",
              "\n",
              "  <script>\n",
              "    async function quickchart(key) {\n",
              "      const quickchartButtonEl =\n",
              "        document.querySelector('#' + key + ' button');\n",
              "      quickchartButtonEl.disabled = true;  // To prevent multiple clicks.\n",
              "      quickchartButtonEl.classList.add('colab-df-spinner');\n",
              "      try {\n",
              "        const charts = await google.colab.kernel.invokeFunction(\n",
              "            'suggestCharts', [key], {});\n",
              "      } catch (error) {\n",
              "        console.error('Error during call to suggestCharts:', error);\n",
              "      }\n",
              "      quickchartButtonEl.classList.remove('colab-df-spinner');\n",
              "      quickchartButtonEl.classList.add('colab-df-quickchart-complete');\n",
              "    }\n",
              "    (() => {\n",
              "      let quickchartButtonEl =\n",
              "        document.querySelector('#df-4845643c-f85d-4b34-be6b-8501771e65d0 button');\n",
              "      quickchartButtonEl.style.display =\n",
              "        google.colab.kernel.accessAllowed ? 'block' : 'none';\n",
              "    })();\n",
              "  </script>\n",
              "</div>\n",
              "\n",
              "  <div id=\"id_75a3f5c4-b96f-47a3-81ee-38aa123c78e8\">\n",
              "    <style>\n",
              "      .colab-df-generate {\n",
              "        background-color: #E8F0FE;\n",
              "        border: none;\n",
              "        border-radius: 50%;\n",
              "        cursor: pointer;\n",
              "        display: none;\n",
              "        fill: #1967D2;\n",
              "        height: 32px;\n",
              "        padding: 0 0 0 0;\n",
              "        width: 32px;\n",
              "      }\n",
              "\n",
              "      .colab-df-generate:hover {\n",
              "        background-color: #E2EBFA;\n",
              "        box-shadow: 0px 1px 2px rgba(60, 64, 67, 0.3), 0px 1px 3px 1px rgba(60, 64, 67, 0.15);\n",
              "        fill: #174EA6;\n",
              "      }\n",
              "\n",
              "      [theme=dark] .colab-df-generate {\n",
              "        background-color: #3B4455;\n",
              "        fill: #D2E3FC;\n",
              "      }\n",
              "\n",
              "      [theme=dark] .colab-df-generate:hover {\n",
              "        background-color: #434B5C;\n",
              "        box-shadow: 0px 1px 3px 1px rgba(0, 0, 0, 0.15);\n",
              "        filter: drop-shadow(0px 1px 2px rgba(0, 0, 0, 0.3));\n",
              "        fill: #FFFFFF;\n",
              "      }\n",
              "    </style>\n",
              "    <button class=\"colab-df-generate\" onclick=\"generateWithVariable('df_features')\"\n",
              "            title=\"Generate code using this dataframe.\"\n",
              "            style=\"display:none;\">\n",
              "\n",
              "  <svg xmlns=\"http://www.w3.org/2000/svg\" height=\"24px\"viewBox=\"0 0 24 24\"\n",
              "       width=\"24px\">\n",
              "    <path d=\"M7,19H8.4L18.45,9,17,7.55,7,17.6ZM5,21V16.75L18.45,3.32a2,2,0,0,1,2.83,0l1.4,1.43a1.91,1.91,0,0,1,.58,1.4,1.91,1.91,0,0,1-.58,1.4L9.25,21ZM18.45,9,17,7.55Zm-12,3A5.31,5.31,0,0,0,4.9,8.1,5.31,5.31,0,0,0,1,6.5,5.31,5.31,0,0,0,4.9,4.9,5.31,5.31,0,0,0,6.5,1,5.31,5.31,0,0,0,8.1,4.9,5.31,5.31,0,0,0,12,6.5,5.46,5.46,0,0,0,6.5,12Z\"/>\n",
              "  </svg>\n",
              "    </button>\n",
              "    <script>\n",
              "      (() => {\n",
              "      const buttonEl =\n",
              "        document.querySelector('#id_75a3f5c4-b96f-47a3-81ee-38aa123c78e8 button.colab-df-generate');\n",
              "      buttonEl.style.display =\n",
              "        google.colab.kernel.accessAllowed ? 'block' : 'none';\n",
              "\n",
              "      buttonEl.onclick = () => {\n",
              "        google.colab.notebook.generateWithVariable('df_features');\n",
              "      }\n",
              "      })();\n",
              "    </script>\n",
              "  </div>\n",
              "\n",
              "    </div>\n",
              "  </div>\n"
            ],
            "application/vnd.google.colaboratory.intrinsic+json": {
              "type": "dataframe",
              "variable_name": "df_features",
              "summary": "{\n  \"name\": \"df_features\",\n  \"rows\": 4760,\n  \"fields\": [\n    {\n      \"column\": \"Movie_Genre\",\n      \"properties\": {\n        \"dtype\": \"category\",\n        \"num_unique_values\": 1164,\n        \"samples\": [\n          \"Family Animation Adventure\",\n          \"Adventure Science Fiction Action\",\n          \"Action Crime Drama Romance Thriller\"\n        ],\n        \"semantic_type\": \"\",\n        \"description\": \"\"\n      }\n    },\n    {\n      \"column\": \"Movie_Keywords\",\n      \"properties\": {\n        \"dtype\": \"string\",\n        \"num_unique_values\": 4203,\n        \"samples\": [\n          \"canada nazis sequel spin off ancient evil\",\n          \"sex professor wedding woman director columbia university\",\n          \"prophecy sea beach gold small town\"\n        ],\n        \"semantic_type\": \"\",\n        \"description\": \"\"\n      }\n    },\n    {\n      \"column\": \"Movie_Tagline\",\n      \"properties\": {\n        \"dtype\": \"string\",\n        \"num_unique_values\": 3928,\n        \"samples\": [\n          \"The messenger must be silenced.\",\n          \"It's not the house that's haunted.\",\n          \"The final hunt begins.\"\n        ],\n        \"semantic_type\": \"\",\n        \"description\": \"\"\n      }\n    },\n    {\n      \"column\": \"Movie_Cast\",\n      \"properties\": {\n        \"dtype\": \"string\",\n        \"num_unique_values\": 4715,\n        \"samples\": [\n          \"Robin Tunney Fairuza Balk Neve Campbell Rachel True Skeet Ulrich\",\n          \"Peter Sellers Christopher Plummer Herbert Lom Catherine Schell Peter Arne\",\n          \"John Wayne Laraine Day Cedric Hardwicke Judith Anderson Anthony Quinn\"\n        ],\n        \"semantic_type\": \"\",\n        \"description\": \"\"\n      }\n    },\n    {\n      \"column\": \"Movie_Director\",\n      \"properties\": {\n        \"dtype\": \"category\",\n        \"num_unique_values\": 2332,\n        \"samples\": [\n          \"Rob McKittrick\",\n          \"Terron R. Parsons\",\n          \"Cyrus Nowrasteh\"\n        ],\n        \"semantic_type\": \"\",\n        \"description\": \"\"\n      }\n    }\n  ]\n}"
            }
          },
          "metadata": {},
          "execution_count": 22
        }
      ]
    },
    {
      "cell_type": "code",
      "source": [
        "x=df_features['Movie_Genre'] + ' ' + df_features['Movie_Keywords'] + ' ' + df_features['Movie_Tagline'] + ' ' + df_features['Movie_Cast'] + ' ' + df_features['Movie_Director']"
      ],
      "metadata": {
        "id": "cP6L9y2DZwVt"
      },
      "execution_count": null,
      "outputs": []
    },
    {
      "cell_type": "code",
      "source": [
        "x"
      ],
      "metadata": {
        "colab": {
          "base_uri": "https://localhost:8080/",
          "height": 458
        },
        "id": "fGumnSuZZwQ-",
        "outputId": "e6b914ef-04e8-49b8-b195-00c98cf7f485"
      },
      "execution_count": null,
      "outputs": [
        {
          "output_type": "execute_result",
          "data": {
            "text/plain": [
              "0       Crime Comedy hotel new year's eve witch bet ho...\n",
              "1       Adventure Action Science Fiction android galax...\n",
              "2       Animation Family father son relationship harbo...\n",
              "3       Comedy Drama Romance vietnam veteran hippie me...\n",
              "4       Drama male nudity female nudity adultery midli...\n",
              "                              ...                        \n",
              "4755    Horror  The hot spot where Satan's waitin'. Li...\n",
              "4756    Comedy Family Drama  It’s better to stand out ...\n",
              "4757    Thriller Drama christian film sex trafficking ...\n",
              "4758                                           Family    \n",
              "4759    Documentary music actors legendary perfomer cl...\n",
              "Length: 4760, dtype: object"
            ],
            "text/html": [
              "<div>\n",
              "<style scoped>\n",
              "    .dataframe tbody tr th:only-of-type {\n",
              "        vertical-align: middle;\n",
              "    }\n",
              "\n",
              "    .dataframe tbody tr th {\n",
              "        vertical-align: top;\n",
              "    }\n",
              "\n",
              "    .dataframe thead th {\n",
              "        text-align: right;\n",
              "    }\n",
              "</style>\n",
              "<table border=\"1\" class=\"dataframe\">\n",
              "  <thead>\n",
              "    <tr style=\"text-align: right;\">\n",
              "      <th></th>\n",
              "      <th>0</th>\n",
              "    </tr>\n",
              "  </thead>\n",
              "  <tbody>\n",
              "    <tr>\n",
              "      <th>0</th>\n",
              "      <td>Crime Comedy hotel new year's eve witch bet ho...</td>\n",
              "    </tr>\n",
              "    <tr>\n",
              "      <th>1</th>\n",
              "      <td>Adventure Action Science Fiction android galax...</td>\n",
              "    </tr>\n",
              "    <tr>\n",
              "      <th>2</th>\n",
              "      <td>Animation Family father son relationship harbo...</td>\n",
              "    </tr>\n",
              "    <tr>\n",
              "      <th>3</th>\n",
              "      <td>Comedy Drama Romance vietnam veteran hippie me...</td>\n",
              "    </tr>\n",
              "    <tr>\n",
              "      <th>4</th>\n",
              "      <td>Drama male nudity female nudity adultery midli...</td>\n",
              "    </tr>\n",
              "    <tr>\n",
              "      <th>...</th>\n",
              "      <td>...</td>\n",
              "    </tr>\n",
              "    <tr>\n",
              "      <th>4755</th>\n",
              "      <td>Horror  The hot spot where Satan's waitin'. Li...</td>\n",
              "    </tr>\n",
              "    <tr>\n",
              "      <th>4756</th>\n",
              "      <td>Comedy Family Drama  It’s better to stand out ...</td>\n",
              "    </tr>\n",
              "    <tr>\n",
              "      <th>4757</th>\n",
              "      <td>Thriller Drama christian film sex trafficking ...</td>\n",
              "    </tr>\n",
              "    <tr>\n",
              "      <th>4758</th>\n",
              "      <td>Family</td>\n",
              "    </tr>\n",
              "    <tr>\n",
              "      <th>4759</th>\n",
              "      <td>Documentary music actors legendary perfomer cl...</td>\n",
              "    </tr>\n",
              "  </tbody>\n",
              "</table>\n",
              "<p>4760 rows × 1 columns</p>\n",
              "</div><br><label><b>dtype:</b> object</label>"
            ]
          },
          "metadata": {},
          "execution_count": 24
        }
      ]
    },
    {
      "cell_type": "code",
      "source": [
        "x.shape"
      ],
      "metadata": {
        "colab": {
          "base_uri": "https://localhost:8080/"
        },
        "id": "NxTiAvWKapIs",
        "outputId": "d3e4582e-360c-41ca-baf9-886c8597a461"
      },
      "execution_count": null,
      "outputs": [
        {
          "output_type": "execute_result",
          "data": {
            "text/plain": [
              "(4760,)"
            ]
          },
          "metadata": {},
          "execution_count": 25
        }
      ]
    },
    {
      "cell_type": "code",
      "source": [
        "from sklearn.feature_extraction.text import TfidfVectorizer\n"
      ],
      "metadata": {
        "id": "A8nwkQW6apGT"
      },
      "execution_count": null,
      "outputs": []
    },
    {
      "cell_type": "code",
      "source": [
        "tfidf = TfidfVectorizer()"
      ],
      "metadata": {
        "id": "mwPkNS26apDl"
      },
      "execution_count": null,
      "outputs": []
    },
    {
      "cell_type": "code",
      "source": [
        "X = tfidf.fit_transform(x)"
      ],
      "metadata": {
        "id": "lvyI4aHVaygh"
      },
      "execution_count": null,
      "outputs": []
    },
    {
      "cell_type": "code",
      "source": [
        "X.shape"
      ],
      "metadata": {
        "colab": {
          "base_uri": "https://localhost:8080/"
        },
        "id": "cEKCg9pMayd_",
        "outputId": "072e2ca5-9c87-4727-e71f-88cc54790513"
      },
      "execution_count": null,
      "outputs": [
        {
          "output_type": "execute_result",
          "data": {
            "text/plain": [
              "(4760, 17258)"
            ]
          },
          "metadata": {},
          "execution_count": 29
        }
      ]
    },
    {
      "cell_type": "code",
      "source": [
        "print(X)"
      ],
      "metadata": {
        "colab": {
          "base_uri": "https://localhost:8080/"
        },
        "id": "iGunr__6aybH",
        "outputId": "6e01ef1e-73c0-4887-cfe7-3c948f8214ed"
      },
      "execution_count": null,
      "outputs": [
        {
          "output_type": "stream",
          "name": "stdout",
          "text": [
            "  (0, 617)\t0.1633382144407513\n",
            "  (0, 492)\t0.1432591540388685\n",
            "  (0, 15413)\t0.1465525095337543\n",
            "  (0, 9675)\t0.14226057295252661\n",
            "  (0, 9465)\t0.1659841367820977\n",
            "  (0, 1390)\t0.16898383612799558\n",
            "  (0, 7825)\t0.09799561597509843\n",
            "  (0, 1214)\t0.13865857545144072\n",
            "  (0, 729)\t0.13415063359531618\n",
            "  (0, 13093)\t0.1432591540388685\n",
            "  (0, 15355)\t0.10477815972666779\n",
            "  (0, 9048)\t0.0866842116160778\n",
            "  (0, 11161)\t0.06250380151644369\n",
            "  (0, 16773)\t0.17654247479915475\n",
            "  (0, 5612)\t0.08603537588547631\n",
            "  (0, 16735)\t0.10690083751525419\n",
            "  (0, 7904)\t0.13348000542112332\n",
            "  (0, 15219)\t0.09800472886453934\n",
            "  (0, 11242)\t0.07277788238484746\n",
            "  (0, 3878)\t0.11998399582562203\n",
            "  (0, 5499)\t0.11454057510303811\n",
            "  (0, 7071)\t0.19822417598406614\n",
            "  (0, 7454)\t0.14745635785412262\n",
            "  (0, 1495)\t0.19712637387361423\n",
            "  (0, 9206)\t0.15186283580984414\n",
            "  :\t:\n",
            "  (4757, 5455)\t0.12491480594769522\n",
            "  (4757, 2967)\t0.16273475835631626\n",
            "  (4757, 8464)\t0.23522565554066333\n",
            "  (4757, 6938)\t0.17088173678136628\n",
            "  (4757, 8379)\t0.17480603856721913\n",
            "  (4757, 15303)\t0.07654356007668191\n",
            "  (4757, 15384)\t0.09754322497537371\n",
            "  (4757, 7649)\t0.11479421494340192\n",
            "  (4757, 10896)\t0.14546473055066447\n",
            "  (4757, 4494)\t0.05675298448720501\n",
            "  (4758, 5238)\t1.0\n",
            "  (4759, 11264)\t0.33947721804318337\n",
            "  (4759, 11708)\t0.33947721804318337\n",
            "  (4759, 205)\t0.3237911628497312\n",
            "  (4759, 8902)\t0.3040290704566037\n",
            "  (4759, 14062)\t0.3237911628497312\n",
            "  (4759, 3058)\t0.2812896191863103\n",
            "  (4759, 7130)\t0.26419662449963793\n",
            "  (4759, 10761)\t0.3126617295732147\n",
            "  (4759, 4358)\t0.18306542312175342\n",
            "  (4759, 14051)\t0.20084315377640435\n",
            "  (4759, 5690)\t0.19534291014627303\n",
            "  (4759, 15431)\t0.19628653185946862\n",
            "  (4759, 1490)\t0.21197258705292082\n",
            "  (4759, 10666)\t0.15888268987343043\n"
          ]
        }
      ]
    },
    {
      "cell_type": "code",
      "source": [
        "from sklearn.metrics.pairwise import cosine_similarity"
      ],
      "metadata": {
        "id": "Ahy3yuzya8tn"
      },
      "execution_count": null,
      "outputs": []
    },
    {
      "cell_type": "code",
      "source": [
        "Similarity_Score = cosine_similarity(X)\n"
      ],
      "metadata": {
        "id": "Bt2r-tyua8rQ"
      },
      "execution_count": null,
      "outputs": []
    },
    {
      "cell_type": "code",
      "source": [
        "Similarity_Score"
      ],
      "metadata": {
        "colab": {
          "base_uri": "https://localhost:8080/"
        },
        "id": "E34i-6l-a8hm",
        "outputId": "460abecc-c4e7-4044-9d7a-fe7f357e8766"
      },
      "execution_count": null,
      "outputs": [
        {
          "output_type": "execute_result",
          "data": {
            "text/plain": [
              "array([[1.        , 0.01351235, 0.03570468, ..., 0.        , 0.        ,\n",
              "        0.        ],\n",
              "       [0.01351235, 1.        , 0.00806674, ..., 0.        , 0.        ,\n",
              "        0.        ],\n",
              "       [0.03570468, 0.00806674, 1.        , ..., 0.        , 0.08014876,\n",
              "        0.        ],\n",
              "       ...,\n",
              "       [0.        , 0.        , 0.        , ..., 1.        , 0.        ,\n",
              "        0.        ],\n",
              "       [0.        , 0.        , 0.08014876, ..., 0.        , 1.        ,\n",
              "        0.        ],\n",
              "       [0.        , 0.        , 0.        , ..., 0.        , 0.        ,\n",
              "        1.        ]])"
            ]
          },
          "metadata": {},
          "execution_count": 33
        }
      ]
    },
    {
      "cell_type": "code",
      "source": [
        "Similarity_Score.shape"
      ],
      "metadata": {
        "colab": {
          "base_uri": "https://localhost:8080/"
        },
        "id": "pbVzODWFa8fx",
        "outputId": "35001920-24c6-44a1-b9c3-e79efba261fe"
      },
      "execution_count": null,
      "outputs": [
        {
          "output_type": "execute_result",
          "data": {
            "text/plain": [
              "(4760, 4760)"
            ]
          },
          "metadata": {},
          "execution_count": 34
        }
      ]
    },
    {
      "cell_type": "code",
      "source": [
        "Favorite_Movie_Name = input(' Enter your favorite movie name : ')"
      ],
      "metadata": {
        "colab": {
          "base_uri": "https://localhost:8080/"
        },
        "id": "xEt_MYAwa8c4",
        "outputId": "2d1b1134-c514-4f22-b961-151acb280fba"
      },
      "execution_count": null,
      "outputs": [
        {
          "name": "stdout",
          "output_type": "stream",
          "text": [
            " Enter your favorite movie name : drama\n"
          ]
        }
      ]
    },
    {
      "cell_type": "code",
      "source": [
        "All_Movies_Title_List = df['Movie_Title'].tolist()"
      ],
      "metadata": {
        "id": "cQZKH7aCa8Z3"
      },
      "execution_count": null,
      "outputs": []
    },
    {
      "cell_type": "code",
      "source": [
        "import difflib"
      ],
      "metadata": {
        "id": "AxYGUU91bJYS"
      },
      "execution_count": null,
      "outputs": []
    },
    {
      "cell_type": "code",
      "source": [
        "Movie_Recommendation = difflib.get_close_matches(Favorite_Movie_Name, All_Movies_Title_List)\n",
        "print(Movie_Recommendation)"
      ],
      "metadata": {
        "colab": {
          "base_uri": "https://localhost:8080/"
        },
        "id": "Imu4AMZJbJV_",
        "outputId": "1f63547c-610b-4c9d-c6fb-2ac2ace5e62d"
      },
      "execution_count": null,
      "outputs": [
        {
          "output_type": "stream",
          "name": "stdout",
          "text": [
            "['Mama', 'Adam', 'Osama']\n"
          ]
        }
      ]
    },
    {
      "cell_type": "code",
      "source": [
        "Close_Match = Movie_Recommendation[0]\n",
        "print(Close_Match)"
      ],
      "metadata": {
        "colab": {
          "base_uri": "https://localhost:8080/"
        },
        "id": "AuTT9Ha5bJTW",
        "outputId": "a5deda13-fa70-46bf-c06a-e9d0fe489b9b"
      },
      "execution_count": null,
      "outputs": [
        {
          "output_type": "stream",
          "name": "stdout",
          "text": [
            "Mama\n"
          ]
        }
      ]
    },
    {
      "cell_type": "code",
      "source": [
        "Index_of_Close_Match_Movie = df[df.Movie_Title == Close_Match]['Movie_ID'].values[0]\n",
        "print(Index_of_Close_Match_Movie)"
      ],
      "metadata": {
        "colab": {
          "base_uri": "https://localhost:8080/"
        },
        "id": "nMWqhiApbJRB",
        "outputId": "5695960b-6d02-4c7c-c05d-786817d1d71a"
      },
      "execution_count": null,
      "outputs": [
        {
          "output_type": "stream",
          "name": "stdout",
          "text": [
            "4082\n"
          ]
        }
      ]
    },
    {
      "cell_type": "code",
      "source": [
        "Recommendation_Score = list(enumerate(Similarity_Score[Index_of_Close_Match_Movie]))\n",
        "print(Recommendation_Score)"
      ],
      "metadata": {
        "colab": {
          "base_uri": "https://localhost:8080/"
        },
        "id": "qbFypIFQbVC9",
        "outputId": "c12be831-f441-4ad6-bb7d-3307bdafbdbe"
      },
      "execution_count": null,
      "outputs": [
        {
          "output_type": "stream",
          "name": "stdout",
          "text": [
            "[(0, 0.03861997592060845), (1, 0.0), (2, 0.0), (3, 0.012258292243670154), (4, 0.004353321268891567), (5, 0.004138191635946861), (6, 0.0), (7, 0.0029639018990599993), (8, 0.015143413546012436), (9, 0.0), (10, 0.0), (11, 0.00427255023930655), (12, 0.004405987616721348), (13, 0.0), (14, 0.03460485162140442), (15, 0.012861479648792237), (16, 0.0034388991811048052), (17, 0.0), (18, 0.003956290472171826), (19, 0.0039807859187769865), (20, 0.004315563545207739), (21, 0.004412194797640553), (22, 0.0), (23, 0.014530843029654733), (24, 0.020244293710510584), (25, 0.00341295310855454), (26, 0.004036991195063029), (27, 0.0), (28, 0.0), (29, 0.022628331596024575), (30, 0.0), (31, 0.054421299562153885), (32, 0.0036181806983480486), (33, 0.01232294450419593), (34, 0.004293299551017997), (35, 0.0), (36, 0.05458077528069486), (37, 0.024529235894065186), (38, 0.0), (39, 0.0), (40, 0.0), (41, 0.004590991270495107), (42, 0.0), (43, 0.0037870773336399527), (44, 0.0034345282956725924), (45, 0.02745548901200554), (46, 0.0), (47, 0.0), (48, 0.004546140779927788), (49, 0.009516573173118244), (50, 0.0), (51, 0.014670730655091835), (52, 0.003944972371883867), (53, 0.0), (54, 0.0), (55, 0.0), (56, 0.0), (57, 0.0), (58, 0.0), (59, 0.030204016133667112), (60, 0.034913445950433886), (61, 0.004073440758147342), (62, 0.015394950705551955), (63, 0.011097569273391391), (64, 0.0), (65, 0.0), (66, 0.004117867327567361), (67, 0.0), (68, 0.00437574518130455), (69, 0.0), (70, 0.0), (71, 0.04181262799653529), (72, 0.0), (73, 0.0), (74, 0.004388061449837309), (75, 0.0), (76, 0.0), (77, 0.04050236964952759), (78, 0.0), (79, 0.004113050185178441), (80, 0.0), (81, 0.0), (82, 0.0031309647126099385), (83, 0.0), (84, 0.0), (85, 0.013414298165207188), (86, 0.008443633549297273), (87, 0.003982942522599972), (88, 0.0), (89, 0.0), (90, 0.0), (91, 0.0256105186943067), (92, 0.029430158207678622), (93, 0.0), (94, 0.0), (95, 0.0), (96, 0.0038186366266959827), (97, 0.02720106595714737), (98, 0.004040064965707868), (99, 0.0), (100, 0.0), (101, 0.0), (102, 0.02935587224988099), (103, 0.0120775096406791), (104, 0.0041519626453684205), (105, 0.004091942301551869), (106, 0.02544497614034618), (107, 0.004679464303493828), (108, 0.06401523115895567), (109, 0.004113414736020328), (110, 0.010034317354402763), (111, 0.003832746627126225), (112, 0.003972160170340296), (113, 0.011466555985143283), (114, 0.013957267527125766), (115, 0.004218837765099695), (116, 0.05101965316184797), (117, 0.0), (118, 0.04341416692803755), (119, 0.03242961432179074), (120, 0.004255168845647888), (121, 0.012815718525659856), (122, 0.0), (123, 0.004514068320089581), (124, 0.003767426628840141), (125, 0.0), (126, 0.003892829517460345), (127, 0.004017369753225864), (128, 0.0), (129, 0.009737094574767109), (130, 0.0), (131, 0.029308861341316057), (132, 0.01236234434075623), (133, 0.0), (134, 0.0), (135, 0.0), (136, 0.0038101043764191627), (137, 0.0), (138, 0.0), (139, 0.0), (140, 0.05806164169297601), (141, 0.0), (142, 0.0034136135980709116), (143, 0.0), (144, 0.018660557790273504), (145, 0.0), (146, 0.010590473547166353), (147, 0.0035695852328052205), (148, 0.0), (149, 0.003407124227397022), (150, 0.0), (151, 0.0), (152, 0.02846936559095752), (153, 0.0), (154, 0.03102705885872263), (155, 0.0), (156, 0.011327509761841688), (157, 0.0039294900455856645), (158, 0.0037009674332085705), (159, 0.0032291482724649285), (160, 0.0), (161, 0.03888434805256663), (162, 0.0), (163, 0.0), (164, 0.0039259745363014326), (165, 0.0035666946836953755), (166, 0.003643823272079119), (167, 0.003985876925169859), (168, 0.021117929509897593), (169, 0.013699906404287558), (170, 0.0), (171, 0.0), (172, 0.004138998159901155), (173, 0.0043241721944427235), (174, 0.013773186621693509), (175, 0.035416915054989465), (176, 0.047716197911027006), (177, 0.0), (178, 0.045100478412763746), (179, 0.0), (180, 0.0), (181, 0.0), (182, 0.004158815537174677), (183, 0.07960077198045175), (184, 0.0036332133663035766), (185, 0.0), (186, 0.0), (187, 0.0), (188, 0.0), (189, 0.0), (190, 0.003520897300841631), (191, 0.0), (192, 0.015081408993166304), (193, 0.014742867986186566), (194, 0.011187613714920372), (195, 0.011720386941562293), (196, 0.0034655241628282402), (197, 0.013166071445979734), (198, 0.04389236682424809), (199, 0.003762072932664933), (200, 0.003645684623963186), (201, 0.039455823164409994), (202, 0.009149672681101215), (203, 0.0039039224619750526), (204, 0.004310453263758963), (205, 0.0), (206, 0.0043767001798553275), (207, 0.030350140108028736), (208, 0.0043803316618654595), (209, 0.004163290858713942), (210, 0.0044467006225856875), (211, 0.014574972470932273), (212, 0.013049446469652717), (213, 0.0038400809559194014), (214, 0.0), (215, 0.00405340672718499), (216, 0.0042774861779435736), (217, 0.036859828776265556), (218, 0.012730232347290866), (219, 0.0), (220, 0.0), (221, 0.01325774225707287), (222, 0.027281410641011628), (223, 0.0), (224, 0.03309815860019837), (225, 0.011291502013174335), (226, 0.004125349827401181), (227, 0.04581873300180703), (228, 0.0031247773982589345), (229, 0.0038465634594251215), (230, 0.0), (231, 0.0), (232, 0.031146859437979655), (233, 0.0), (234, 0.0), (235, 0.00465694672358029), (236, 0.0038755372197732947), (237, 0.0), (238, 0.004208142379597105), (239, 0.0), (240, 0.0), (241, 0.0), (242, 0.003572233458087975), (243, 0.02327148598334402), (244, 0.0), (245, 0.0), (246, 0.004387804967218124), (247, 0.004079499022319833), (248, 0.0), (249, 0.0036184069846365054), (250, 0.0), (251, 0.0035363300619059837), (252, 0.0036546691479567386), (253, 0.004510952693533854), (254, 0.00454760510002939), (255, 0.014601687170392029), (256, 0.0030824140796808287), (257, 0.025257417285054824), (258, 0.0), (259, 0.0426792357541858), (260, 0.0), (261, 0.0), (262, 0.004334400292517995), (263, 0.09546813956123379), (264, 0.0), (265, 0.0), (266, 0.003174612638055292), (267, 0.0034964757714454043), (268, 0.027645347372589637), (269, 0.003540314481318063), (270, 0.004315042483303188), (271, 0.010686398513243494), (272, 0.053705214435447825), (273, 0.0), (274, 0.004737383578587447), (275, 0.010382563303661921), (276, 0.0038902794169759654), (277, 0.0), (278, 0.012009462343416485), (279, 0.013053802670181374), (280, 0.04692791327175762), (281, 0.004657738736941207), (282, 0.03294548984773532), (283, 0.09671914324321679), (284, 0.0), (285, 0.0037367471760851355), (286, 0.0035405261418117633), (287, 0.00387142302566625), (288, 0.0), (289, 0.0), (290, 0.0), (291, 0.0), (292, 0.0040030269078842945), (293, 0.0029336370649842513), (294, 0.0), (295, 0.0), (296, 0.0030922855588654103), (297, 0.0), (298, 0.0), (299, 0.0), (300, 0.0), (301, 0.0), (302, 0.008923540135585458), (303, 0.0), (304, 0.0), (305, 0.0), (306, 0.0), (307, 0.003870087440905401), (308, 0.004613731276694017), (309, 0.011090676529075333), (310, 0.0), (311, 0.0), (312, 0.009886024703076255), (313, 0.0), (314, 0.0), (315, 0.0), (316, 0.0), (317, 0.0036127471669950054), (318, 0.025967990805618922), (319, 0.0), (320, 0.028169327905703624), (321, 0.08751377353960743), (322, 0.026459274424413256), (323, 0.0), (324, 0.028568462055645123), (325, 0.013176622352771623), (326, 0.06889319889946727), (327, 0.0), (328, 0.009535468787958416), (329, 0.07503072210094336), (330, 0.002850840608801724), (331, 0.0), (332, 0.021950820362785485), (333, 0.0), (334, 0.0), (335, 0.0), (336, 0.0), (337, 0.0), (338, 0.034502482934848845), (339, 0.0), (340, 0.0), (341, 0.0), (342, 0.004494609080131249), (343, 0.09732653722259524), (344, 0.0), (345, 0.02604217570680551), (346, 0.0040997779901747146), (347, 0.009851334477445893), (348, 0.03068337522483799), (349, 0.004001616199461095), (350, 0.004491720802084209), (351, 0.0031478188804051877), (352, 0.0), (353, 0.00419038782742096), (354, 0.0), (355, 0.012857699802694203), (356, 0.013300574360976999), (357, 0.0035604074431147765), (358, 0.013561528589085232), (359, 0.003786376304424477), (360, 0.0), (361, 0.042581103036919796), (362, 0.0), (363, 0.0), (364, 0.0035495465497384924), (365, 0.0), (366, 0.0), (367, 0.0), (368, 0.0), (369, 0.0), (370, 0.004119232178855618), (371, 0.004540115205774503), (372, 0.0038442984727517977), (373, 0.013215035147914174), (374, 0.004070736508079852), (375, 0.0), (376, 0.0), (377, 0.004251104209876518), (378, 0.03358510801204453), (379, 0.0), (380, 0.0), (381, 0.03505921824415701), (382, 0.0), (383, 0.0), (384, 0.0), (385, 0.01086868991448281), (386, 0.0), (387, 0.003891224580269763), (388, 0.013163412205947094), (389, 0.0427342987567927), (390, 0.02586168755978315), (391, 0.0), (392, 0.0), (393, 0.0), (394, 0.0), (395, 0.004426688694602979), (396, 0.003964864433793388), (397, 0.0), (398, 0.009886362778510127), (399, 0.0038230926666756007), (400, 0.032751166856741), (401, 0.0), (402, 0.005029740221961636), (403, 0.011818808023159913), (404, 0.0), (405, 0.055885214429245184), (406, 0.014226598967673964), (407, 0.03274782449919503), (408, 0.013183407737892661), (409, 0.0), (410, 0.01297268684437422), (411, 0.0), (412, 0.003370765645398696), (413, 0.0), (414, 0.0), (415, 0.0), (416, 0.0037808779732802374), (417, 0.0), (418, 0.0), (419, 0.00464686678441087), (420, 0.0), (421, 0.0), (422, 0.0), (423, 0.0), (424, 0.0), (425, 0.0), (426, 0.0), (427, 0.0), (428, 0.06673841129756358), (429, 0.04636406125335953), (430, 0.004440836149255522), (431, 0.0637513024983973), (432, 0.003509987741350208), (433, 0.034309179192503786), (434, 0.0039033238441421986), (435, 0.0), (436, 0.05264191938486911), (437, 0.003914926918801652), (438, 0.08247260570497517), (439, 0.0), (440, 0.0), (441, 0.003409511071614865), (442, 0.0034210975070277866), (443, 0.004772177953309803), (444, 0.004597169164889368), (445, 0.0035320707231288762), (446, 0.004024862114941258), (447, 0.004284229951799502), (448, 0.016094823600360353), (449, 0.0037315247827482117), (450, 0.03627048979959139), (451, 0.0), (452, 0.0031075093358106168), (453, 0.03597830721117355), (454, 0.0), (455, 0.009894694277855741), (456, 0.014773481054673713), (457, 0.003786806901837615), (458, 0.004603720206195359), (459, 0.0), (460, 0.0), (461, 0.0), (462, 0.0), (463, 0.003823778968593081), (464, 0.136123704106641), (465, 0.012730224699346272), (466, 0.030644022706389017), (467, 0.026487313405409104), (468, 0.0), (469, 0.04441153143185264), (470, 0.004351537153952804), (471, 0.01302168806191143), (472, 0.014355395316607622), (473, 0.00373274935919808), (474, 0.010316354054490554), (475, 0.004874679792784045), (476, 0.004529044661543583), (477, 0.0), (478, 0.004669481857350941), (479, 0.00412104356898556), (480, 0.04128709590305291), (481, 0.004486963934575591), (482, 0.0043065100990515035), (483, 0.004356281196344833), (484, 0.1649972619952396), (485, 0.0044215401636199915), (486, 0.0), (487, 0.003949649796139982), (488, 0.013487359178931624), (489, 0.01668052086568117), (490, 0.01380778247274263), (491, 0.0), (492, 0.0), (493, 0.01480492093364668), (494, 0.0), (495, 0.0036492160374051196), (496, 0.003522499250761357), (497, 0.0), (498, 0.0), (499, 0.004490098601385442), (500, 0.02858480568436399), (501, 0.0), (502, 0.0043193742779460515), (503, 0.0), (504, 0.014028274513012067), (505, 0.09975639737109104), (506, 0.0), (507, 0.003874119166636948), (508, 0.004744098211475454), (509, 0.004231207893197741), (510, 0.011145981073203885), (511, 0.0), (512, 0.0), (513, 0.0), (514, 0.0), (515, 0.00371904808611228), (516, 0.0), (517, 0.030062869038159763), (518, 0.05186313213061661), (519, 0.003642964915075335), (520, 0.008578553360740288), (521, 0.02587049074012499), (522, 0.03208615544517774), (523, 0.0), (524, 0.012791877547533038), (525, 0.0), (526, 0.005188270354055437), (527, 0.0032663422366369663), (528, 0.0), (529, 0.009878772728224893), (530, 0.0), (531, 0.011787995416728127), (532, 0.0), (533, 0.004640617672488216), (534, 0.0040750153577462835), (535, 0.03731437039675054), (536, 0.0), (537, 0.0), (538, 0.03228145452107906), (539, 0.0), (540, 0.0), (541, 0.0039907997097964765), (542, 0.002893282521747646), (543, 0.004297195846184903), (544, 0.004186941650155234), (545, 0.033221015946303424), (546, 0.0), (547, 0.011756321483370408), (548, 0.0), (549, 0.0), (550, 0.0), (551, 0.0042849420257643515), (552, 0.0), (553, 0.0), (554, 0.0), (555, 0.0), (556, 0.0), (557, 0.0), (558, 0.0038045806650003444), (559, 0.0), (560, 0.0), (561, 0.0), (562, 0.003130125641736099), (563, 0.0037204246916523573), (564, 0.01460842372239305), (565, 0.0), (566, 0.003461482032942084), (567, 0.0), (568, 0.0), (569, 0.0), (570, 0.0), (571, 0.11723540414031489), (572, 0.0), (573, 0.0), (574, 0.0), (575, 0.0), (576, 0.015718868190112027), (577, 0.0), (578, 0.003894018753966826), (579, 0.014135040881364557), (580, 0.004311415159024661), (581, 0.0037181104761313368), (582, 0.0115665084902437), (583, 0.008900636817548166), (584, 0.004269175628645785), (585, 0.0), (586, 0.0), (587, 0.015335364520998603), (588, 0.01448958915325477), (589, 0.06827614340434486), (590, 0.0038027061872041115), (591, 0.0), (592, 0.0), (593, 0.004208302435447178), (594, 0.0036878138402109944), (595, 0.03181558020598102), (596, 0.004622887151843328), (597, 0.0037088758038309193), (598, 0.003844208024126623), (599, 0.0), (600, 0.0), (601, 0.0), (602, 0.0239354895118777), (603, 0.0), (604, 0.0037945673265030702), (605, 0.012269581467065043), (606, 0.014398907506312784), (607, 0.010744749311000557), (608, 0.012639849690668033), (609, 0.011063660340258456), (610, 0.0), (611, 0.006628878575612298), (612, 0.04333334929909304), (613, 0.0), (614, 0.004733885897729679), (615, 0.0), (616, 0.02583029359071143), (617, 0.0034834703241643857), (618, 0.00958490291071301), (619, 0.0), (620, 0.00396279683402718), (621, 0.0), (622, 0.004384135930099612), (623, 0.014809639900017369), (624, 0.030588414829706395), (625, 0.0), (626, 0.028340481891581337), (627, 0.005586832012746599), (628, 0.04228794865196171), (629, 0.0), (630, 0.027149824770907584), (631, 0.048377244935838004), (632, 0.111862114268093), (633, 0.0), (634, 0.0), (635, 0.0), (636, 0.004166846316019704), (637, 0.04343389270660107), (638, 0.01285165261227679), (639, 0.0), (640, 0.0), (641, 0.0029545603765932537), (642, 0.0035638164815578618), (643, 0.00399812263136596), (644, 0.01324620842676847), (645, 0.0033698072578108866), (646, 0.04254291097139662), (647, 0.003620082507564686), (648, 0.025111581751475796), (649, 0.009304907465447234), (650, 0.0), (651, 0.003983370479005778), (652, 0.004220178172709836), (653, 0.0035897668972044512), (654, 0.0), (655, 0.013021306882438808), (656, 0.0), (657, 0.05321436522168243), (658, 0.0), (659, 0.003843255527538249), (660, 0.045188500448940246), (661, 0.0), (662, 0.0), (663, 0.0), (664, 0.0), (665, 0.0098400059572774), (666, 0.0), (667, 0.042173498106469), (668, 0.0), (669, 0.0037963067227295396), (670, 0.005084722527567988), (671, 0.04000937558801467), (672, 0.0036790831471422976), (673, 0.0045024533450238186), (674, 0.0), (675, 0.004499459513474179), (676, 0.003999978779601678), (677, 0.0), (678, 0.0), (679, 0.0), (680, 0.004387840513952785), (681, 0.0), (682, 0.0), (683, 0.004657855482792946), (684, 0.010231917902136036), (685, 0.0), (686, 0.0), (687, 0.0), (688, 0.004570566311451302), (689, 0.004103285805395474), (690, 0.0), (691, 0.0033346516875452504), (692, 0.023223639610319036), (693, 0.013571597511521882), (694, 0.003879895978387282), (695, 0.03694708334601531), (696, 0.004152964298704661), (697, 0.04344081321213558), (698, 0.013192773509524136), (699, 0.0), (700, 0.01077183859281601), (701, 0.004605663055469284), (702, 0.0), (703, 0.01238613414755893), (704, 0.0), (705, 0.012344637196739117), (706, 0.0032770730964861157), (707, 0.003470313832691173), (708, 0.0), (709, 0.05731807540863011), (710, 0.0), (711, 0.0), (712, 0.003645219028139464), (713, 0.04086698422849723), (714, 0.0), (715, 0.004552914227639314), (716, 0.00432658702953154), (717, 0.004302640921738251), (718, 0.0), (719, 0.0033146724475757523), (720, 0.027822846024440375), (721, 0.004727423270719006), (722, 0.0037073030568561694), (723, 0.0), (724, 0.0), (725, 0.0), (726, 0.04410140839681804), (727, 0.004053633396171257), (728, 0.004450070552854035), (729, 0.004600860812577642), (730, 0.0), (731, 0.003946738262130969), (732, 0.02767008629514977), (733, 0.012064731849566083), (734, 0.0038640404018962537), (735, 0.019040561944820934), (736, 0.009883921575483989), (737, 0.015727354553215053), (738, 0.02213550798409544), (739, 0.004708042745358579), (740, 0.040459698865318874), (741, 0.009322632682139616), (742, 0.003878350411205212), (743, 0.004239755419946404), (744, 0.02866461737324445), (745, 0.039687561225051245), (746, 0.0), (747, 0.0), (748, 0.0), (749, 0.004128395716902216), (750, 0.03406976728081231), (751, 0.0), (752, 0.0), (753, 0.0), (754, 0.010518597410825023), (755, 0.004009679768325864), (756, 0.0), (757, 0.0032957198380808472), (758, 0.06820054066053377), (759, 0.003756523763538565), (760, 0.05464621499884764), (761, 0.004126528212688088), (762, 0.0), (763, 0.0), (764, 0.014328938895861043), (765, 0.0), (766, 0.0038176055550591084), (767, 0.02940287858935507), (768, 0.010015908025763987), (769, 0.004071903030569274), (770, 0.0), (771, 0.04074233779542343), (772, 0.0), (773, 0.009497805135300451), (774, 0.014448033082472016), (775, 0.0), (776, 0.0), (777, 0.004958889392827706), (778, 0.0), (779, 0.0), (780, 0.03598017764667963), (781, 0.03046576561752888), (782, 0.003959153142709381), (783, 0.014688859481400016), (784, 0.010180079599547918), (785, 0.03876979086950276), (786, 0.00822317965917501), (787, 0.018959324856627085), (788, 0.016591146082455634), (789, 0.0), (790, 0.0), (791, 0.00443235633136361), (792, 0.004388850255806017), (793, 0.0), (794, 0.004458869933717566), (795, 0.011604377981048478), (796, 0.033884698860941614), (797, 0.0), (798, 0.003937363325236221), (799, 0.004022138427304598), (800, 0.0037085076508963895), (801, 0.02461352696372617), (802, 0.03207713068112494), (803, 0.0), (804, 0.0037109390077948497), (805, 0.030924579523739164), (806, 0.0042578462484782744), (807, 0.0), (808, 0.0036373333947841507), (809, 0.0), (810, 0.0), (811, 0.0), (812, 0.0), (813, 0.015661101596122308), (814, 0.0), (815, 0.003686069846399606), (816, 0.0033581261926403936), (817, 0.003992720099930773), (818, 0.00389777911505063), (819, 0.009305782531513164), (820, 0.00867269815405019), (821, 0.0), (822, 0.0), (823, 0.00475574222311714), (824, 0.029207784744596472), (825, 0.026060355795342004), (826, 0.0761934459833116), (827, 0.0), (828, 0.0038975354751365414), (829, 0.0037901845411817013), (830, 0.01465785148604891), (831, 0.002912720839608125), (832, 0.004195162876603244), (833, 0.0), (834, 0.0), (835, 0.0), (836, 0.0), (837, 0.0), (838, 0.01296597016917729), (839, 0.0), (840, 0.0), (841, 0.0), (842, 0.0), (843, 0.011467119723308475), (844, 0.030059196395043095), (845, 0.004319451977806696), (846, 0.097331594145627), (847, 0.01599004456031041), (848, 0.03372621298551373), (849, 0.0), (850, 0.004200330299622301), (851, 0.003614451523170536), (852, 0.041011023460004604), (853, 0.055238166582306195), (854, 0.0039375811378012425), (855, 0.0), (856, 0.0036828561892968117), (857, 0.015398106746735106), (858, 0.0027858085497488314), (859, 0.049856004132674846), (860, 0.0047804472396375695), (861, 0.0035529297276974967), (862, 0.0), (863, 0.0037714298624743), (864, 0.00416910208811408), (865, 0.057762902346120956), (866, 0.003835626440452888), (867, 0.01374244747457538), (868, 0.0038307519575573527), (869, 0.0), (870, 0.004034396464932747), (871, 0.014327206317238715), (872, 0.004417029831563603), (873, 0.01051361720220768), (874, 0.0035580894018614317), (875, 0.0), (876, 0.0047093757599974105), (877, 0.07033222713972495), (878, 0.003896980296499194), (879, 0.01454755919511741), (880, 0.013743772672703892), (881, 0.0), (882, 0.0), (883, 0.013320021814984278), (884, 0.004292629259211455), (885, 0.01250712097290121), (886, 0.05986248935805001), (887, 0.004486246175455622), (888, 0.004572759052598768), (889, 0.005309917886741383), (890, 0.014542684514025406), (891, 0.13714756484730428), (892, 0.0), (893, 0.0), (894, 0.004087156985345034), (895, 0.09716712569371655), (896, 0.00450726126338025), (897, 0.014050052041304478), (898, 0.0), (899, 0.0038033302894883506), (900, 0.0038576680614306573), (901, 0.0034173951090981083), (902, 0.0), (903, 0.0038675012544793193), (904, 0.0), (905, 0.0), (906, 0.0), (907, 0.012823062974494499), (908, 0.0), (909, 0.0), (910, 0.003776852305535928), (911, 0.00390882478904274), (912, 0.0), (913, 0.0), (914, 0.0), (915, 0.0), (916, 0.0), (917, 0.003693076212198443), (918, 0.0), (919, 0.0), (920, 0.0), (921, 0.012977458909490506), (922, 0.0046290111686808945), (923, 0.032205278786618406), (924, 0.012145881386388491), (925, 0.004744111230139856), (926, 0.007657657468716151), (927, 0.0), (928, 0.0), (929, 0.010058713174590651), (930, 0.014800337215765662), (931, 0.0), (932, 0.06368339153919159), (933, 0.004213700617783654), (934, 0.003760273589743865), (935, 0.0038376226964069453), (936, 0.0037123701464113023), (937, 0.0048204129166386535), (938, 0.009841365014493493), (939, 0.00389161805438616), (940, 0.009758804837459134), (941, 0.0038643298851232495), (942, 0.0033542311285592362), (943, 0.0), (944, 0.038025632061898434), (945, 0.0), (946, 0.009770246740804409), (947, 0.005565573194187411), (948, 0.012362173011983833), (949, 0.004907614016651243), (950, 0.011470905308543033), (951, 0.003483048337495542), (952, 0.08146975683257059), (953, 0.003322004691965566), (954, 0.0), (955, 0.0), (956, 0.0), (957, 0.0037674503216927726), (958, 0.0), (959, 0.013543867549639991), (960, 0.0), (961, 0.04377685180157407), (962, 0.003912259647631346), (963, 0.03126000839678234), (964, 0.03527266910554885), (965, 0.0), (966, 0.01316560644537349), (967, 0.004555241309408076), (968, 0.0037374674643243146), (969, 0.004211249693694403), (970, 0.02270218577337397), (971, 0.010105841221531431), (972, 0.0), (973, 0.013737838560116351), (974, 0.0), (975, 0.013053726762662395), (976, 0.030490875196989644), (977, 0.0), (978, 0.0), (979, 0.0), (980, 0.004264240509326605), (981, 0.003714466731564067), (982, 0.010800304707647283), (983, 0.00964289217123181), (984, 0.02948353564369307), (985, 0.015950908893332387), (986, 0.004122765976177447), (987, 0.004279458039432871), (988, 0.004098096335785875), (989, 0.004058148188401428), (990, 0.0), (991, 0.004428867222443616), (992, 0.0), (993, 0.03329776049565951), (994, 0.07659003893612591), (995, 0.0), (996, 0.0), (997, 0.0), (998, 0.015807372714147474), (999, 0.015794435481294), (1000, 0.003711011833427069), (1001, 0.04216352916042658), (1002, 0.013285787814867533), (1003, 0.0), (1004, 0.02962749366397357), (1005, 0.003153632663002623), (1006, 0.004310528255225101), (1007, 0.06722121642434269), (1008, 0.03625605805838989), (1009, 0.003660207924423354), (1010, 0.0), (1011, 0.0), (1012, 0.0), (1013, 0.0), (1014, 0.0), (1015, 0.0044599997046533505), (1016, 0.0), (1017, 0.004010308157947931), (1018, 0.0), (1019, 0.007830450380061357), (1020, 0.013377724588732973), (1021, 0.004109755557146115), (1022, 0.0), (1023, 0.01567401977064875), (1024, 0.0), (1025, 0.0), (1026, 0.013682893747966614), (1027, 0.013333708782035547), (1028, 0.0), (1029, 0.0), (1030, 0.003993848961766881), (1031, 0.0), (1032, 0.003896954685433198), (1033, 0.003954795952252291), (1034, 0.01335355677774329), (1035, 0.004008224650142505), (1036, 0.029233786993303767), (1037, 0.003356281788427815), (1038, 0.008966838443509569), (1039, 0.02442802808983845), (1040, 0.010890866913248493), (1041, 0.0038728928463398335), (1042, 0.003445898257463239), (1043, 0.004508773306806139), (1044, 0.05605602077998193), (1045, 0.0), (1046, 0.0), (1047, 0.0), (1048, 0.004287504367346359), (1049, 0.05083723223300586), (1050, 0.0035149697029401763), (1051, 0.0), (1052, 0.01290905722813299), (1053, 0.016400861098808457), (1054, 0.11687190390678105), (1055, 0.038634669948114264), (1056, 0.0), (1057, 0.0), (1058, 0.0), (1059, 0.0040841400823644234), (1060, 0.013453601911626391), (1061, 0.008838910279778261), (1062, 0.0), (1063, 0.0), (1064, 0.0049986869419088), (1065, 0.012744757670582989), (1066, 0.0), (1067, 0.0), (1068, 0.0), (1069, 0.0), (1070, 0.0), (1071, 0.004402987158777632), (1072, 0.004086526564753908), (1073, 0.0643403031634712), (1074, 0.0), (1075, 0.02503169684280035), (1076, 0.0), (1077, 0.01424537953475984), (1078, 0.0034359914253894075), (1079, 0.003794165265733259), (1080, 0.03894403817545249), (1081, 0.0), (1082, 0.0), (1083, 0.004292843354730792), (1084, 0.013663307417057645), (1085, 0.0), (1086, 0.0), (1087, 0.03151210414873896), (1088, 0.02649657377859426), (1089, 0.0), (1090, 0.0), (1091, 0.0), (1092, 0.0), (1093, 0.0), (1094, 0.009608334583537171), (1095, 0.0), (1096, 0.004013949651552116), (1097, 0.0), (1098, 0.003364441759868593), (1099, 0.03067530688533321), (1100, 0.004057631483339498), (1101, 0.0), (1102, 0.004094888720888983), (1103, 0.0), (1104, 0.0), (1105, 0.0), (1106, 0.0), (1107, 0.003838783662713922), (1108, 0.12628741549641137), (1109, 0.015461860061966582), (1110, 0.0040555102972648915), (1111, 0.027458095494837725), (1112, 0.04625157340329313), (1113, 0.0), (1114, 0.03044541921102655), (1115, 0.021590612977122683), (1116, 0.0), (1117, 0.00396358072819093), (1118, 0.0), (1119, 0.004405101555579737), (1120, 0.0), (1121, 0.005169124431703034), (1122, 0.014196252179110143), (1123, 0.003921230971590626), (1124, 0.00427753154639136), (1125, 0.0), (1126, 0.009694951586074401), (1127, 0.026446738976179014), (1128, 0.0), (1129, 0.0), (1130, 0.0), (1131, 0.03109939881214263), (1132, 0.003921125037629905), (1133, 0.0), (1134, 0.0), (1135, 0.0), (1136, 0.003617127266596691), (1137, 0.022061157696113547), (1138, 0.0041736517584632475), (1139, 0.0), (1140, 0.004417718628355838), (1141, 0.004409250826548915), (1142, 0.0), (1143, 0.0), (1144, 0.0032894555837864044), (1145, 0.0192818974610911), (1146, 0.09754386360815809), (1147, 0.0), (1148, 0.004658431511586525), (1149, 0.039005776242194895), (1150, 0.0), (1151, 0.0), (1152, 0.0), (1153, 0.0), (1154, 0.10452079469665199), (1155, 0.0), (1156, 0.0), (1157, 0.009008412993339458), (1158, 0.0), (1159, 0.009716452527777428), (1160, 0.0039161765645309606), (1161, 0.0037244297203628094), (1162, 0.03156089311731021), (1163, 0.004118643523313697), (1164, 0.057927073105163575), (1165, 0.0670063242317005), (1166, 0.0), (1167, 0.0), (1168, 0.004954519139828135), (1169, 0.004828811859180933), (1170, 0.013959672174229665), (1171, 0.0), (1172, 0.04297718473074053), (1173, 0.0), (1174, 0.004217925065904584), (1175, 0.014072287868970527), (1176, 0.0042116038951429315), (1177, 0.0038866242990666213), (1178, 0.0), (1179, 0.004125343272648964), (1180, 0.009145088095571713), (1181, 0.0), (1182, 0.0042095521221631755), (1183, 0.0038296717235555837), (1184, 0.015907735626386824), (1185, 0.0), (1186, 0.0036228045417877764), (1187, 0.016382874145999204), (1188, 0.046433737698247435), (1189, 0.0), (1190, 0.00933441013508324), (1191, 0.0041421874725486325), (1192, 0.004322829665042687), (1193, 0.030719390498994713), (1194, 0.0), (1195, 0.0), (1196, 0.0), (1197, 0.0), (1198, 0.0), (1199, 0.012300633413070186), (1200, 0.008924029444268846), (1201, 0.011119244266360583), (1202, 0.028366161135871516), (1203, 0.0038738865487800665), (1204, 0.06328116278931481), (1205, 0.0), (1206, 0.0038569639091180752), (1207, 0.0), (1208, 0.05465888751630692), (1209, 0.0034382290739462446), (1210, 0.0), (1211, 0.0), (1212, 0.0), (1213, 0.0), (1214, 0.0), (1215, 0.0035316325704527743), (1216, 0.012644410829287547), (1217, 0.01210566607787654), (1218, 0.0), (1219, 0.03661445656694377), (1220, 0.012585383334255231), (1221, 0.02233911219792873), (1222, 0.0317022979952013), (1223, 0.004141873874094396), (1224, 0.00430691432433609), (1225, 0.00435260470307883), (1226, 0.029020813095291944), (1227, 0.0), (1228, 0.0), (1229, 0.004307434491766132), (1230, 0.0), (1231, 0.0), (1232, 0.00415774288424187), (1233, 0.0), (1234, 0.004369064721698117), (1235, 0.0), (1236, 0.008928861920270283), (1237, 0.012657791367280893), (1238, 0.0), (1239, 0.0), (1240, 0.0), (1241, 0.0033918222809216523), (1242, 0.0), (1243, 0.004500234633424081), (1244, 0.08932322087517976), (1245, 0.013516420259333918), (1246, 0.0), (1247, 0.013468004149942168), (1248, 0.013397231936503107), (1249, 0.0), (1250, 0.0), (1251, 0.0036510029894327254), (1252, 0.004087804682019044), (1253, 0.0), (1254, 0.004228587424096116), (1255, 0.0039202504020645354), (1256, 0.009270081994561344), (1257, 0.004065713080483944), (1258, 0.0), (1259, 0.0), (1260, 0.0), (1261, 0.013500577973005315), (1262, 0.0), (1263, 0.026497480867458734), (1264, 0.0049699744638476645), (1265, 0.0), (1266, 0.0), (1267, 0.0), (1268, 0.04693885696936658), (1269, 0.0), (1270, 0.0), (1271, 0.0), (1272, 0.0), (1273, 0.013270762446537663), (1274, 0.0), (1275, 0.004760700024642426), (1276, 0.0), (1277, 0.0030853804476031607), (1278, 0.0), (1279, 0.0), (1280, 0.0), (1281, 0.0), (1282, 0.0), (1283, 0.0), (1284, 0.004016378201366335), (1285, 0.0), (1286, 0.0136700008391696), (1287, 0.0), (1288, 0.0), (1289, 0.0), (1290, 0.0036552735136771773), (1291, 0.0), (1292, 0.0), (1293, 0.0), (1294, 0.004235541823693019), (1295, 0.029028596026855855), (1296, 0.0), (1297, 0.0), (1298, 0.004103057466964967), (1299, 0.0), (1300, 0.0), (1301, 0.003604602539277461), (1302, 0.048313559819366275), (1303, 0.0033265530855218673), (1304, 0.004127286402908703), (1305, 0.011527673542178655), (1306, 0.024378638636219765), (1307, 0.0), (1308, 0.0037853648495265032), (1309, 0.0), (1310, 0.0), (1311, 0.0), (1312, 0.0034818505434304724), (1313, 0.01374051715585365), (1314, 0.0), (1315, 0.0), (1316, 0.0), (1317, 0.1110787130290346), (1318, 0.003679659678378262), (1319, 0.004047933435650532), (1320, 0.0), (1321, 0.0), (1322, 0.0), (1323, 0.0), (1324, 0.014874145720645467), (1325, 0.004472002922002003), (1326, 0.0), (1327, 0.0), (1328, 0.0), (1329, 0.009688630147461094), (1330, 0.0), (1331, 0.0), (1332, 0.047825780184865066), (1333, 0.0), (1334, 0.004235473440962702), (1335, 0.03130458805291803), (1336, 0.0), (1337, 0.004210521745504347), (1338, 0.046276748433085976), (1339, 0.004385512557639262), (1340, 0.0035039063321516944), (1341, 0.0), (1342, 0.0), (1343, 0.0), (1344, 0.04345535928714404), (1345, 0.009796325168031883), (1346, 0.009874179954252287), (1347, 0.0), (1348, 0.0), (1349, 0.0046488522182588045), (1350, 0.013582678344673065), (1351, 0.0030427473492543023), (1352, 0.003504709109647373), (1353, 0.0), (1354, 0.0), (1355, 0.004225148094169787), (1356, 0.003492126027640791), (1357, 0.0038022257116648106), (1358, 0.0), (1359, 0.004433507243597486), (1360, 0.0037550769348073036), (1361, 0.0), (1362, 0.007296047756379352), (1363, 0.009317780104490503), (1364, 0.014478860420286113), (1365, 0.011774912055844392), (1366, 0.08529197477998596), (1367, 0.0034455162496886344), (1368, 0.0), (1369, 0.0033769391849777864), (1370, 0.003557556317279054), (1371, 0.0), (1372, 0.013080325138407704), (1373, 0.0), (1374, 0.0), (1375, 0.003921456874544336), (1376, 0.0), (1377, 0.0033282497178506363), (1378, 0.013932162813996691), (1379, 0.0), (1380, 0.0), (1381, 0.0), (1382, 0.014392784909393684), (1383, 0.004657450979150604), (1384, 0.02391463523516826), (1385, 0.004131104459691879), (1386, 0.0), (1387, 0.0037246389953419657), (1388, 0.0), (1389, 0.0), (1390, 0.0724241167962161), (1391, 0.0), (1392, 0.0036683488082647556), (1393, 0.0), (1394, 0.012354089399297276), (1395, 0.0), (1396, 0.0), (1397, 0.0035679463867294135), (1398, 0.01614181838781645), (1399, 0.0), (1400, 0.06730802496439157), (1401, 0.0), (1402, 0.004326478942458446), (1403, 0.03293974348339049), (1404, 0.003900088487306732), (1405, 0.008631564672271063), (1406, 0.0), (1407, 0.0), (1408, 0.013580477313595667), (1409, 0.004413997771457298), (1410, 0.01409302454729033), (1411, 0.004077097076600581), (1412, 0.0), (1413, 0.004187306640418617), (1414, 0.0036808252112036036), (1415, 0.011424440879790356), (1416, 0.0315874648647401), (1417, 0.003220668381960736), (1418, 0.0), (1419, 0.0), (1420, 0.0), (1421, 0.013442497495837227), (1422, 0.0040172145356461375), (1423, 0.01237518202475265), (1424, 0.011209074403625166), (1425, 0.0), (1426, 0.0), (1427, 0.011430442180775068), (1428, 0.0), (1429, 0.004960076539643616), (1430, 0.0), (1431, 0.0), (1432, 0.0), (1433, 0.0038385065100659194), (1434, 0.0037669508146577465), (1435, 0.0), (1436, 0.0), (1437, 0.0), (1438, 0.013809316496516113), (1439, 0.004319997050983786), (1440, 0.0041896100064232385), (1441, 0.010584073694277309), (1442, 0.00816942492109172), (1443, 0.0), (1444, 0.0), (1445, 0.010258264628006625), (1446, 0.003953859892460974), (1447, 0.0), (1448, 0.0038123752331418056), (1449, 0.0), (1450, 0.003555547575537953), (1451, 0.03552216238102908), (1452, 0.0), (1453, 0.007899638656961677), (1454, 0.03673154662415551), (1455, 0.0), (1456, 0.028770088969457742), (1457, 0.009143346536346462), (1458, 0.0), (1459, 0.0), (1460, 0.0), (1461, 0.0), (1462, 0.0037843753594624468), (1463, 0.06922801377406669), (1464, 0.0033797123183143016), (1465, 0.003577085319830774), (1466, 0.0), (1467, 0.0), (1468, 0.02598531874227862), (1469, 0.0), (1470, 0.0), (1471, 0.0030596174255517524), (1472, 0.014106120983411595), (1473, 0.0), (1474, 0.05247175197041025), (1475, 0.014536373926324174), (1476, 0.014127152303733643), (1477, 0.0038055755374375127), (1478, 0.08582734873329598), (1479, 0.01529361053015849), (1480, 0.0), (1481, 0.003993320650156934), (1482, 0.008581833878553905), (1483, 0.0040939134766822555), (1484, 0.004364391654634671), (1485, 0.008857989580911474), (1486, 0.0), (1487, 0.04011601881897207), (1488, 0.0041362890575933), (1489, 0.015668383267043628), (1490, 0.0), (1491, 0.0), (1492, 0.0), (1493, 0.0), (1494, 0.00425048021675), (1495, 0.0), (1496, 0.0), (1497, 0.004708780525573477), (1498, 0.004586986683198181), (1499, 0.037002222748944526), (1500, 0.0040766158977452545), (1501, 0.00980566132698845), (1502, 0.0), (1503, 0.04354642861313419), (1504, 0.0), (1505, 0.0), (1506, 0.027949991198284004), (1507, 0.0), (1508, 0.0), (1509, 0.002818614781941816), (1510, 0.03336987937930341), (1511, 0.0), (1512, 0.0), (1513, 0.004297977502039948), (1514, 0.0038184017824728776), (1515, 0.0), (1516, 0.004249123840568106), (1517, 0.0), (1518, 0.015017713190606248), (1519, 0.003815358440754576), (1520, 0.0), (1521, 0.0), (1522, 0.0), (1523, 0.008387857483293704), (1524, 0.03463499758533205), (1525, 0.0), (1526, 0.0), (1527, 0.004037918097812988), (1528, 0.030374663481918713), (1529, 0.0), (1530, 0.05695348115756167), (1531, 0.0), (1532, 0.0), (1533, 0.01414455321027406), (1534, 0.0), (1535, 0.0), (1536, 0.04069467039675644), (1537, 0.004417332591112431), (1538, 0.003745052612857058), (1539, 0.012433703102653041), (1540, 0.04685936803946977), (1541, 0.009580137067366715), (1542, 0.0), (1543, 0.09719983389709685), (1544, 0.028141674981375174), (1545, 0.0), (1546, 0.0), (1547, 0.05152522262069539), (1548, 0.0), (1549, 0.009684734474086912), (1550, 0.004068426602020603), (1551, 0.0), (1552, 0.04104061454362857), (1553, 0.00364136558965605), (1554, 0.0), (1555, 0.0038409254127893546), (1556, 0.0), (1557, 0.0), (1558, 0.012962052417405896), (1559, 0.037149876333730444), (1560, 0.0), (1561, 0.0), (1562, 0.0), (1563, 0.0), (1564, 0.0), (1565, 0.02031094567817627), (1566, 0.009825973268684415), (1567, 0.0), (1568, 0.0), (1569, 0.008815344806134502), (1570, 0.046525336427026984), (1571, 0.003411154958223785), (1572, 0.03517162323285999), (1573, 0.0), (1574, 0.00416359628754349), (1575, 0.0), (1576, 0.0), (1577, 0.0), (1578, 0.0), (1579, 0.027556097755176027), (1580, 0.004552790827333733), (1581, 0.0), (1582, 0.003961050661238985), (1583, 0.0), (1584, 0.0), (1585, 0.010046891090569504), (1586, 0.0), (1587, 0.0), (1588, 0.0), (1589, 0.00961743563182192), (1590, 0.0), (1591, 0.0), (1592, 0.0), (1593, 0.005000096240526637), (1594, 0.015612035745934592), (1595, 0.0037338303255821633), (1596, 0.0), (1597, 0.0039744519426793854), (1598, 0.004072875739442948), (1599, 0.0), (1600, 0.0), (1601, 0.0), (1602, 0.0), (1603, 0.0), (1604, 0.0), (1605, 0.012597372313411584), (1606, 0.009133424144550144), (1607, 0.0), (1608, 0.0036418761852422587), (1609, 0.0), (1610, 0.009090147698048447), (1611, 0.0), (1612, 0.013885318187902833), (1613, 0.030493182117823297), (1614, 0.0), (1615, 0.0), (1616, 0.012253861850824438), (1617, 0.004027971672875064), (1618, 0.009506731666668015), (1619, 0.014859935624196987), (1620, 0.0038579667088961054), (1621, 0.004067418472860493), (1622, 0.0), (1623, 0.0), (1624, 0.011346901169165315), (1625, 0.0037100744178728516), (1626, 0.034266245894680476), (1627, 0.003526865038571865), (1628, 0.012758697882693196), (1629, 0.014393658974031127), (1630, 0.0), (1631, 0.0), (1632, 0.0), (1633, 0.0), (1634, 0.0138201961311856), (1635, 0.0), (1636, 0.029806125844961055), (1637, 0.004425710071165267), (1638, 0.0), (1639, 0.008311642362552015), (1640, 0.0), (1641, 0.0038260464281994234), (1642, 0.0038185921263709476), (1643, 0.0043316204913856115), (1644, 0.0), (1645, 0.003985879191631886), (1646, 0.0), (1647, 0.0), (1648, 0.010413220020867149), (1649, 0.0), (1650, 0.003825884792947356), (1651, 0.0), (1652, 0.0), (1653, 0.004023465804500148), (1654, 0.0), (1655, 0.016961756759279457), (1656, 0.004730323282416284), (1657, 0.0), (1658, 0.004567944854425837), (1659, 0.0), (1660, 0.004310886608555411), (1661, 0.0), (1662, 0.0), (1663, 0.0038869126834534247), (1664, 0.0), (1665, 0.003863130761355221), (1666, 0.013750754085879446), (1667, 0.0038024742478986492), (1668, 0.0), (1669, 0.0), (1670, 0.004342567247418489), (1671, 0.003994587315332849), (1672, 0.0283749460402979), (1673, 0.0), (1674, 0.0), (1675, 0.0037586966642391396), (1676, 0.0), (1677, 0.0532496902111594), (1678, 0.07447121791861952), (1679, 0.0), (1680, 0.0037471417745723475), (1681, 0.0), (1682, 0.0130852709335608), (1683, 0.004415104346913278), (1684, 0.0), (1685, 0.014752972746302825), (1686, 0.0), (1687, 0.004374573905792078), (1688, 0.03370619053490613), (1689, 0.0), (1690, 0.012563064784791005), (1691, 0.0035204720626886062), (1692, 0.0), (1693, 0.01309223375424696), (1694, 0.0), (1695, 0.0), (1696, 0.0), (1697, 0.0), (1698, 0.0), (1699, 0.0), (1700, 0.0), (1701, 0.0), (1702, 0.0), (1703, 0.0042689120630416645), (1704, 0.0), (1705, 0.0), (1706, 0.00416349338713572), (1707, 0.01543864051851612), (1708, 0.004431438166687469), (1709, 0.0), (1710, 0.0039083101920973674), (1711, 0.0051739913445668865), (1712, 0.00441018665626872), (1713, 0.0), (1714, 0.0), (1715, 0.0), (1716, 0.004627181089047289), (1717, 0.004249237920016337), (1718, 0.010291183011738604), (1719, 0.01258439251658753), (1720, 0.0), (1721, 0.0), (1722, 0.014080982221474875), (1723, 0.0), (1724, 0.04319125667881502), (1725, 0.0), (1726, 0.0), (1727, 0.1329769248518974), (1728, 0.0), (1729, 0.024473144227166604), (1730, 0.003761548199287134), (1731, 0.04154109024826454), (1732, 0.0), (1733, 0.03624308716448738), (1734, 0.0), (1735, 0.0), (1736, 0.004319253212273737), (1737, 0.0), (1738, 0.02783042208368495), (1739, 0.0037098139887877858), (1740, 0.03411411321341337), (1741, 0.0), (1742, 0.0039011787881144478), (1743, 0.01186899402017827), (1744, 0.040899749920297955), (1745, 0.0), (1746, 0.009163093121472982), (1747, 0.010851591348587606), (1748, 0.004830598400903487), (1749, 0.0), (1750, 0.0), (1751, 0.0), (1752, 0.02221573302868828), (1753, 0.0), (1754, 0.0045450693222617595), (1755, 0.0), (1756, 0.0356618005056867), (1757, 0.0), (1758, 0.0), (1759, 0.043876673510174685), (1760, 0.0038146752102838403), (1761, 0.0), (1762, 0.05073298956779051), (1763, 0.01194089176147874), (1764, 0.012086828598554464), (1765, 0.00426728439497114), (1766, 0.0), (1767, 0.05162402585620059), (1768, 0.014336397090069506), (1769, 0.04337735152219173), (1770, 0.0), (1771, 0.009572016427600655), (1772, 0.02331685090293694), (1773, 0.0), (1774, 0.0031503124959464655), (1775, 0.0), (1776, 0.0036336181236099395), (1777, 0.0), (1778, 0.009144922435785007), (1779, 0.00439271933392606), (1780, 0.0026914872748170903), (1781, 0.024943908194166652), (1782, 0.012753343220186201), (1783, 0.0), (1784, 0.0), (1785, 0.0), (1786, 0.010798244801208733), (1787, 0.009299044551655788), (1788, 0.0), (1789, 0.0), (1790, 0.0), (1791, 0.0), (1792, 0.004848668492960051), (1793, 0.0313439195397557), (1794, 0.03670509454117429), (1795, 0.0), (1796, 0.003764514758717122), (1797, 0.008607473695759245), (1798, 0.014969393062467869), (1799, 0.0), (1800, 0.03589407343363468), (1801, 0.0034649880396555493), (1802, 0.008362393683408695), (1803, 0.01072226136302135), (1804, 0.009847889598093885), (1805, 0.004495260818614782), (1806, 0.010718715500035038), (1807, 0.004047018472997199), (1808, 0.0037002525966115052), (1809, 0.0), (1810, 0.0), (1811, 0.004092735908636703), (1812, 0.0), (1813, 0.004005631809623605), (1814, 0.0037989477126507214), (1815, 0.0), (1816, 0.00885032476090634), (1817, 0.03852190654547571), (1818, 0.0), (1819, 0.01299078702051876), (1820, 0.0), (1821, 0.04498925961903131), (1822, 0.004355404081064155), (1823, 0.0), (1824, 0.03554750936750033), (1825, 0.0), (1826, 0.003730909068562435), (1827, 0.0488831854244933), (1828, 0.0035600971948174616), (1829, 0.04605604681449113), (1830, 0.0036558240409861943), (1831, 0.00407949935106664), (1832, 0.0), (1833, 0.011940082992783903), (1834, 0.0), (1835, 0.0), (1836, 0.0), (1837, 0.0), (1838, 0.0), (1839, 0.0), (1840, 0.0), (1841, 0.0), (1842, 0.0), (1843, 0.004679657601792679), (1844, 0.0), (1845, 0.07029465211263983), (1846, 0.03683972707743023), (1847, 0.030267761522376996), (1848, 0.004441508929790385), (1849, 0.0), (1850, 0.0), (1851, 0.014516889807072149), (1852, 0.0), (1853, 0.004367225776046107), (1854, 0.0039392855353528496), (1855, 0.0), (1856, 0.0), (1857, 0.0), (1858, 0.015602673495491808), (1859, 0.0), (1860, 0.01434021748431712), (1861, 0.0031274069679219194), (1862, 0.004620856925765836), (1863, 0.0), (1864, 0.003968384679246757), (1865, 0.0037430007622713123), (1866, 0.015225779899803792), (1867, 0.009696268224511386), (1868, 0.0), (1869, 0.012624900350899018), (1870, 0.02620200502218938), (1871, 0.011098253181155602), (1872, 0.004173035065253919), (1873, 0.0), (1874, 0.004458926090297393), (1875, 0.012804763072753609), (1876, 0.004149617531263389), (1877, 0.003937121500758535), (1878, 0.013239711992224325), (1879, 0.0), (1880, 0.009572430914558812), (1881, 0.010269119063356803), (1882, 0.004042515879957807), (1883, 0.030247324020116786), (1884, 0.0038563645073318585), (1885, 0.016338179771931794), (1886, 0.0032793669510554325), (1887, 0.004675642716119487), (1888, 0.009644615234160547), (1889, 0.0), (1890, 0.004578158690105787), (1891, 0.043855528866767336), (1892, 0.00374652006349757), (1893, 0.12111115950102386), (1894, 0.0), (1895, 0.0), (1896, 0.00437699819694275), (1897, 0.015118703959787805), (1898, 0.0), (1899, 0.0), (1900, 0.0), (1901, 0.03875734132105789), (1902, 0.04408652197000763), (1903, 0.009184328999911884), (1904, 0.0), (1905, 0.015202183060450342), (1906, 0.037945452274755535), (1907, 0.004441135176898005), (1908, 0.0676749466103125), (1909, 0.015826951444719732), (1910, 0.0), (1911, 0.0), (1912, 0.0), (1913, 0.028548135890523258), (1914, 0.0), (1915, 0.0), (1916, 0.004347869088035239), (1917, 0.0), (1918, 0.03532397395242433), (1919, 0.002883765339773846), (1920, 0.0038148769110974944), (1921, 0.04150099891105241), (1922, 0.004165008859297017), (1923, 0.0045822188307272855), (1924, 0.00471362118507542), (1925, 0.04691303351885007), (1926, 0.0), (1927, 0.0), (1928, 0.0), (1929, 0.003933328117370934), (1930, 0.0), (1931, 0.00421551918973446), (1932, 0.0), (1933, 0.0), (1934, 0.0036840299876455007), (1935, 0.00891190685513017), (1936, 0.0042168627167112555), (1937, 0.0), (1938, 0.0), (1939, 0.0), (1940, 0.0), (1941, 0.0), (1942, 0.08267470446804928), (1943, 0.00359121911581974), (1944, 0.0), (1945, 0.0), (1946, 0.014328721429677421), (1947, 0.004789637775654385), (1948, 0.0), (1949, 0.030392464391228186), (1950, 0.011389694335840769), (1951, 0.014794260287850518), (1952, 0.0), (1953, 0.0), (1954, 0.02962372036465201), (1955, 0.010312922955075316), (1956, 0.009930855805704632), (1957, 0.0), (1958, 0.027426820716500457), (1959, 0.035755856905003), (1960, 0.0045681783470277754), (1961, 0.0), (1962, 0.0), (1963, 0.007943577509298244), (1964, 0.09492350247640403), (1965, 0.041899272199423895), (1966, 0.0), (1967, 0.004008208104645315), (1968, 0.00484534202759663), (1969, 0.003981719146956674), (1970, 0.0), (1971, 0.0034971183019946784), (1972, 0.0), (1973, 0.0), (1974, 0.00897254183394723), (1975, 0.0), (1976, 0.0), (1977, 0.012415068520397594), (1978, 0.0), (1979, 0.0), (1980, 0.04307869392674472), (1981, 0.0), (1982, 0.0), (1983, 0.0042970696928123905), (1984, 0.009023893090311312), (1985, 0.004169119574268958), (1986, 0.0), (1987, 0.0), (1988, 0.0), (1989, 0.003313880791833356), (1990, 0.0), (1991, 0.027258227360606103), (1992, 0.02738797561875175), (1993, 0.0), (1994, 0.0), (1995, 0.00443652354472539), (1996, 0.0), (1997, 0.03633346081177001), (1998, 0.0), (1999, 0.0), (2000, 0.011111814734478597), (2001, 0.008454307373310299), (2002, 0.0), (2003, 0.009485216640847801), (2004, 0.013105573399280467), (2005, 0.0), (2006, 0.0312883467691439), (2007, 0.058013989971786833), (2008, 0.004012429454109629), (2009, 0.011628421176434613), (2010, 0.0032582950540403057), (2011, 0.012679313957006028), (2012, 0.0), (2013, 0.0), (2014, 0.0), (2015, 0.0), (2016, 0.004283218144206194), (2017, 0.0), (2018, 0.0), (2019, 0.0), (2020, 0.0), (2021, 0.0), (2022, 0.0), (2023, 0.003885353679801698), (2024, 0.0039509569242337835), (2025, 0.0), (2026, 0.009810285230332247), (2027, 0.003979892662384794), (2028, 0.0), (2029, 0.03227108052109556), (2030, 0.0), (2031, 0.003723150637834486), (2032, 0.09498673631826271), (2033, 0.0), (2034, 0.003399230692478275), (2035, 0.011812721043346207), (2036, 0.008937480081973422), (2037, 0.004496408667375367), (2038, 0.0), (2039, 0.028130200116888077), (2040, 0.004558163920124528), (2041, 0.0), (2042, 0.0), (2043, 0.0), (2044, 0.010428828344980786), (2045, 0.0041930811277806025), (2046, 0.0), (2047, 0.003645926255132156), (2048, 0.01435193894916302), (2049, 0.015372500925226133), (2050, 0.0), (2051, 0.015842633242259825), (2052, 0.0), (2053, 0.004259677524676914), (2054, 0.0), (2055, 0.003739424507429362), (2056, 0.0), (2057, 0.0), (2058, 0.026455247143164353), (2059, 0.0), (2060, 0.004084020085277434), (2061, 0.04765554352377743), (2062, 0.0), (2063, 0.0), (2064, 0.021592990944008586), (2065, 0.003706807072531604), (2066, 0.0), (2067, 0.004150721612442831), (2068, 0.02257955025926678), (2069, 0.00405378130908544), (2070, 0.02651227071906916), (2071, 0.0), (2072, 0.004275313423505536), (2073, 0.04508729303025706), (2074, 0.0), (2075, 0.01827083042432822), (2076, 0.0034797935444792877), (2077, 0.0), (2078, 0.0), (2079, 0.033023895919993336), (2080, 0.003986375694829538), (2081, 0.0), (2082, 0.02915011512769542), (2083, 0.004317831755822216), (2084, 0.0), (2085, 0.0), (2086, 0.010456812880876725), (2087, 0.004035435708479684), (2088, 0.004322748712571707), (2089, 0.004848133361564537), (2090, 0.03946863757582831), (2091, 0.004183342270664834), (2092, 0.0), (2093, 0.0), (2094, 0.0), (2095, 0.0), (2096, 0.0043976899498834165), (2097, 0.004489817105417473), (2098, 0.0), (2099, 0.003856405683345428), (2100, 0.0), (2101, 0.010744074119703103), (2102, 0.05284712800261172), (2103, 0.004017514846747446), (2104, 0.004406348098865458), (2105, 0.0148483049027975), (2106, 0.037926887565355165), (2107, 0.009352033335994077), (2108, 0.015476784596494729), (2109, 0.03332001175264793), (2110, 0.0), (2111, 0.06629935682506483), (2112, 0.00455385916685591), (2113, 0.0), (2114, 0.0), (2115, 0.0), (2116, 0.015049524104929797), (2117, 0.003957633155085549), (2118, 0.0), (2119, 0.0), (2120, 0.0), (2121, 0.003927935179454024), (2122, 0.02398843418926165), (2123, 0.0042705870211846185), (2124, 0.0), (2125, 0.0), (2126, 0.004255003552221684), (2127, 0.003463680632352086), (2128, 0.0), (2129, 0.0038230989487415532), (2130, 0.0), (2131, 0.0133951664603803), (2132, 0.011649270107245042), (2133, 0.0039025173009315218), (2134, 0.004615005817204039), (2135, 0.0), (2136, 0.0), (2137, 0.0058477621863061175), (2138, 0.0), (2139, 0.0), (2140, 0.0), (2141, 0.003943614248281696), (2142, 0.004811995956429807), (2143, 0.003944761552649741), (2144, 0.014065185771226445), (2145, 0.0), (2146, 0.003525983362301605), (2147, 0.0), (2148, 0.0042764866749788405), (2149, 0.01302853934525355), (2150, 0.0), (2151, 0.004398998753984445), (2152, 0.0), (2153, 0.0), (2154, 0.005284867063414717), (2155, 0.043622197362472116), (2156, 0.00874250810825291), (2157, 0.00346932546970249), (2158, 0.0), (2159, 0.015376029624770545), (2160, 0.009238700277497125), (2161, 0.008742205383405905), (2162, 0.004430732163315448), (2163, 0.1014249782425017), (2164, 0.0), (2165, 0.0), (2166, 0.0038857156593309194), (2167, 0.047980524297479434), (2168, 0.008401619533809131), (2169, 0.01403414018484898), (2170, 0.009181564592038262), (2171, 0.0), (2172, 0.0), (2173, 0.0040628459186031985), (2174, 0.004089672318531474), (2175, 0.0), (2176, 0.004554676375935802), (2177, 0.0), (2178, 0.0), (2179, 0.0), (2180, 0.0), (2181, 0.0), (2182, 0.0), (2183, 0.0), (2184, 0.056105507588186956), (2185, 0.0), (2186, 0.011128527944616244), (2187, 0.016003403040222637), (2188, 0.07611831251831408), (2189, 0.005791693473319447), (2190, 0.004447353194923562), (2191, 0.003700210952906505), (2192, 0.004155019665824468), (2193, 0.0411853175762404), (2194, 0.0), (2195, 0.0139072386292254), (2196, 0.004363141115108555), (2197, 0.0), (2198, 0.0), (2199, 0.005370783791324067), (2200, 0.0), (2201, 0.05233131263794582), (2202, 0.02761808919959885), (2203, 0.051058191358480255), (2204, 0.0), (2205, 0.0), (2206, 0.0), (2207, 0.0), (2208, 0.040081588936023746), (2209, 0.004593354673410383), (2210, 0.004194937319505445), (2211, 0.011683884337307217), (2212, 0.013913776966939524), (2213, 0.003679331335438309), (2214, 0.004486014523386358), (2215, 0.0), (2216, 0.004043618647679435), (2217, 0.0), (2218, 0.0), (2219, 0.0), (2220, 0.019291413613621432), (2221, 0.0034300366729445833), (2222, 0.04370362189449082), (2223, 0.0046911977913254), (2224, 0.003915111548961518), (2225, 0.0), (2226, 0.004034418591695603), (2227, 0.0), (2228, 0.0), (2229, 0.004508935511037976), (2230, 0.014320288975857028), (2231, 0.0), (2232, 0.0), (2233, 0.0), (2234, 0.010083813619322327), (2235, 0.0), (2236, 0.0037439771601082616), (2237, 0.01223564418453705), (2238, 0.0), (2239, 0.0), (2240, 0.012236560672386758), (2241, 0.0), (2242, 0.01325373541474939), (2243, 0.0), (2244, 0.0), (2245, 0.0), (2246, 0.0), (2247, 0.0), (2248, 0.003709285630002007), (2249, 0.010267572485842626), (2250, 0.004117009387011834), (2251, 0.0057406733155386785), (2252, 0.04074590720923555), (2253, 0.01170036199205015), (2254, 0.004427502146694436), (2255, 0.005323124537165542), (2256, 0.0), (2257, 0.005312043819039519), (2258, 0.010646387041104878), (2259, 0.0), (2260, 0.0044136691744209745), (2261, 0.04383497935256946), (2262, 0.02420748574045136), (2263, 0.0), (2264, 0.02971011904786347), (2265, 0.00374559010065565), (2266, 0.01716952460042185), (2267, 0.0), (2268, 0.00398472396770219), (2269, 0.01618360970780503), (2270, 0.0035648646393126046), (2271, 0.0), (2272, 0.0), (2273, 0.0), (2274, 0.0), (2275, 0.0), (2276, 0.0), (2277, 0.004182389133767603), (2278, 0.0), (2279, 0.004020071067250962), (2280, 0.043490512231738186), (2281, 0.0), (2282, 0.0), (2283, 0.0), (2284, 0.004148176702883924), (2285, 0.029743280231377914), (2286, 0.005272748732903272), (2287, 0.019824472189085247), (2288, 0.004364140065987437), (2289, 0.004097344374666516), (2290, 0.0), (2291, 0.0), (2292, 0.004202215396799343), (2293, 0.03378624749357371), (2294, 0.0), (2295, 0.004191513235894128), (2296, 0.04514342952550653), (2297, 0.0), (2298, 0.0), (2299, 0.006597784371809611), (2300, 0.0), (2301, 0.012755223757290374), (2302, 0.015837938887979096), (2303, 0.0038912924420161817), (2304, 0.0), (2305, 0.0), (2306, 0.060766096179289464), (2307, 0.0), (2308, 0.012287032345052842), (2309, 0.003941299234930544), (2310, 0.005516456929421489), (2311, 0.0), (2312, 0.0), (2313, 0.014156945169121547), (2314, 0.0), (2315, 0.0), (2316, 0.0), (2317, 0.003817582828477673), (2318, 0.0), (2319, 0.06009419023142731), (2320, 0.016210222894674026), (2321, 0.004238987686273985), (2322, 0.0), (2323, 0.003723323786703837), (2324, 0.010646771680578782), (2325, 0.0), (2326, 0.0), (2327, 0.0), (2328, 0.012050401819151502), (2329, 0.0), (2330, 0.0), (2331, 0.008055607125505541), (2332, 0.0), (2333, 0.01168761992100096), (2334, 0.004246691149474514), (2335, 0.009904839475524629), (2336, 0.0), (2337, 0.0), (2338, 0.012598160588419689), (2339, 0.0), (2340, 0.004136136501896413), (2341, 0.0), (2342, 0.0), (2343, 0.0), (2344, 0.013972989136366638), (2345, 0.0), (2346, 0.004691128608322936), (2347, 0.00379282531717747), (2348, 0.003886275011071673), (2349, 0.019306722249579585), (2350, 0.005301781059819047), (2351, 0.0), (2352, 0.0), (2353, 0.01010854894391185), (2354, 0.004130028951116969), (2355, 0.003439757099278369), (2356, 0.004612313469968358), (2357, 0.03328108263939138), (2358, 0.0), (2359, 0.003443716770841084), (2360, 0.0), (2361, 0.0043763597457854835), (2362, 0.01278198616839362), (2363, 0.0), (2364, 0.0), (2365, 0.0), (2366, 0.0), (2367, 0.013347581459951248), (2368, 0.011701888605474862), (2369, 0.0), (2370, 0.004298495972365306), (2371, 0.0), (2372, 0.0), (2373, 0.0), (2374, 0.0041814620966475115), (2375, 0.015318850666437631), (2376, 0.0), (2377, 0.0), (2378, 0.004855579574345339), (2379, 0.005954472000327905), (2380, 0.0), (2381, 0.0), (2382, 0.003534352566403257), (2383, 0.0), (2384, 0.0), (2385, 0.045563622419207986), (2386, 0.014256107865109252), (2387, 0.004116943227265777), (2388, 0.02218463272353672), (2389, 0.0), (2390, 0.015286139899644823), (2391, 0.014892945038935297), (2392, 0.005387126979596361), (2393, 0.004403081229652512), (2394, 0.004347490262690546), (2395, 0.0), (2396, 0.004163414433310025), (2397, 0.014181484341330004), (2398, 0.0), (2399, 0.012871405714466173), (2400, 0.00466662913872246), (2401, 0.004009838539325279), (2402, 0.012628000976653226), (2403, 0.00475534792360336), (2404, 0.0056118282252331335), (2405, 0.014502631428972425), (2406, 0.004846389363318192), (2407, 0.019274922638926488), (2408, 0.0), (2409, 0.00935096685832632), (2410, 0.04477423233281071), (2411, 0.004671928261402154), (2412, 0.012107634556249431), (2413, 0.0), (2414, 0.0), (2415, 0.016920073200080578), (2416, 0.004066402378289477), (2417, 0.00483083508127507), (2418, 0.004373443107466271), (2419, 0.004334695999555473), (2420, 0.010997481718993457), (2421, 0.02947495059399906), (2422, 0.0135354709817095), (2423, 0.005199674663292146), (2424, 0.0), (2425, 0.005347336336597939), (2426, 0.0), (2427, 0.004792539083649724), (2428, 0.004553300944872345), (2429, 0.0), (2430, 0.014147272295478245), (2431, 0.010104797029104223), (2432, 0.0), (2433, 0.0), (2434, 0.016669800964644037), (2435, 0.0), (2436, 0.004611398558478057), (2437, 0.050213842715027816), (2438, 0.005110555422209287), (2439, 0.0), (2440, 0.008380280939119687), (2441, 0.011291509461436998), (2442, 0.0), (2443, 0.04679892484739124), (2444, 0.0), (2445, 0.0), (2446, 0.0038321319715205584), (2447, 0.035973485527453636), (2448, 0.005388328245575394), (2449, 0.0), (2450, 0.0), (2451, 0.0), (2452, 0.0), (2453, 0.012815763884324718), (2454, 0.004982163588117144), (2455, 0.0), (2456, 0.0), (2457, 0.012543210492600973), (2458, 0.0), (2459, 0.005021912913070701), (2460, 0.0), (2461, 0.013519898635310763), (2462, 0.0), (2463, 0.0040555998461496105), (2464, 0.004525028011948765), (2465, 0.0), (2466, 0.004237254681777113), (2467, 0.013453200298431552), (2468, 0.0), (2469, 0.03683801473036688), (2470, 0.0), (2471, 0.0), (2472, 0.009849244667424891), (2473, 0.003929392767097743), (2474, 0.0031654724206723905), (2475, 0.014995544676241031), (2476, 0.0), (2477, 0.004457735719068056), (2478, 0.004736429034852234), (2479, 0.0), (2480, 0.0), (2481, 0.003435921630607009), (2482, 0.03046820210692448), (2483, 0.0), (2484, 0.005516630917697973), (2485, 0.0), (2486, 0.0), (2487, 0.0), (2488, 0.017041108136486693), (2489, 0.014210305270930042), (2490, 0.005946740116673694), (2491, 0.0), (2492, 0.014031276598232036), (2493, 0.0), (2494, 0.015033587340394889), (2495, 0.0041255507119035105), (2496, 0.003858452667048752), (2497, 0.0), (2498, 0.0), (2499, 0.0), (2500, 0.013698375746391418), (2501, 0.0), (2502, 0.012302665647088243), (2503, 0.0), (2504, 0.0), (2505, 0.004582114025730786), (2506, 0.0), (2507, 0.00448197728851986), (2508, 0.0), (2509, 0.011458859880750027), (2510, 0.04335052691559289), (2511, 0.010176723097775717), (2512, 0.004096309247854655), (2513, 0.0), (2514, 0.0), (2515, 0.0), (2516, 0.03065181272912984), (2517, 0.0), (2518, 0.0), (2519, 0.010127314639134289), (2520, 0.003576681463351322), (2521, 0.0), (2522, 0.004397287318014025), (2523, 0.0), (2524, 0.0), (2525, 0.003885142479582953), (2526, 0.0033757909595382254), (2527, 0.048383879679976316), (2528, 0.012949145673513959), (2529, 0.020241261936526877), (2530, 0.0052440048247438505), (2531, 0.01453216073915411), (2532, 0.0), (2533, 0.004149737381715598), (2534, 0.00184052929333755), (2535, 0.015454809722069675), (2536, 0.0), (2537, 0.14405167846254266), (2538, 0.0024686617314967196), (2539, 0.0), (2540, 0.003932316502851474), (2541, 0.0), (2542, 0.0), (2543, 0.04861825205918219), (2544, 0.0), (2545, 0.004298564341465934), (2546, 0.004295144045548845), (2547, 0.0), (2548, 0.0), (2549, 0.02721462710968743), (2550, 0.01042704242338856), (2551, 0.0), (2552, 0.0038574687740628036), (2553, 0.013594133231550953), (2554, 0.042312501517920834), (2555, 0.009383678479873462), (2556, 0.0038257931873580484), (2557, 0.0051170759802532445), (2558, 0.004126458765384826), (2559, 0.018330337244250518), (2560, 0.016003751113323045), (2561, 0.004304473271178549), (2562, 0.0), (2563, 0.0034123257037067694), (2564, 0.0), (2565, 0.004376800211481704), (2566, 0.010379825975314205), (2567, 0.0), (2568, 0.0050461326964988526), (2569, 0.004076897497217204), (2570, 0.016411660935544782), (2571, 0.003986236545233744), (2572, 0.003908366917899188), (2573, 0.0), (2574, 0.0), (2575, 0.04798548475561949), (2576, 0.0), (2577, 0.0), (2578, 0.027402230637466867), (2579, 0.004624736248141436), (2580, 0.0036845842346805704), (2581, 0.0), (2582, 0.010016207360762768), (2583, 0.037920706281818505), (2584, 0.027031075942259678), (2585, 0.004593037265332941), (2586, 0.0), (2587, 0.037221447093848226), (2588, 0.01051636552773855), (2589, 0.009705254490820587), (2590, 0.0), (2591, 0.0037015804961778847), (2592, 0.004567654019641752), (2593, 0.003806650849137459), (2594, 0.009196132060317446), (2595, 0.004475090257375898), (2596, 0.0), (2597, 0.0), (2598, 0.003903566354615943), (2599, 0.0), (2600, 0.0), (2601, 0.00430290754668225), (2602, 0.0034234763964146983), (2603, 0.011711269113394322), (2604, 0.0), (2605, 0.0), (2606, 0.004154410507954247), (2607, 0.012498644920347215), (2608, 0.03759647330758454), (2609, 0.014872978942131698), (2610, 0.01473629471199656), (2611, 0.028690133781614627), (2612, 0.003984761350937988), (2613, 0.004860673396428005), (2614, 0.019620633182378715), (2615, 0.0), (2616, 0.0), (2617, 0.003637641205157956), (2618, 0.0), (2619, 0.004968631619503799), (2620, 0.0), (2621, 0.0035896093942540787), (2622, 0.0), (2623, 0.00467084215362956), (2624, 0.004514642923033458), (2625, 0.004740300751538232), (2626, 0.1358381674075355), (2627, 0.0), (2628, 0.00540117102162083), (2629, 0.0638590610741624), (2630, 0.0), (2631, 0.0), (2632, 0.004028933609748997), (2633, 0.014638928164973567), (2634, 0.003855185956017988), (2635, 0.047001926597003495), (2636, 0.003097586052708706), (2637, 0.06253412041286707), (2638, 0.004687877674841623), (2639, 0.0), (2640, 0.004316989233042943), (2641, 0.0), (2642, 0.013434448555256223), (2643, 0.01803383533231211), (2644, 0.0), (2645, 0.0053098569676918), (2646, 0.0), (2647, 0.004178844210838374), (2648, 0.0), (2649, 0.005828020292650008), (2650, 0.014487440014143399), (2651, 0.003903603411355054), (2652, 0.11725403044175918), (2653, 0.003981452909713127), (2654, 0.026364345654279857), (2655, 0.00546776089920186), (2656, 0.0), (2657, 0.05539426421284997), (2658, 0.0), (2659, 0.0), (2660, 0.0), (2661, 0.014968923798755359), (2662, 0.010821024007825872), (2663, 0.009598574675301272), (2664, 0.014865726627925561), (2665, 0.0), (2666, 0.0), (2667, 0.0), (2668, 0.03189254290103809), (2669, 0.0), (2670, 0.0), (2671, 0.026946807888835432), (2672, 0.0), (2673, 0.005488589508546219), (2674, 0.003798008914386167), (2675, 0.03032579530762358), (2676, 0.0), (2677, 0.0381292408656801), (2678, 0.022709319819272853), (2679, 0.003904221394228864), (2680, 0.0), (2681, 0.009439078273497572), (2682, 0.0), (2683, 0.0), (2684, 0.0), (2685, 0.0), (2686, 0.0), (2687, 0.013718697092068006), (2688, 0.0), (2689, 0.04550286997857603), (2690, 0.02783829933378454), (2691, 0.0), (2692, 0.00358280122205307), (2693, 0.009491049219749406), (2694, 0.005495947920349024), (2695, 0.004131005087540363), (2696, 0.016209363257502163), (2697, 0.025375137776581826), (2698, 0.004019893320097965), (2699, 0.00915964674802047), (2700, 0.0), (2701, 0.015890107858721303), (2702, 0.01593700876956413), (2703, 0.0), (2704, 0.0), (2705, 0.015098299301388098), (2706, 0.003922494394505223), (2707, 0.004842413728735853), (2708, 0.0), (2709, 0.0), (2710, 0.0), (2711, 0.0), (2712, 0.0044083340939755), (2713, 0.04300957939405767), (2714, 0.00436660339613001), (2715, 0.0), (2716, 0.05573770518737412), (2717, 0.0), (2718, 0.0), (2719, 0.0), (2720, 0.004835669455100935), (2721, 0.0035850688235092875), (2722, 0.005792078969100659), (2723, 0.004424952151868617), (2724, 0.0036662786620692838), (2725, 0.004412525326475647), (2726, 0.0), (2727, 0.0), (2728, 0.0037555190525633683), (2729, 0.0), (2730, 0.012063176043764712), (2731, 0.005538253611687906), (2732, 0.020026063626132223), (2733, 0.0), (2734, 0.04271282388309063), (2735, 0.0038094547406569714), (2736, 0.0), (2737, 0.01641562737754583), (2738, 0.039007977196192464), (2739, 0.004527828362214411), (2740, 0.060865223239803166), (2741, 0.003714927511613591), (2742, 0.024947605176645724), (2743, 0.003537407878231095), (2744, 0.014451476114927215), (2745, 0.043274063493282645), (2746, 0.014177814060010317), (2747, 0.037484364751639944), (2748, 0.015162936347743818), (2749, 0.09181346342137625), (2750, 0.03169823447664944), (2751, 0.0), (2752, 0.04231280391512337), (2753, 0.02946104842819036), (2754, 0.0), (2755, 0.014744567379073443), (2756, 0.0), (2757, 0.006315021890389554), (2758, 0.0035041047185850804), (2759, 0.0), (2760, 0.0031668051360376325), (2761, 0.011999387838920263), (2762, 0.02480881307691496), (2763, 0.028251776391876073), (2764, 0.01986589518047502), (2765, 0.02946288837809462), (2766, 0.011064275275959882), (2767, 0.0032189262738871937), (2768, 0.005864955527423695), (2769, 0.016458496435665323), (2770, 0.0), (2771, 0.0035009604760594805), (2772, 0.004887459023447151), (2773, 0.0), (2774, 0.0), (2775, 0.018929847718618203), (2776, 0.01501801529232146), (2777, 0.0038176842982684065), (2778, 0.00498895167315467), (2779, 0.01331117788876274), (2780, 0.0), (2781, 0.0), (2782, 0.0045928222415472205), (2783, 0.004152202963857301), (2784, 0.004217158974182221), (2785, 0.0), (2786, 0.004418394300264606), (2787, 0.0), (2788, 0.0), (2789, 0.0), (2790, 0.0), (2791, 0.026885812850206452), (2792, 0.004371184724237157), (2793, 0.0), (2794, 0.0101644196297538), (2795, 0.00521049420031073), (2796, 0.004721723863232466), (2797, 0.017067311391241537), (2798, 0.014159705659193639), (2799, 0.03281168683269222), (2800, 0.029284403627610995), (2801, 0.0), (2802, 0.041921949019148017), (2803, 0.0037547526889962247), (2804, 0.0), (2805, 0.0085854791852912), (2806, 0.010873315153029181), (2807, 0.009631899239125684), (2808, 0.003997935850047382), (2809, 0.019020116052921584), (2810, 0.0), (2811, 0.0), (2812, 0.0038883497411575504), (2813, 0.028990434484742658), (2814, 0.019223494545391566), (2815, 0.0), (2816, 0.01015876829876372), (2817, 0.010469096910122783), (2818, 0.0), (2819, 0.0), (2820, 0.0), (2821, 0.014803065006432062), (2822, 0.0), (2823, 0.02738916394976253), (2824, 0.028560968191014623), (2825, 0.0), (2826, 0.004147946582219937), (2827, 0.0), (2828, 0.0), (2829, 0.0), (2830, 0.015518826714138154), (2831, 0.004130655753571939), (2832, 0.01829942030874682), (2833, 0.0), (2834, 0.01729936184643635), (2835, 0.026790524250018568), (2836, 0.009741763891991004), (2837, 0.0), (2838, 0.017820120912042763), (2839, 0.0), (2840, 0.004601703307184133), (2841, 0.017313001665657583), (2842, 0.025011396673800305), (2843, 0.0), (2844, 0.011516492077306041), (2845, 0.003797540609041876), (2846, 0.004827748193162778), (2847, 0.12220012026873325), (2848, 0.017020427909128708), (2849, 0.004361882658257937), (2850, 0.0), (2851, 0.0), (2852, 0.03273807734631925), (2853, 0.00410524342913555), (2854, 0.0045822261641894685), (2855, 0.008325958993301234), (2856, 0.0), (2857, 0.01721229992220039), (2858, 0.005848088638613049), (2859, 0.0548432678921246), (2860, 0.0), (2861, 0.005468813565976485), (2862, 0.0038451356492224605), (2863, 0.014377341061284549), (2864, 0.0), (2865, 0.02759181582207508), (2866, 0.009136108029619278), (2867, 0.0), (2868, 0.028676999083242463), (2869, 0.0), (2870, 0.07841887964538476), (2871, 0.0), (2872, 0.01605087266669273), (2873, 0.0332964215291138), (2874, 0.0), (2875, 0.0), (2876, 0.011645812569634465), (2877, 0.03285474710789466), (2878, 0.014698835669222917), (2879, 0.005024724181538405), (2880, 0.010581761396353197), (2881, 0.004672866235700237), (2882, 0.004483475832862343), (2883, 0.018869591428438193), (2884, 0.048418360693065814), (2885, 0.0), (2886, 0.013303360066286322), (2887, 0.004180629812520963), (2888, 0.004469336575880571), (2889, 0.005679748863164846), (2890, 0.01538657560943122), (2891, 0.013907199234984747), (2892, 0.049133875731651636), (2893, 0.015812794990982613), (2894, 0.014309329723035658), (2895, 0.004938599441313305), (2896, 0.04296694403679015), (2897, 0.04549970903985127), (2898, 0.043713619587366984), (2899, 0.0038785272767346717), (2900, 0.004112795057106209), (2901, 0.06166502183434748), (2902, 0.0030344991545969762), (2903, 0.004626933636629505), (2904, 0.014503286669181404), (2905, 0.0), (2906, 0.0), (2907, 0.04012086279717218), (2908, 0.06809431493513077), (2909, 0.0040239342431566995), (2910, 0.004036870112267974), (2911, 0.014512199358588853), (2912, 0.030013151396064593), (2913, 0.0), (2914, 0.0046661359681584155), (2915, 0.015163708174101037), (2916, 0.004621483741447062), (2917, 0.0032498075327097252), (2918, 0.0), (2919, 0.10847967258616689), (2920, 0.0037750577361043538), (2921, 0.0), (2922, 0.0), (2923, 0.005559122296482373), (2924, 0.01617143763343407), (2925, 0.003312681280351406), (2926, 0.0043149438572641086), (2927, 0.04861016639966121), (2928, 0.061511337001160946), (2929, 0.0), (2930, 0.0), (2931, 0.012613490603998322), (2932, 0.005455124280489975), (2933, 0.011841718483909231), (2934, 0.004155975744387739), (2935, 0.0), (2936, 0.004670569029799126), (2937, 0.0059246437606710264), (2938, 0.0), (2939, 0.0), (2940, 0.004409944028888674), (2941, 0.0), (2942, 0.003570246607795383), (2943, 0.013893890378965792), (2944, 0.0), (2945, 0.01364941091271129), (2946, 0.004060431517573875), (2947, 0.0), (2948, 0.0), (2949, 0.004408447120708609), (2950, 0.02785909464820477), (2951, 0.0), (2952, 0.0), (2953, 0.004367188782135245), (2954, 0.0037673110700101645), (2955, 0.0), (2956, 0.0), (2957, 0.005047634404366276), (2958, 0.0), (2959, 0.0), (2960, 0.0), (2961, 0.004061216014020934), (2962, 0.0), (2963, 0.0), (2964, 0.004408941286220099), (2965, 0.003919318706168432), (2966, 0.016951038090524558), (2967, 0.01107487132552114), (2968, 0.0315763525553069), (2969, 0.0034219871661436744), (2970, 0.004397779642906318), (2971, 0.0), (2972, 0.0038890795027620296), (2973, 0.009629558595022137), (2974, 0.015655364318739783), (2975, 0.012250350501956721), (2976, 0.0036960166597543014), (2977, 0.004224549605892672), (2978, 0.01067567196849801), (2979, 0.0), (2980, 0.004046472027405932), (2981, 0.003524544122862437), (2982, 0.011173347459577777), (2983, 0.012391172184771364), (2984, 0.0), (2985, 0.03873384949077027), (2986, 0.016493587480423896), (2987, 0.004763208653624616), (2988, 0.004255409487949227), (2989, 0.005749104608440921), (2990, 0.03894314806102583), (2991, 0.0), (2992, 0.009154462375333019), (2993, 0.004976507479938089), (2994, 0.0), (2995, 0.01321543759933708), (2996, 0.004540551696758874), (2997, 0.003899752749114155), (2998, 0.006194074369883051), (2999, 0.013864936471614298), (3000, 0.004224394663989539), (3001, 0.0), (3002, 0.0), (3003, 0.0045833659368965515), (3004, 0.01717473866352645), (3005, 0.0), (3006, 0.0), (3007, 0.004407756656345212), (3008, 0.0), (3009, 0.013747771449428398), (3010, 0.003978621048851182), (3011, 0.0), (3012, 0.004625774280570125), (3013, 0.06346055029520938), (3014, 0.01316353074426791), (3015, 0.017669733369415984), (3016, 0.004235631037734285), (3017, 0.011665073958713666), (3018, 0.0), (3019, 0.004803082384232514), (3020, 0.005008820909060859), (3021, 0.0), (3022, 0.06948434893714686), (3023, 0.0), (3024, 0.003413083049842278), (3025, 0.0), (3026, 0.004558461633615009), (3027, 0.0037127457334743025), (3028, 0.003987067825007225), (3029, 0.0), (3030, 0.01888993279686626), (3031, 0.005040025192140257), (3032, 0.0046182425828980925), (3033, 0.0), (3034, 0.009881977544191728), (3035, 0.0039278390397188825), (3036, 0.03142645307705702), (3037, 0.0043551341507760966), (3038, 0.0), (3039, 0.011110083512203824), (3040, 0.00576191709366133), (3041, 0.0), (3042, 0.005590355900217977), (3043, 0.004670704759493341), (3044, 0.004497433571710654), (3045, 0.0), (3046, 0.0040466853971174764), (3047, 0.0), (3048, 0.0), (3049, 0.0), (3050, 0.012775325931935682), (3051, 0.005885356572164769), (3052, 0.005635571535264161), (3053, 0.0), (3054, 0.050841161008709786), (3055, 0.005614319953920666), (3056, 0.033811368816708), (3057, 0.003870531786313249), (3058, 0.0), (3059, 0.0), (3060, 0.0), (3061, 0.010265212211032803), (3062, 0.004574242182244586), (3063, 0.03796013157409115), (3064, 0.004489491775399926), (3065, 0.003504532188226563), (3066, 0.028642216404137714), (3067, 0.013775165570086147), (3068, 0.0), (3069, 0.03227952734502048), (3070, 0.0), (3071, 0.013060711301574565), (3072, 0.01620666256271185), (3073, 0.0), (3074, 0.005062051647775857), (3075, 0.013542483249970858), (3076, 0.0053996717036530525), (3077, 0.00927185392163946), (3078, 0.012616259804110873), (3079, 0.0), (3080, 0.0), (3081, 0.004855639164244903), (3082, 0.0238983104466577), (3083, 0.00912690099479287), (3084, 0.00437598867090889), (3085, 0.0), (3086, 0.004457091238015331), (3087, 0.0), (3088, 0.0), (3089, 0.06529379879774203), (3090, 0.0), (3091, 0.0034534507246683334), (3092, 0.0), (3093, 0.0040604791388234), (3094, 0.016315635541170204), (3095, 0.004429568559136708), (3096, 0.0035865343722085996), (3097, 0.004549548096744391), (3098, 0.035551085645294724), (3099, 0.0), (3100, 0.0), (3101, 0.08326441134210767), (3102, 0.0), (3103, 0.020746661277481915), (3104, 0.0), (3105, 0.0), (3106, 0.04278909426498995), (3107, 0.0), (3108, 0.027819577531291072), (3109, 0.010456463347222632), (3110, 0.03254313856994984), (3111, 0.012480146446863676), (3112, 0.004436641626885496), (3113, 0.00420822198461193), (3114, 0.0), (3115, 0.0683463720497017), (3116, 0.015322784870885004), (3117, 0.0), (3118, 0.0), (3119, 0.005656398106048354), (3120, 0.02869681469358427), (3121, 0.0), (3122, 0.003935998617014063), (3123, 0.005032603901424938), (3124, 0.0), (3125, 0.004146294978482031), (3126, 0.0), (3127, 0.0), (3128, 0.005200962803337721), (3129, 0.0), (3130, 0.0), (3131, 0.0), (3132, 0.0), (3133, 0.0), (3134, 0.0), (3135, 0.0), (3136, 0.0), (3137, 0.04171038632610681), (3138, 0.0), (3139, 0.0058415194228786755), (3140, 0.01754848116650117), (3141, 0.02824393041671401), (3142, 0.0), (3143, 0.0), (3144, 0.0), (3145, 0.0), (3146, 0.004615039151175558), (3147, 0.012981125775249413), (3148, 0.01578761106109589), (3149, 0.0), (3150, 0.004316821267271735), (3151, 0.003930227053003177), (3152, 0.0032196604812880906), (3153, 0.0042486143585802084), (3154, 0.005049892458576708), (3155, 0.004154139252318014), (3156, 0.0), (3157, 0.0045923627288225796), (3158, 0.0), (3159, 0.005106440297389322), (3160, 0.0), (3161, 0.019371421996739475), (3162, 0.0), (3163, 0.0), (3164, 0.0), (3165, 0.016015756947119403), (3166, 0.01934198801522707), (3167, 0.0036949739682156), (3168, 0.011055497850400949), (3169, 0.0), (3170, 0.01326548334951144), (3171, 0.003924745830175509), (3172, 0.0), (3173, 0.004063262072353479), (3174, 0.004114900349051534), (3175, 0.010520759599105941), (3176, 0.0), (3177, 0.009326486283226347), (3178, 0.02204621639579777), (3179, 0.0), (3180, 0.010923001081716765), (3181, 0.02928021061850263), (3182, 0.014204484176422068), (3183, 0.015269342271690578), (3184, 0.014976847627243082), (3185, 0.0), (3186, 0.00467823016413312), (3187, 0.004341821205992863), (3188, 0.0098068996613648), (3189, 0.03854580205177099), (3190, 0.0), (3191, 0.0), (3192, 0.0), (3193, 0.0), (3194, 0.013161331837899618), (3195, 0.004060292696377636), (3196, 0.004626599510494862), (3197, 0.11248298662933923), (3198, 0.014404703391399674), (3199, 0.02400304701422996), (3200, 0.03675662770441953), (3201, 0.0), (3202, 0.01067480013192169), (3203, 0.0), (3204, 0.0), (3205, 0.007303086275522636), (3206, 0.004991937968033257), (3207, 0.0), (3208, 0.0), (3209, 0.0), (3210, 0.004161764648482435), (3211, 0.003572296556842034), (3212, 0.0), (3213, 0.02457411632630895), (3214, 0.013312211546967326), (3215, 0.0), (3216, 0.0041057898440107115), (3217, 0.012652117407116664), (3218, 0.04351193083799179), (3219, 0.005391945679187966), (3220, 0.03988900191305233), (3221, 0.0), (3222, 0.0), (3223, 0.0), (3224, 0.004295586696908744), (3225, 0.048215325094194704), (3226, 0.007589466712415628), (3227, 0.004160107435615847), (3228, 0.005007102227162099), (3229, 0.010196800428625278), (3230, 0.004763321584757725), (3231, 0.0), (3232, 0.0), (3233, 0.004244573466919371), (3234, 0.03613059268537776), (3235, 0.014864836882894146), (3236, 0.045653968029554994), (3237, 0.013772600275669455), (3238, 0.0035506915400696426), (3239, 0.00520182302720593), (3240, 0.007974068891226769), (3241, 0.014547202333685066), (3242, 0.004331777966798527), (3243, 0.0038643150169175343), (3244, 0.03674617925539452), (3245, 0.0), (3246, 0.053929978274818505), (3247, 0.0), (3248, 0.015551156788252807), (3249, 0.005160334620887129), (3250, 0.0), (3251, 0.0), (3252, 0.02754296701501865), (3253, 0.0), (3254, 0.011401241909655163), (3255, 0.0), (3256, 0.0), (3257, 0.0168018334296753), (3258, 0.015162619734424732), (3259, 0.0), (3260, 0.00404808078502356), (3261, 0.0), (3262, 0.00530884817492735), (3263, 0.0), (3264, 0.0043565764753626945), (3265, 0.0), (3266, 0.0), (3267, 0.0037437510089893896), (3268, 0.013308616969549943), (3269, 0.0044630448394789805), (3270, 0.0), (3271, 0.015066485364146561), (3272, 0.027347647080219376), (3273, 0.01552387585780126), (3274, 0.015711040023173535), (3275, 0.004822357085595711), (3276, 0.02104903535885337), (3277, 0.0), (3278, 0.003751628906808831), (3279, 0.0), (3280, 0.0), (3281, 0.0), (3282, 0.030816011248842187), (3283, 0.03406303232580416), (3284, 0.003778785070143362), (3285, 0.0031017592656929177), (3286, 0.0), (3287, 0.03909486233159242), (3288, 0.009606268264263236), (3289, 0.004228348629724592), (3290, 0.004246010255734662), (3291, 0.01873832974149417), (3292, 0.005386044961516558), (3293, 0.003905159773237313), (3294, 0.0), (3295, 0.008934821481222311), (3296, 0.015859450719668728), (3297, 0.004384084844765893), (3298, 0.013469568512850437), (3299, 0.04614379526859318), (3300, 0.01310384118648559), (3301, 0.0032309367791152907), (3302, 0.016989484467703285), (3303, 0.014189946606176378), (3304, 0.012626117743869899), (3305, 0.0), (3306, 0.09627019054615944), (3307, 0.004792658953052832), (3308, 0.01650808914495462), (3309, 0.0), (3310, 0.0), (3311, 0.0037322347086303264), (3312, 0.04659095202639575), (3313, 0.0033684996324046946), (3314, 0.014788659961620109), (3315, 0.013320456166547753), (3316, 0.0031737798824382586), (3317, 0.0033793464092522303), (3318, 0.012567266599340961), (3319, 0.0), (3320, 0.0), (3321, 0.0), (3322, 0.0053101050458778465), (3323, 0.0), (3324, 0.0), (3325, 0.007371581081918991), (3326, 0.014768548652668053), (3327, 0.012507289379751), (3328, 0.07010682757696986), (3329, 0.00377193707197047), (3330, 0.004111864391966601), (3331, 0.003439324811262666), (3332, 0.0), (3333, 0.0), (3334, 0.0), (3335, 0.014088700262672511), (3336, 0.0037136478938428197), (3337, 0.004760668158279986), (3338, 0.0), (3339, 0.0), (3340, 0.0), (3341, 0.004137469448848737), (3342, 0.003831255000585504), (3343, 0.0), (3344, 0.03757084637855625), (3345, 0.0), (3346, 0.004114947597211935), (3347, 0.00346293812074521), (3348, 0.00399289410955879), (3349, 0.00428055889317467), (3350, 0.0), (3351, 0.004306143761481491), (3352, 0.013409346278248382), (3353, 0.004289446023322565), (3354, 0.005194579538193652), (3355, 0.004746728497694874), (3356, 0.0), (3357, 0.005128553468576375), (3358, 0.0050090176327226435), (3359, 0.016227618127884067), (3360, 0.0036649394766980047), (3361, 0.0), (3362, 0.003267124797996714), (3363, 0.017390397389502335), (3364, 0.09833736644313337), (3365, 0.0029096110916841103), (3366, 0.0), (3367, 0.0), (3368, 0.028621729713176468), (3369, 0.003805754598155096), (3370, 0.004004896438433351), (3371, 0.01087603279478787), (3372, 0.004333188122787023), (3373, 0.004643803756026363), (3374, 0.004094646317648465), (3375, 0.009517881279044163), (3376, 0.0035232346437114957), (3377, 0.0), (3378, 0.0), (3379, 0.004045081858146777), (3380, 0.012378056238572311), (3381, 0.004076648899551187), (3382, 0.0043052473883519364), (3383, 0.0), (3384, 0.0), (3385, 0.0), (3386, 0.03349244043970589), (3387, 0.0), (3388, 0.05453608703170221), (3389, 0.0037946366262956613), (3390, 0.02953259253030261), (3391, 0.02014281577612273), (3392, 0.002741465319260017), (3393, 0.0035485109231819093), (3394, 0.0), (3395, 0.038869097881436825), (3396, 0.004759030504239638), (3397, 0.0), (3398, 0.0), (3399, 0.0038546934020522723), (3400, 0.009601590619235652), (3401, 0.0), (3402, 0.004020618713685501), (3403, 0.012216512510078242), (3404, 0.0), (3405, 0.0), (3406, 0.014715867355045435), (3407, 0.04024872740512675), (3408, 0.016125189463862363), (3409, 0.003520070404244513), (3410, 0.024942707820830266), (3411, 0.0), (3412, 0.004023944283059751), (3413, 0.016748417647232658), (3414, 0.037434638813783665), (3415, 0.07025936520543853), (3416, 0.0), (3417, 0.015357699966146152), (3418, 0.028129237124239755), (3419, 0.004761437453698085), (3420, 0.0), (3421, 0.009646933612475924), (3422, 0.0), (3423, 0.004720972799180331), (3424, 0.01075694807089638), (3425, 0.016156847071293546), (3426, 0.0), (3427, 0.0), (3428, 0.0), (3429, 0.0), (3430, 0.0034342804633542253), (3431, 0.0033132323350567768), (3432, 0.0), (3433, 0.003884932042673171), (3434, 0.014834561894820188), (3435, 0.043809392188128383), (3436, 0.004152442817787398), (3437, 0.0043192901521476165), (3438, 0.0), (3439, 0.0), (3440, 0.0), (3441, 0.004092027629153879), (3442, 0.0), (3443, 0.0), (3444, 0.0), (3445, 0.004225466613936105), (3446, 0.030107283244888684), (3447, 0.013625516770536434), (3448, 0.0), (3449, 0.015067831098994013), (3450, 0.004791830122736002), (3451, 0.0), (3452, 0.003847331914233446), (3453, 0.04828943625522064), (3454, 0.0), (3455, 0.003788394981818332), (3456, 0.0), (3457, 0.0), (3458, 0.002826684724586889), (3459, 0.0), (3460, 0.0037939945032194216), (3461, 0.0), (3462, 0.04444833182349037), (3463, 0.0), (3464, 0.0), (3465, 0.0), (3466, 0.0), (3467, 0.02929853009441096), (3468, 0.04731650272276112), (3469, 0.0), (3470, 0.0), (3471, 0.003280530624880548), (3472, 0.0), (3473, 0.0), (3474, 0.0037490844790561257), (3475, 0.0), (3476, 0.0), (3477, 0.013826827693334143), (3478, 0.004125925064557331), (3479, 0.018621873672219402), (3480, 0.0), (3481, 0.024346852403824826), (3482, 0.038048691537564204), (3483, 0.004368468605718687), (3484, 0.0), (3485, 0.0), (3486, 0.0), (3487, 0.003966931938542802), (3488, 0.0), (3489, 0.010120367651760132), (3490, 0.009428369980607938), (3491, 0.004142113313458421), (3492, 0.023732856496331164), (3493, 0.014594605149950073), (3494, 0.0), (3495, 0.0), (3496, 0.055560660322459425), (3497, 0.004507996464957179), (3498, 0.003942141687297971), (3499, 0.004053248064819027), (3500, 0.040134858656660735), (3501, 0.004193960508091282), (3502, 0.0), (3503, 0.003956346703510469), (3504, 0.10895655300695048), (3505, 0.0), (3506, 0.016082242212741578), (3507, 0.0), (3508, 0.0), (3509, 0.02509859115050298), (3510, 0.0), (3511, 0.01467797117932836), (3512, 0.006326732104476487), (3513, 0.01028666907528609), (3514, 0.0043073158134534365), (3515, 0.0), (3516, 0.00448722095363743), (3517, 0.004272004549043174), (3518, 0.026745360295633198), (3519, 0.0), (3520, 0.0), (3521, 0.005082932502448101), (3522, 0.0), (3523, 0.005914596257736012), (3524, 0.01640589117253647), (3525, 0.0), (3526, 0.014270160736517296), (3527, 0.034168372381721004), (3528, 0.0), (3529, 0.04031466048647161), (3530, 0.0), (3531, 0.03795721152260737), (3532, 0.0), (3533, 0.0), (3534, 0.06646508411804877), (3535, 0.0), (3536, 0.004281016721571247), (3537, 0.005117569360178052), (3538, 0.06359816208901926), (3539, 0.0), (3540, 0.004812229075265354), (3541, 0.014026478810996317), (3542, 0.004221427052052668), (3543, 0.0), (3544, 0.005022296314747083), (3545, 0.0), (3546, 0.010403297102979431), (3547, 0.0), (3548, 0.025489468184192936), (3549, 0.010153850452066591), (3550, 0.0), (3551, 0.014073452653568363), (3552, 0.022678495447404613), (3553, 0.03314395981342635), (3554, 0.0), (3555, 0.0), (3556, 0.0036891088363307954), (3557, 0.004045982248148407), (3558, 0.012873287421973967), (3559, 0.024572109854154294), (3560, 0.015667380944394342), (3561, 0.005593099162403257), (3562, 0.028237625948037498), (3563, 0.00376039839227486), (3564, 0.03357162979939217), (3565, 0.033096509217981754), (3566, 0.0), (3567, 0.0), (3568, 0.0), (3569, 0.0035374528629295416), (3570, 0.028747748934293403), (3571, 0.0042189902330564515), (3572, 0.0), (3573, 0.0), (3574, 0.0), (3575, 0.011265057225709642), (3576, 0.0), (3577, 0.06396823419370357), (3578, 0.0), (3579, 0.034838045811312196), (3580, 0.0), (3581, 0.0), (3582, 0.0), (3583, 0.0), (3584, 0.01054426237918958), (3585, 0.028572854773415833), (3586, 0.0), (3587, 0.004647720581988275), (3588, 0.0), (3589, 0.009053875312459355), (3590, 0.004382753453332401), (3591, 0.0), (3592, 0.01220668451316538), (3593, 0.004605762981520864), (3594, 0.009779302290322242), (3595, 0.0), (3596, 0.004083284898347042), (3597, 0.0), (3598, 0.03429963257816537), (3599, 0.014559258374839883), (3600, 0.0), (3601, 0.014871059618618013), (3602, 0.0), (3603, 0.01000546876082741), (3604, 0.02951283851529969), (3605, 0.0), (3606, 0.004206792207694977), (3607, 0.09087845591617058), (3608, 0.0026874135209147315), (3609, 0.0), (3610, 0.0), (3611, 0.004687966239383336), (3612, 0.03345466978821681), (3613, 0.00508904313094738), (3614, 0.012621261767130399), (3615, 0.0038853336727357776), (3616, 0.0051307416296733025), (3617, 0.0), (3618, 0.004373415986802527), (3619, 0.0), (3620, 0.0050240969147906), (3621, 0.004854998248639222), (3622, 0.0), (3623, 0.004256229310094847), (3624, 0.004087682882740856), (3625, 0.0), (3626, 0.010697948461179382), (3627, 0.003817522036526289), (3628, 0.0), (3629, 0.003543392459999979), (3630, 0.0), (3631, 0.039898643670775454), (3632, 0.0), (3633, 0.0), (3634, 0.0034884399801312855), (3635, 0.005578271337030708), (3636, 0.034064170070340946), (3637, 0.0036081871595938122), (3638, 0.005144079835127708), (3639, 0.05314605689068082), (3640, 0.004601351436828336), (3641, 0.00398472265281588), (3642, 0.00447409940577327), (3643, 0.00419150468308137), (3644, 0.00964626201918119), (3645, 0.0031098820494696046), (3646, 0.013184972476029067), (3647, 0.004059370254482179), (3648, 0.01015858168675613), (3649, 0.0), (3650, 0.0), (3651, 0.004719883434436116), (3652, 0.0), (3653, 0.004205819744304243), (3654, 0.01466488720113666), (3655, 0.012135091388741803), (3656, 0.057480526303403424), (3657, 0.0034817981766764464), (3658, 0.0), (3659, 0.0), (3660, 0.003978763571740947), (3661, 0.004705588251369591), (3662, 0.0), (3663, 0.0), (3664, 0.0), (3665, 0.004116096604330362), (3666, 0.0042839889750481055), (3667, 0.013815200563338455), (3668, 0.003492261015191372), (3669, 0.03666081685250583), (3670, 0.0041611883725772405), (3671, 0.0), (3672, 0.005862837211696977), (3673, 0.004109205725578066), (3674, 0.0), (3675, 0.0049182691262035175), (3676, 0.0), (3677, 0.004528944558518716), (3678, 0.06049960851949233), (3679, 0.0), (3680, 0.09538659065169816), (3681, 0.010899201283928841), (3682, 0.0), (3683, 0.0), (3684, 0.05842182751419973), (3685, 0.0), (3686, 0.011671896754319842), (3687, 0.005153310088383068), (3688, 0.0), (3689, 0.004267627134323768), (3690, 0.0), (3691, 0.03145303914753133), (3692, 0.004442396743097101), (3693, 0.0), (3694, 0.047877179888520194), (3695, 0.0), (3696, 0.04537482378815706), (3697, 0.0), (3698, 0.0), (3699, 0.004214191306801638), (3700, 0.0), (3701, 0.004229831618046716), (3702, 0.0), (3703, 0.04317915738533227), (3704, 0.0044586836684535145), (3705, 0.003733474667029003), (3706, 0.004026601292872448), (3707, 0.0041992443245722445), (3708, 0.0), (3709, 0.0), (3710, 0.0), (3711, 0.0), (3712, 0.0), (3713, 0.0), (3714, 0.03612983375427464), (3715, 0.0), (3716, 0.048283038501619496), (3717, 0.0), (3718, 0.0), (3719, 0.00402712458963031), (3720, 0.042367665761955865), (3721, 0.013024523950503387), (3722, 0.02974352572857416), (3723, 0.0), (3724, 0.0), (3725, 0.0038417131113838007), (3726, 0.0), (3727, 0.004090808263839924), (3728, 0.004411997322820501), (3729, 0.004781568066016248), (3730, 0.029373173341050933), (3731, 0.04582975815324119), (3732, 0.0), (3733, 0.003929545897933926), (3734, 0.003891456451939239), (3735, 0.13696077901807574), (3736, 0.0), (3737, 0.004607093896386474), (3738, 0.0), (3739, 0.004171275331548803), (3740, 0.0), (3741, 0.0), (3742, 0.003768703046700629), (3743, 0.0), (3744, 0.0), (3745, 0.016402919107502516), (3746, 0.0), (3747, 0.01036972608848158), (3748, 0.00849482051112996), (3749, 0.0044986195084228365), (3750, 0.018170396648677416), (3751, 0.025476333021547386), (3752, 0.0), (3753, 0.009044604673751053), (3754, 0.054565484858977886), (3755, 0.003646458146571054), (3756, 0.02703807116779708), (3757, 0.0044506791998624165), (3758, 0.011742580298169285), (3759, 0.0), (3760, 0.0), (3761, 0.010979400940764949), (3762, 0.005375211093009219), (3763, 0.03895585583952045), (3764, 0.0), (3765, 0.00400784558256617), (3766, 0.0049202843792980665), (3767, 0.012808994843073782), (3768, 0.0), (3769, 0.0), (3770, 0.004314545074665602), (3771, 0.004468882049673142), (3772, 0.004695279110600595), (3773, 0.0), (3774, 0.0), (3775, 0.0), (3776, 0.0), (3777, 0.035333595527256456), (3778, 0.004285670977581488), (3779, 0.004982180729087773), (3780, 0.004405334704626691), (3781, 0.00442072934195049), (3782, 0.0), (3783, 0.0), (3784, 0.003927184476165982), (3785, 0.0), (3786, 0.0), (3787, 0.0), (3788, 0.0), (3789, 0.049969053190198585), (3790, 0.0), (3791, 0.0), (3792, 0.014180367380746801), (3793, 0.03717758799190287), (3794, 0.10643407418355827), (3795, 0.012473303364505868), (3796, 0.0), (3797, 0.004565717586994678), (3798, 0.010184032816418331), (3799, 0.003911038874049301), (3800, 0.012953238008563392), (3801, 0.003696533666703888), (3802, 0.0), (3803, 0.0), (3804, 0.0577401305193421), (3805, 0.0), (3806, 0.0), (3807, 0.004104282209602571), (3808, 0.010900989363177516), (3809, 0.043926098316929556), (3810, 0.0), (3811, 0.045277654622765555), (3812, 0.0), (3813, 0.004501799413245581), (3814, 0.0), (3815, 0.029888493993391243), (3816, 0.0), (3817, 0.0), (3818, 0.0), (3819, 0.031209821908910813), (3820, 0.0), (3821, 0.003460178282504769), (3822, 0.004632677275694097), (3823, 0.0), (3824, 0.0), (3825, 0.0), (3826, 0.013405415553265512), (3827, 0.004045363813534844), (3828, 0.17477245264153138), (3829, 0.012961783589287294), (3830, 0.0), (3831, 0.02946550859601121), (3832, 0.0050368797952688674), (3833, 0.0), (3834, 0.010504995170457426), (3835, 0.008398078089157466), (3836, 0.0), (3837, 0.0), (3838, 0.0), (3839, 0.03990162054734797), (3840, 0.03005269890696514), (3841, 0.0037000552767248508), (3842, 0.0), (3843, 0.0), (3844, 0.0), (3845, 0.014544277239060412), (3846, 0.0), (3847, 0.0), (3848, 0.005234504141835175), (3849, 0.0), (3850, 0.0), (3851, 0.01124115292809863), (3852, 0.0), (3853, 0.09525672595707761), (3854, 0.11827156392924573), (3855, 0.003500890815461072), (3856, 0.03386816824146368), (3857, 0.004582634621809385), (3858, 0.0), (3859, 0.01857305946152249), (3860, 0.02436231310001142), (3861, 0.037465632473590464), (3862, 0.004309086543770162), (3863, 0.0037075414106496215), (3864, 0.0), (3865, 0.03773367395222445), (3866, 0.01607314097458007), (3867, 0.015840456025967304), (3868, 0.07775316814539139), (3869, 0.04705479466668849), (3870, 0.0), (3871, 0.028045024633880297), (3872, 0.0), (3873, 0.004411767964833962), (3874, 0.005045322100552808), (3875, 0.01133375312360028), (3876, 0.04408756699023186), (3877, 0.004593765230085784), (3878, 0.005422726319295654), (3879, 0.009518638159629679), (3880, 0.0035996214340238922), (3881, 0.027956782200588653), (3882, 0.014675486643699996), (3883, 0.004703064978404124), (3884, 0.004800428094146338), (3885, 0.0), (3886, 0.06464931989067245), (3887, 0.03788878510234567), (3888, 0.004082380375728741), (3889, 0.015122493921462478), (3890, 0.013490260430854734), (3891, 0.03581255526747293), (3892, 0.005363545545067699), (3893, 0.015063699140101259), (3894, 0.003618517094406307), (3895, 0.04978274697084811), (3896, 0.0), (3897, 0.0), (3898, 0.013232363392284462), (3899, 0.027445507408778796), (3900, 0.00396744661841632), (3901, 0.0049758557683074935), (3902, 0.004292910636343805), (3903, 0.004725895431390754), (3904, 0.01491458454299289), (3905, 0.0), (3906, 0.0040593888106887025), (3907, 0.0), (3908, 0.02722359615568629), (3909, 0.025069554188141465), (3910, 0.0036222895738345995), (3911, 0.004930123885496311), (3912, 0.0), (3913, 0.062485883602764025), (3914, 0.0), (3915, 0.015145571380254134), (3916, 0.12836053923574517), (3917, 0.003968923439622863), (3918, 0.0), (3919, 0.014576526628925775), (3920, 0.0042736369694871415), (3921, 0.0), (3922, 0.005093334597187528), (3923, 0.0), (3924, 0.004535451723453274), (3925, 0.020755280688289603), (3926, 0.0), (3927, 0.0034342006259357044), (3928, 0.0034464313914596752), (3929, 0.0), (3930, 0.0), (3931, 0.0), (3932, 0.05715973084719933), (3933, 0.008751529881117161), (3934, 0.045582584630823084), (3935, 0.0048617731916044725), (3936, 0.012420371781388015), (3937, 0.028932737893087087), (3938, 0.0), (3939, 0.00549524618162729), (3940, 0.10617130266180089), (3941, 0.0038664111306543013), (3942, 0.0), (3943, 0.0), (3944, 0.03538994304974309), (3945, 0.012014243820919061), (3946, 0.0), (3947, 0.0), (3948, 0.0), (3949, 0.0), (3950, 0.010913921517164554), (3951, 0.0048142312065826195), (3952, 0.01599076577651795), (3953, 0.04369970674775024), (3954, 0.013160067031324676), (3955, 0.0), (3956, 0.0036774191313795434), (3957, 0.003400781057460582), (3958, 0.0), (3959, 0.04974547643530082), (3960, 0.004677506072615637), (3961, 0.004553998432946648), (3962, 0.004633825266814072), (3963, 0.07131589693073598), (3964, 0.010965161945040568), (3965, 0.0), (3966, 0.0), (3967, 0.004561030655973812), (3968, 0.0), (3969, 0.0), (3970, 0.0), (3971, 0.0), (3972, 0.0), (3973, 0.004392839681999393), (3974, 0.003713566032399135), (3975, 0.0), (3976, 0.04100814458346301), (3977, 0.0), (3978, 0.003935383900871312), (3979, 0.0), (3980, 0.007876342031924917), (3981, 0.0), (3982, 0.0), (3983, 0.003090996267515069), (3984, 0.03516993084583115), (3985, 0.02802492035433986), (3986, 0.055770067176230086), (3987, 0.004394390877292797), (3988, 0.05049095562909658), (3989, 0.0), (3990, 0.005694951336497273), (3991, 0.0), (3992, 0.004663840340165356), (3993, 0.0), (3994, 0.0), (3995, 0.029992375735797813), (3996, 0.0), (3997, 0.0), (3998, 0.0), (3999, 0.01716947202337712), (4000, 0.004092474704129661), (4001, 0.0), (4002, 0.0047915825383135985), (4003, 0.13672194664214166), (4004, 0.0041842454675834135), (4005, 0.004408665911135027), (4006, 0.04228641111052479), (4007, 0.0382070639944099), (4008, 0.0), (4009, 0.0), (4010, 0.0), (4011, 0.013095534381741472), (4012, 0.009266186754304838), (4013, 0.036409244354196374), (4014, 0.004174599584876757), (4015, 0.0034034838864864616), (4016, 0.00411455613321298), (4017, 0.005598919202460596), (4018, 0.044954235143593285), (4019, 0.005348526189948029), (4020, 0.004047710368227261), (4021, 0.0), (4022, 0.009306203738790318), (4023, 0.004872484739957402), (4024, 0.004455569031658955), (4025, 0.014466140219460232), (4026, 0.0), (4027, 0.010367350864589835), (4028, 0.035161001434665495), (4029, 0.0), (4030, 0.004829237070863684), (4031, 0.0), (4032, 0.004814361775089238), (4033, 0.004352718372696975), (4034, 0.0), (4035, 0.0), (4036, 0.004031390817553716), (4037, 0.0), (4038, 0.004410950538813369), (4039, 0.0), (4040, 0.0), (4041, 0.0), (4042, 0.0045570018827345736), (4043, 0.0), (4044, 0.0), (4045, 0.0), (4046, 0.004523118851401436), (4047, 0.0), (4048, 0.004516798324135443), (4049, 0.004187358388097118), (4050, 0.01084565395766496), (4051, 0.015556608600563165), (4052, 0.004360598387673832), (4053, 0.0037438252656764467), (4054, 0.004374915560122067), (4055, 0.0), (4056, 0.013868657372449522), (4057, 0.0), (4058, 0.0546083857511189), (4059, 0.0038584183496850406), (4060, 0.01385361305253412), (4061, 0.010724248360116054), (4062, 0.004997336001663592), (4063, 0.0), (4064, 0.010891587772513077), (4065, 0.0), (4066, 0.00362334266655298), (4067, 0.0), (4068, 0.004191628864000883), (4069, 0.003985192325114246), (4070, 0.0), (4071, 0.0), (4072, 0.0), (4073, 0.009569442009963064), (4074, 0.030095346488256697), (4075, 0.004814271771029645), (4076, 0.0), (4077, 0.0), (4078, 0.0), (4079, 0.01445496904412588), (4080, 0.012502583712238452), (4081, 0.004148751603527295), (4082, 1.0), (4083, 0.004307503679901349), (4084, 0.012624693380248311), (4085, 0.06077356014795132), (4086, 0.0), (4087, 0.004485172423881132), (4088, 0.0), (4089, 0.0042959956359220975), (4090, 0.0), (4091, 0.1108481331612999), (4092, 0.004669139937294591), (4093, 0.0), (4094, 0.0), (4095, 0.003501487579099169), (4096, 0.0), (4097, 0.0), (4098, 0.004229246432403075), (4099, 0.0), (4100, 0.0), (4101, 0.047216036218521946), (4102, 0.005238653766205018), (4103, 0.0), (4104, 0.012359810388763263), (4105, 0.0670422133476574), (4106, 0.0), (4107, 0.005094634502874611), (4108, 0.0), (4109, 0.0), (4110, 0.0), (4111, 0.004416872186012255), (4112, 0.0), (4113, 0.004582690934567714), (4114, 0.0), (4115, 0.0), (4116, 0.004498185130839893), (4117, 0.015917383376074228), (4118, 0.0), (4119, 0.0), (4120, 0.0), (4121, 0.0), (4122, 0.0), (4123, 0.00435643507629261), (4124, 0.003904034099291884), (4125, 0.0), (4126, 0.004801084979101731), (4127, 0.0), (4128, 0.0), (4129, 0.04282061874321486), (4130, 0.004509599555654207), (4131, 0.0), (4132, 0.004441085962403081), (4133, 0.004498851945008121), (4134, 0.0), (4135, 0.004184437312505702), (4136, 0.014525941583265126), (4137, 0.004163786781167531), (4138, 0.015455933321179297), (4139, 0.05586048603622681), (4140, 0.004508044376592571), (4141, 0.01243256938208226), (4142, 0.005274997881461477), (4143, 0.0037087558840811995), (4144, 0.008255222410534438), (4145, 0.016379671338503654), (4146, 0.0), (4147, 0.04024832872026548), (4148, 0.0), (4149, 0.07402447602140336), (4150, 0.0), (4151, 0.00708888925971526), (4152, 0.003936457538576631), (4153, 0.0), (4154, 0.003728230257235082), (4155, 0.003941663718968314), (4156, 0.01222300954242867), (4157, 0.0), (4158, 0.03769656441131108), (4159, 0.0), (4160, 0.0046259302652049685), (4161, 0.004438669193658202), (4162, 0.0), (4163, 0.004783516632901504), (4164, 0.0), (4165, 0.0), (4166, 0.012675275803995049), (4167, 0.0), (4168, 0.029586497580688438), (4169, 0.004394981160272025), (4170, 0.0), (4171, 0.002915948475755331), (4172, 0.0054545267903144705), (4173, 0.0), (4174, 0.00379757089534143), (4175, 0.014847780828838985), (4176, 0.003793834710451913), (4177, 0.0), (4178, 0.004332292129542224), (4179, 0.0), (4180, 0.0), (4181, 0.0), (4182, 0.003130263201082959), (4183, 0.013524334578077755), (4184, 0.0), (4185, 0.0), (4186, 0.0), (4187, 0.004681521570126525), (4188, 0.0), (4189, 0.04290307574040933), (4190, 0.0), (4191, 0.0), (4192, 0.041516167868824956), (4193, 0.0), (4194, 0.0), (4195, 0.0), (4196, 0.0), (4197, 0.05897202013472914), (4198, 0.012964067129721413), (4199, 0.0), (4200, 0.0034112612086215056), (4201, 0.0), (4202, 0.005769208083764428), (4203, 0.004782539558644048), (4204, 0.0), (4205, 0.003685267464104569), (4206, 0.003919143118412305), (4207, 0.0), (4208, 0.036197881347759746), (4209, 0.005055817920518105), (4210, 0.0), (4211, 0.0), (4212, 0.0), (4213, 0.003923297988656417), (4214, 0.0), (4215, 0.0), (4216, 0.0), (4217, 0.0), (4218, 0.0), (4219, 0.0), (4220, 0.0036397832699316575), (4221, 0.005516345745865113), (4222, 0.018700910973252247), (4223, 0.015049252012634358), (4224, 0.0), (4225, 0.004331093308865558), (4226, 0.0), (4227, 0.04846568554629796), (4228, 0.004076182986287004), (4229, 0.009491348996970557), (4230, 0.0052865623879988985), (4231, 0.004401250699594337), (4232, 0.0035869073719438887), (4233, 0.03105023336554072), (4234, 0.0), (4235, 0.0), (4236, 0.0), (4237, 0.0), (4238, 0.0), (4239, 0.0), (4240, 0.04792723225263392), (4241, 0.0), (4242, 0.005125735166797256), (4243, 0.015874158045309505), (4244, 0.00472673013535687), (4245, 0.004432929933431419), (4246, 0.003906541870933878), (4247, 0.0036263645852927704), (4248, 0.0), (4249, 0.004257084074523147), (4250, 0.0), (4251, 0.0), (4252, 0.009446302466646355), (4253, 0.0), (4254, 0.0038740420696265192), (4255, 0.004182531648929686), (4256, 0.04555148962569256), (4257, 0.0038867304703744843), (4258, 0.0), (4259, 0.00458294031780535), (4260, 0.0), (4261, 0.0), (4262, 0.00428349977574536), (4263, 0.015358062276047194), (4264, 0.0), (4265, 0.0), (4266, 0.004163334248671405), (4267, 0.004737666820252259), (4268, 0.004109252056519509), (4269, 0.004425597886158553), (4270, 0.0), (4271, 0.0), (4272, 0.0), (4273, 0.004222108563327823), (4274, 0.0), (4275, 0.0), (4276, 0.0), (4277, 0.003779154013424863), (4278, 0.0), (4279, 0.0), (4280, 0.12444977639517261), (4281, 0.0), (4282, 0.0037979371066515387), (4283, 0.0042057275074366355), (4284, 0.047125486248222506), (4285, 0.0), (4286, 0.0043622108677316895), (4287, 0.014405896003886549), (4288, 0.008395374646376323), (4289, 0.0), (4290, 0.0), (4291, 0.1285945257136006), (4292, 0.0), (4293, 0.004604018386547017), (4294, 0.0), (4295, 0.027130022501004866), (4296, 0.0035938479283786906), (4297, 0.0), (4298, 0.054273507523531106), (4299, 0.004027764887433696), (4300, 0.10444019520915138), (4301, 0.0030611063575440452), (4302, 0.0), (4303, 0.0), (4304, 0.0037030422781467354), (4305, 0.0), (4306, 0.017239275536974966), (4307, 0.0), (4308, 0.004524650871200592), (4309, 0.01360976254518454), (4310, 0.0), (4311, 0.011328751779850248), (4312, 0.0), (4313, 0.0), (4314, 0.0), (4315, 0.010455525953484293), (4316, 0.0), (4317, 0.0), (4318, 0.004359806159384408), (4319, 0.010091397020123412), (4320, 0.013908593576140688), (4321, 0.013275304781950539), (4322, 0.008989526727208734), (4323, 0.0), (4324, 0.0), (4325, 0.0), (4326, 0.003782726623348454), (4327, 0.009568299083795148), (4328, 0.0), (4329, 0.0), (4330, 0.004128216347179576), (4331, 0.0), (4332, 0.04102796603070645), (4333, 0.026738275648551198), (4334, 0.0042643509647126675), (4335, 0.0), (4336, 0.0039852794462183925), (4337, 0.0), (4338, 0.0652365785400386), (4339, 0.0), (4340, 0.004267249035584584), (4341, 0.0), (4342, 0.024760559850436733), (4343, 0.003649440081247394), (4344, 0.02649580865677415), (4345, 0.003913614097758637), (4346, 0.0), (4347, 0.028753558677312392), (4348, 0.0037942857697610376), (4349, 0.00405705979654302), (4350, 0.012568336146876835), (4351, 0.010528888884760605), (4352, 0.0), (4353, 0.0), (4354, 0.03457869606466298), (4355, 0.004395490007876647), (4356, 0.0038371378128521263), (4357, 0.014863752765423136), (4358, 0.0), (4359, 0.056942515576614804), (4360, 0.0), (4361, 0.0322480770270913), (4362, 0.0040399066620288365), (4363, 0.03461993825855242), (4364, 0.0), (4365, 0.0), (4366, 0.0), (4367, 0.0), (4368, 0.04720481382225367), (4369, 0.016042286378412027), (4370, 0.0), (4371, 0.004424439091338948), (4372, 0.035916409870764755), (4373, 0.0), (4374, 0.003916477975879561), (4375, 0.0), (4376, 0.0), (4377, 0.0), (4378, 0.0), (4379, 0.0042748409126684836), (4380, 0.0), (4381, 0.013518168259095208), (4382, 0.003989614723447678), (4383, 0.04405652380959072), (4384, 0.0), (4385, 0.03821236299637614), (4386, 0.0035584239829931506), (4387, 0.04089761036321559), (4388, 0.0), (4389, 0.04974301918862124), (4390, 0.0), (4391, 0.004169641347149046), (4392, 0.07501566248221327), (4393, 0.0), (4394, 0.004094198878798802), (4395, 0.0040138741079640385), (4396, 0.004616106686590009), (4397, 0.004591842098012622), (4398, 0.004767589978751538), (4399, 0.0038992876923040114), (4400, 0.005259614662204374), (4401, 0.03736357134319597), (4402, 0.003815105498429879), (4403, 0.005258794961061122), (4404, 0.0), (4405, 0.0), (4406, 0.0), (4407, 0.005396803280588049), (4408, 0.011787800295476259), (4409, 0.004101507878267028), (4410, 0.0), (4411, 0.011945852217833317), (4412, 0.004833165377640563), (4413, 0.0), (4414, 0.0), (4415, 0.0), (4416, 0.004856606279577088), (4417, 0.0), (4418, 0.03120812539330024), (4419, 0.004301271744742791), (4420, 0.004350578742489617), (4421, 0.0), (4422, 0.01440970062010208), (4423, 0.005350177238787642), (4424, 0.0), (4425, 0.0), (4426, 0.0), (4427, 0.004121284693483399), (4428, 0.00391777001426584), (4429, 0.0035823637562027626), (4430, 0.004319800686919647), (4431, 0.004412417079557035), (4432, 0.0036113036519607533), (4433, 0.0), (4434, 0.0), (4435, 0.004145598905376175), (4436, 0.0), (4437, 0.008831504637118426), (4438, 0.009412802881436979), (4439, 0.0), (4440, 0.09110610575393496), (4441, 0.0), (4442, 0.013525112588993997), (4443, 0.005054337514956165), (4444, 0.005404722162277205), (4445, 0.043440559479830575), (4446, 0.0754868782643798), (4447, 0.0), (4448, 0.004308839812076451), (4449, 0.08358917540986435), (4450, 0.0), (4451, 0.0), (4452, 0.0), (4453, 0.0), (4454, 0.0), (4455, 0.0), (4456, 0.0), (4457, 0.0), (4458, 0.016630391675731382), (4459, 0.0), (4460, 0.011129090439920634), (4461, 0.003971970377142979), (4462, 0.0), (4463, 0.010898005865781631), (4464, 0.0), (4465, 0.00472860787285032), (4466, 0.0), (4467, 0.0), (4468, 0.0), (4469, 0.005155066511802012), (4470, 0.0042537757637713825), (4471, 0.004375258784031299), (4472, 0.003988325749464283), (4473, 0.003593402940100815), (4474, 0.004344256754345289), (4475, 0.0037102233102153195), (4476, 0.0035305531745418403), (4477, 0.004820249156898564), (4478, 0.0), (4479, 0.0623379374042568), (4480, 0.0), (4481, 0.0), (4482, 0.0), (4483, 0.011712027253139943), (4484, 0.0055010133281731015), (4485, 0.0), (4486, 0.0), (4487, 0.04575051223152883), (4488, 0.038062443957575985), (4489, 0.004375918685938838), (4490, 0.004893021115662081), (4491, 0.0), (4492, 0.0), (4493, 0.0), (4494, 0.037779559150651704), (4495, 0.03540523582681181), (4496, 0.0), (4497, 0.004319637151472443), (4498, 0.008046160766983885), (4499, 0.0), (4500, 0.04997779956740285), (4501, 0.033395478266555284), (4502, 0.003768314279622947), (4503, 0.004161105248129393), (4504, 0.003982128217511266), (4505, 0.004367269833905212), (4506, 0.034538259112638914), (4507, 0.0047390768030079935), (4508, 0.0), (4509, 0.0), (4510, 0.0), (4511, 0.004103681514868969), (4512, 0.0), (4513, 0.0), (4514, 0.011875668818643147), (4515, 0.0), (4516, 0.0047311875277833695), (4517, 0.004150872405147805), (4518, 0.0), (4519, 0.0), (4520, 0.004084390952071726), (4521, 0.005149908116681728), (4522, 0.004496319050762038), (4523, 0.003946881787872901), (4524, 0.0), (4525, 0.0), (4526, 0.0), (4527, 0.0), (4528, 0.04804399965000982), (4529, 0.005532009852217603), (4530, 0.004035116647878464), (4531, 0.004572489338885861), (4532, 0.0), (4533, 0.0042226485043085574), (4534, 0.0), (4535, 0.004618012412087933), (4536, 0.01332200467469476), (4537, 0.03765685165674309), (4538, 0.0), (4539, 0.03469862421393057), (4540, 0.004433294199623029), (4541, 0.0), (4542, 0.026565823934776498), (4543, 0.0), (4544, 0.00514701053848829), (4545, 0.004464885136991358), (4546, 0.005333175115814439), (4547, 0.0), (4548, 0.0), (4549, 0.0), (4550, 0.003999826285944008), (4551, 0.004566122391017445), (4552, 0.0), (4553, 0.0), (4554, 0.004904470970347461), (4555, 0.021015638667650292), (4556, 0.0), (4557, 0.0), (4558, 0.05667836446681577), (4559, 0.0), (4560, 0.0), (4561, 0.0), (4562, 0.0), (4563, 0.0042308271102635756), (4564, 0.0), (4565, 0.0), (4566, 0.014699288383369976), (4567, 0.003943303982655166), (4568, 0.027039409129207184), (4569, 0.0), (4570, 0.0), (4571, 0.006556173850834437), (4572, 0.005063707265036925), (4573, 0.003999728500672669), (4574, 0.004417705873181416), (4575, 0.01475372513854277), (4576, 0.004007422695373411), (4577, 0.0), (4578, 0.0), (4579, 0.00444722166832738), (4580, 0.010955988742453885), (4581, 0.0), (4582, 0.039161120056968965), (4583, 0.0), (4584, 0.004850614123453946), (4585, 0.0), (4586, 0.0), (4587, 0.0), (4588, 0.0), (4589, 0.004829213001435891), (4590, 0.0036945191517794335), (4591, 0.0038373253606665617), (4592, 0.04279209540262124), (4593, 0.0045878885185816586), (4594, 0.01642418907533931), (4595, 0.0), (4596, 0.0), (4597, 0.0), (4598, 0.00323690117109326), (4599, 0.011262049121857952), (4600, 0.0), (4601, 0.036603629581690666), (4602, 0.0045268039859187445), (4603, 0.0038486512189878593), (4604, 0.004148201574280232), (4605, 0.015488755663728948), (4606, 0.005223398472467809), (4607, 0.04500960700396291), (4608, 0.0036613550195543987), (4609, 0.0), (4610, 0.0034627465091907547), (4611, 0.005499494131170483), (4612, 0.005136375027502208), (4613, 0.0), (4614, 0.003940982664528403), (4615, 0.0), (4616, 0.0038113332714058683), (4617, 0.0056429549685048895), (4618, 0.0), (4619, 0.004552265190398458), (4620, 0.05834146247630257), (4621, 0.030229622180756616), (4622, 0.0), (4623, 0.0), (4624, 0.004326498394565452), (4625, 0.014478244924685971), (4626, 0.003335768741964259), (4627, 0.0035403046146791368), (4628, 0.010133789117476316), (4629, 0.004304116467694529), (4630, 0.0), (4631, 0.0), (4632, 0.01643919917914192), (4633, 0.004848858748901025), (4634, 0.04128022653847307), (4635, 0.0), (4636, 0.003479381409518219), (4637, 0.20913706038294105), (4638, 0.03826053625685361), (4639, 0.0), (4640, 0.004133545883995157), (4641, 0.00403052345373854), (4642, 0.0), (4643, 0.004244047342718769), (4644, 0.0), (4645, 0.0), (4646, 0.0), (4647, 0.03969989921800629), (4648, 0.0), (4649, 0.003789077378954778), (4650, 0.035720926383143135), (4651, 0.0), (4652, 0.010658141785783738), (4653, 0.1549204539045156), (4654, 0.0), (4655, 0.0), (4656, 0.0), (4657, 0.014996813339587505), (4658, 0.003966582705055369), (4659, 0.0), (4660, 0.0050877565724858345), (4661, 0.0036572728593151954), (4662, 0.0), (4663, 0.0), (4664, 0.027057941649863908), (4665, 0.0), (4666, 0.0), (4667, 0.0), (4668, 0.004065412118691216), (4669, 0.004493674381860578), (4670, 0.031663146996382424), (4671, 0.0), (4672, 0.0), (4673, 0.0039961418797639075), (4674, 0.0033138069131526827), (4675, 0.04373811901273736), (4676, 0.0), (4677, 0.0423931525771421), (4678, 0.027462883457788256), (4679, 0.03687460958797211), (4680, 0.004411406267143849), (4681, 0.0), (4682, 0.0), (4683, 0.0), (4684, 0.0), (4685, 0.0040507269017419825), (4686, 0.00415106946814789), (4687, 0.0040343079118335045), (4688, 0.009748734134728439), (4689, 0.0), (4690, 0.0), (4691, 0.0), (4692, 0.005150265478399543), (4693, 0.004007796862063825), (4694, 0.0048478313218825045), (4695, 0.0), (4696, 0.005405288052179602), (4697, 0.0), (4698, 0.0), (4699, 0.004655196133520144), (4700, 0.0), (4701, 0.004917412525558961), (4702, 0.009969756354392977), (4703, 0.0), (4704, 0.00563650626524269), (4705, 0.005898989477862405), (4706, 0.0045838490872472945), (4707, 0.04235652749645531), (4708, 0.0), (4709, 0.0), (4710, 0.005215253375315244), (4711, 0.0), (4712, 0.012561296718803489), (4713, 0.016141785200232815), (4714, 0.0), (4715, 0.0041365597442110024), (4716, 0.0), (4717, 0.004871812067071563), (4718, 0.015638650062609116), (4719, 0.027006444883076915), (4720, 0.0), (4721, 0.0), (4722, 0.0044729291304414056), (4723, 0.0050446222879292155), (4724, 0.005086041320183566), (4725, 0.0), (4726, 0.0), (4727, 0.0), (4728, 0.042771572368902305), (4729, 0.003963159961655973), (4730, 0.0), (4731, 0.004671405770355126), (4732, 0.0045001639497803236), (4733, 0.00344261178443278), (4734, 0.03572188848980738), (4735, 0.004882326733036832), (4736, 0.0), (4737, 0.0), (4738, 0.00981363438213929), (4739, 0.008413604895270542), (4740, 0.0), (4741, 0.011187975836191421), (4742, 0.0), (4743, 0.00402573871962888), (4744, 0.0033446908027603257), (4745, 0.0), (4746, 0.0), (4747, 0.0), (4748, 0.003573320173505932), (4749, 0.005537125531521348), (4750, 0.0), (4751, 0.0), (4752, 0.0029554209214349447), (4753, 0.0047046858518163676), (4754, 0.12187275185232148), (4755, 0.0), (4756, 0.0042825454961295285), (4757, 0.004332814313296301), (4758, 0.0), (4759, 0.0)]\n"
          ]
        }
      ]
    },
    {
      "cell_type": "code",
      "source": [
        "len(Recommendation_Score)"
      ],
      "metadata": {
        "colab": {
          "base_uri": "https://localhost:8080/"
        },
        "id": "SmEr7883bVAn",
        "outputId": "35188da0-23c7-419c-da30-47ab53f2c4ea"
      },
      "execution_count": null,
      "outputs": [
        {
          "output_type": "execute_result",
          "data": {
            "text/plain": [
              "4760"
            ]
          },
          "metadata": {},
          "execution_count": 42
        }
      ]
    },
    {
      "cell_type": "code",
      "source": [
        "Sorted_Similar_Movies = sorted(Recommendation_Score, key = lambda x:x[1], reverse = True)\n",
        "print(Sorted_Similar_Movies)"
      ],
      "metadata": {
        "colab": {
          "base_uri": "https://localhost:8080/"
        },
        "id": "L869CmSpbU93",
        "outputId": "b6e7838e-a0f6-4023-84b6-4b585ec82cc2"
      },
      "execution_count": null,
      "outputs": [
        {
          "output_type": "stream",
          "name": "stdout",
          "text": [
            "[(4082, 1.0), (4637, 0.20913706038294105), (3828, 0.17477245264153138), (484, 0.1649972619952396), (4653, 0.1549204539045156), (2537, 0.14405167846254266), (891, 0.13714756484730428), (3735, 0.13696077901807574), (4003, 0.13672194664214166), (464, 0.136123704106641), (2626, 0.1358381674075355), (1727, 0.1329769248518974), (4291, 0.1285945257136006), (3916, 0.12836053923574517), (1108, 0.12628741549641137), (4280, 0.12444977639517261), (2847, 0.12220012026873325), (4754, 0.12187275185232148), (1893, 0.12111115950102386), (3854, 0.11827156392924573), (2652, 0.11725403044175918), (571, 0.11723540414031489), (1054, 0.11687190390678105), (3197, 0.11248298662933923), (632, 0.111862114268093), (1317, 0.1110787130290346), (4091, 0.1108481331612999), (3504, 0.10895655300695048), (2919, 0.10847967258616689), (3794, 0.10643407418355827), (3940, 0.10617130266180089), (1154, 0.10452079469665199), (4300, 0.10444019520915138), (2163, 0.1014249782425017), (505, 0.09975639737109104), (3364, 0.09833736644313337), (1146, 0.09754386360815809), (846, 0.097331594145627), (343, 0.09732653722259524), (1543, 0.09719983389709685), (895, 0.09716712569371655), (283, 0.09671914324321679), (3306, 0.09627019054615944), (263, 0.09546813956123379), (3680, 0.09538659065169816), (3853, 0.09525672595707761), (2032, 0.09498673631826271), (1964, 0.09492350247640403), (2749, 0.09181346342137625), (4440, 0.09110610575393496), (3607, 0.09087845591617058), (1244, 0.08932322087517976), (321, 0.08751377353960743), (1478, 0.08582734873329598), (1366, 0.08529197477998596), (4449, 0.08358917540986435), (3101, 0.08326441134210767), (1942, 0.08267470446804928), (438, 0.08247260570497517), (952, 0.08146975683257059), (183, 0.07960077198045175), (2870, 0.07841887964538476), (3868, 0.07775316814539139), (994, 0.07659003893612591), (826, 0.0761934459833116), (2188, 0.07611831251831408), (4446, 0.0754868782643798), (329, 0.07503072210094336), (4392, 0.07501566248221327), (1678, 0.07447121791861952), (4149, 0.07402447602140336), (1390, 0.0724241167962161), (3963, 0.07131589693073598), (877, 0.07033222713972495), (1845, 0.07029465211263983), (3415, 0.07025936520543853), (3328, 0.07010682757696986), (3022, 0.06948434893714686), (1463, 0.06922801377406669), (326, 0.06889319889946727), (3115, 0.0683463720497017), (589, 0.06827614340434486), (758, 0.06820054066053377), (2908, 0.06809431493513077), (1908, 0.0676749466103125), (1400, 0.06730802496439157), (1007, 0.06722121642434269), (4105, 0.0670422133476574), (1165, 0.0670063242317005), (428, 0.06673841129756358), (3534, 0.06646508411804877), (2111, 0.06629935682506483), (3089, 0.06529379879774203), (4338, 0.0652365785400386), (3886, 0.06464931989067245), (1073, 0.0643403031634712), (108, 0.06401523115895567), (3577, 0.06396823419370357), (2629, 0.0638590610741624), (431, 0.0637513024983973), (932, 0.06368339153919159), (3538, 0.06359816208901926), (3013, 0.06346055029520938), (1204, 0.06328116278931481), (2637, 0.06253412041286707), (3913, 0.062485883602764025), (4479, 0.0623379374042568), (2901, 0.06166502183434748), (2928, 0.061511337001160946), (2740, 0.060865223239803166), (4085, 0.06077356014795132), (2306, 0.060766096179289464), (3678, 0.06049960851949233), (2319, 0.06009419023142731), (886, 0.05986248935805001), (4197, 0.05897202013472914), (3684, 0.05842182751419973), (4620, 0.05834146247630257), (140, 0.05806164169297601), (2007, 0.058013989971786833), (1164, 0.057927073105163575), (865, 0.057762902346120956), (3804, 0.0577401305193421), (3656, 0.057480526303403424), (709, 0.05731807540863011), (3932, 0.05715973084719933), (1530, 0.05695348115756167), (4359, 0.056942515576614804), (4558, 0.05667836446681577), (2184, 0.056105507588186956), (1044, 0.05605602077998193), (405, 0.055885214429245184), (4139, 0.05586048603622681), (3986, 0.055770067176230086), (2716, 0.05573770518737412), (3496, 0.055560660322459425), (2657, 0.05539426421284997), (853, 0.055238166582306195), (2859, 0.0548432678921246), (1208, 0.05465888751630692), (760, 0.05464621499884764), (4058, 0.0546083857511189), (36, 0.05458077528069486), (3754, 0.054565484858977886), (3388, 0.05453608703170221), (31, 0.054421299562153885), (4298, 0.054273507523531106), (3246, 0.053929978274818505), (272, 0.053705214435447825), (1677, 0.0532496902111594), (657, 0.05321436522168243), (3639, 0.05314605689068082), (2102, 0.05284712800261172), (436, 0.05264191938486911), (1474, 0.05247175197041025), (2201, 0.05233131263794582), (518, 0.05186313213061661), (1767, 0.05162402585620059), (1547, 0.05152522262069539), (2203, 0.051058191358480255), (116, 0.05101965316184797), (3054, 0.050841161008709786), (1049, 0.05083723223300586), (1762, 0.05073298956779051), (3988, 0.05049095562909658), (2437, 0.050213842715027816), (4500, 0.04997779956740285), (3789, 0.049969053190198585), (859, 0.049856004132674846), (3895, 0.04978274697084811), (3959, 0.04974547643530082), (4389, 0.04974301918862124), (2892, 0.049133875731651636), (1827, 0.0488831854244933), (2543, 0.04861825205918219), (2927, 0.04861016639966121), (4227, 0.04846568554629796), (2884, 0.048418360693065814), (2527, 0.048383879679976316), (631, 0.048377244935838004), (1302, 0.048313559819366275), (3453, 0.04828943625522064), (3716, 0.048283038501619496), (3225, 0.048215325094194704), (4528, 0.04804399965000982), (2575, 0.04798548475561949), (2167, 0.047980524297479434), (4240, 0.04792723225263392), (3694, 0.047877179888520194), (1332, 0.047825780184865066), (176, 0.047716197911027006), (2061, 0.04765554352377743), (3468, 0.04731650272276112), (4101, 0.047216036218521946), (4368, 0.04720481382225367), (4284, 0.047125486248222506), (3869, 0.04705479466668849), (2635, 0.047001926597003495), (1268, 0.04693885696936658), (280, 0.04692791327175762), (1925, 0.04691303351885007), (1540, 0.04685936803946977), (2443, 0.04679892484739124), (3312, 0.04659095202639575), (1570, 0.046525336427026984), (1188, 0.046433737698247435), (429, 0.04636406125335953), (1338, 0.046276748433085976), (1112, 0.04625157340329313), (3299, 0.04614379526859318), (1829, 0.04605604681449113), (3731, 0.04582975815324119), (227, 0.04581873300180703), (4487, 0.04575051223152883), (3236, 0.045653968029554994), (3934, 0.045582584630823084), (2385, 0.045563622419207986), (4256, 0.04555148962569256), (2689, 0.04550286997857603), (2897, 0.04549970903985127), (3696, 0.04537482378815706), (3811, 0.045277654622765555), (660, 0.045188500448940246), (2296, 0.04514342952550653), (178, 0.045100478412763746), (2073, 0.04508729303025706), (4607, 0.04500960700396291), (1821, 0.04498925961903131), (4018, 0.044954235143593285), (2410, 0.04477423233281071), (3462, 0.04444833182349037), (469, 0.04441153143185264), (726, 0.04410140839681804), (3876, 0.04408756699023186), (1902, 0.04408652197000763), (4383, 0.04405652380959072), (3809, 0.043926098316929556), (198, 0.04389236682424809), (1759, 0.043876673510174685), (1891, 0.043855528866767336), (2261, 0.04383497935256946), (3435, 0.043809392188128383), (961, 0.04377685180157407), (4675, 0.04373811901273736), (2898, 0.043713619587366984), (2222, 0.04370362189449082), (3953, 0.04369970674775024), (2155, 0.043622197362472116), (1503, 0.04354642861313419), (3218, 0.04351193083799179), (2280, 0.043490512231738186), (1344, 0.04345535928714404), (697, 0.04344081321213558), (4445, 0.043440559479830575), (637, 0.04343389270660107), (118, 0.04341416692803755), (1769, 0.04337735152219173), (2510, 0.04335052691559289), (612, 0.04333334929909304), (2745, 0.043274063493282645), (1724, 0.04319125667881502), (3703, 0.04317915738533227), (1980, 0.04307869392674472), (2713, 0.04300957939405767), (1172, 0.04297718473074053), (2896, 0.04296694403679015), (4189, 0.04290307574040933), (4129, 0.04282061874321486), (4592, 0.04279209540262124), (3106, 0.04278909426498995), (4728, 0.042771572368902305), (389, 0.0427342987567927), (2734, 0.04271282388309063), (259, 0.0426792357541858), (361, 0.042581103036919796), (646, 0.04254291097139662), (4677, 0.0423931525771421), (3720, 0.042367665761955865), (4707, 0.04235652749645531), (2752, 0.04231280391512337), (2554, 0.042312501517920834), (628, 0.04228794865196171), (4006, 0.04228641111052479), (667, 0.042173498106469), (1001, 0.04216352916042658), (2802, 0.041921949019148017), (1965, 0.041899272199423895), (71, 0.04181262799653529), (3137, 0.04171038632610681), (1731, 0.04154109024826454), (4192, 0.041516167868824956), (1921, 0.04150099891105241), (480, 0.04128709590305291), (4634, 0.04128022653847307), (2193, 0.0411853175762404), (1552, 0.04104061454362857), (4332, 0.04102796603070645), (852, 0.041011023460004604), (3976, 0.04100814458346301), (1744, 0.040899749920297955), (4387, 0.04089761036321559), (713, 0.04086698422849723), (2252, 0.04074590720923555), (771, 0.04074233779542343), (1536, 0.04069467039675644), (77, 0.04050236964952759), (740, 0.040459698865318874), (3529, 0.04031466048647161), (3407, 0.04024872740512675), (4147, 0.04024832872026548), (3500, 0.040134858656660735), (2907, 0.04012086279717218), (1487, 0.04011601881897207), (2208, 0.040081588936023746), (671, 0.04000937558801467), (3839, 0.03990162054734797), (3631, 0.039898643670775454), (3220, 0.03988900191305233), (4647, 0.03969989921800629), (745, 0.039687561225051245), (2090, 0.03946863757582831), (201, 0.039455823164409994), (4582, 0.039161120056968965), (3287, 0.03909486233159242), (2738, 0.039007977196192464), (1149, 0.039005776242194895), (3763, 0.03895585583952045), (1080, 0.03894403817545249), (2990, 0.03894314806102583), (161, 0.03888434805256663), (3395, 0.038869097881436825), (785, 0.03876979086950276), (1901, 0.03875734132105789), (2985, 0.03873384949077027), (1055, 0.038634669948114264), (0, 0.03861997592060845), (3189, 0.03854580205177099), (1817, 0.03852190654547571), (4638, 0.03826053625685361), (4385, 0.03821236299637614), (4007, 0.0382070639944099), (2677, 0.0381292408656801), (4488, 0.038062443957575985), (3482, 0.038048691537564204), (944, 0.038025632061898434), (3063, 0.03796013157409115), (3531, 0.03795721152260737), (1906, 0.037945452274755535), (2106, 0.037926887565355165), (2583, 0.037920706281818505), (3887, 0.03788878510234567), (4494, 0.037779559150651704), (3865, 0.03773367395222445), (4158, 0.03769656441131108), (4537, 0.03765685165674309), (2608, 0.03759647330758454), (3344, 0.03757084637855625), (2747, 0.037484364751639944), (3861, 0.037465632473590464), (3414, 0.037434638813783665), (4401, 0.03736357134319597), (535, 0.03731437039675054), (2587, 0.037221447093848226), (3793, 0.03717758799190287), (1559, 0.037149876333730444), (1499, 0.037002222748944526), (695, 0.03694708334601531), (4679, 0.03687460958797211), (217, 0.036859828776265556), (1846, 0.03683972707743023), (2469, 0.03683801473036688), (3200, 0.03675662770441953), (3244, 0.03674617925539452), (1454, 0.03673154662415551), (1794, 0.03670509454117429), (3669, 0.03666081685250583), (1219, 0.03661445656694377), (4601, 0.036603629581690666), (4013, 0.036409244354196374), (1997, 0.03633346081177001), (450, 0.03627048979959139), (1008, 0.03625605805838989), (1733, 0.03624308716448738), (4208, 0.036197881347759746), (3234, 0.03613059268537776), (3714, 0.03612983375427464), (780, 0.03598017764667963), (453, 0.03597830721117355), (2447, 0.035973485527453636), (4372, 0.035916409870764755), (1800, 0.03589407343363468), (3891, 0.03581255526747293), (1959, 0.035755856905003), (4734, 0.03572188848980738), (4650, 0.035720926383143135), (1756, 0.0356618005056867), (3098, 0.035551085645294724), (1824, 0.03554750936750033), (1451, 0.03552216238102908), (175, 0.035416915054989465), (4495, 0.03540523582681181), (3944, 0.03538994304974309), (3777, 0.035333595527256456), (1918, 0.03532397395242433), (964, 0.03527266910554885), (1572, 0.03517162323285999), (3984, 0.03516993084583115), (4028, 0.035161001434665495), (381, 0.03505921824415701), (60, 0.034913445950433886), (3579, 0.034838045811312196), (4539, 0.03469862421393057), (1524, 0.03463499758533205), (4363, 0.03461993825855242), (14, 0.03460485162140442), (4354, 0.03457869606466298), (4506, 0.034538259112638914), (338, 0.034502482934848845), (433, 0.034309179192503786), (3598, 0.03429963257816537), (1626, 0.034266245894680476), (3527, 0.034168372381721004), (1740, 0.03411411321341337), (750, 0.03406976728081231), (3636, 0.034064170070340946), (3283, 0.03406303232580416), (796, 0.033884698860941614), (3856, 0.03386816824146368), (3056, 0.033811368816708), (2293, 0.03378624749357371), (848, 0.03372621298551373), (1688, 0.03370619053490613), (378, 0.03358510801204453), (3564, 0.03357162979939217), (3386, 0.03349244043970589), (3612, 0.03345466978821681), (4501, 0.033395478266555284), (1510, 0.03336987937930341), (2109, 0.03332001175264793), (993, 0.03329776049565951), (2873, 0.0332964215291138), (2357, 0.03328108263939138), (545, 0.033221015946303424), (3553, 0.03314395981342635), (224, 0.03309815860019837), (3565, 0.033096509217981754), (2079, 0.033023895919993336), (282, 0.03294548984773532), (1403, 0.03293974348339049), (2877, 0.03285474710789466), (2799, 0.03281168683269222), (400, 0.032751166856741), (407, 0.03274782449919503), (2852, 0.03273807734631925), (3110, 0.03254313856994984), (119, 0.03242961432179074), (538, 0.03228145452107906), (3069, 0.03227952734502048), (2029, 0.03227108052109556), (4361, 0.0322480770270913), (923, 0.032205278786618406), (522, 0.03208615544517774), (802, 0.03207713068112494), (2668, 0.03189254290103809), (595, 0.03181558020598102), (1222, 0.0317022979952013), (2750, 0.03169823447664944), (4670, 0.031663146996382424), (1416, 0.0315874648647401), (2968, 0.0315763525553069), (1162, 0.03156089311731021), (1087, 0.03151210414873896), (3691, 0.03145303914753133), (3036, 0.03142645307705702), (1793, 0.0313439195397557), (1335, 0.03130458805291803), (2006, 0.0312883467691439), (963, 0.03126000839678234), (3819, 0.031209821908910813), (4418, 0.03120812539330024), (232, 0.031146859437979655), (1131, 0.03109939881214263), (4233, 0.03105023336554072), (154, 0.03102705885872263), (805, 0.030924579523739164), (3282, 0.030816011248842187), (1193, 0.030719390498994713), (348, 0.03068337522483799), (1099, 0.03067530688533321), (2516, 0.03065181272912984), (466, 0.030644022706389017), (624, 0.030588414829706395), (1613, 0.030493182117823297), (976, 0.030490875196989644), (2482, 0.03046820210692448), (781, 0.03046576561752888), (1114, 0.03044541921102655), (1949, 0.030392464391228186), (1528, 0.030374663481918713), (207, 0.030350140108028736), (2675, 0.03032579530762358), (1847, 0.030267761522376996), (1883, 0.030247324020116786), (4621, 0.030229622180756616), (59, 0.030204016133667112), (3446, 0.030107283244888684), (4074, 0.030095346488256697), (517, 0.030062869038159763), (844, 0.030059196395043095), (3840, 0.03005269890696514), (2912, 0.030013151396064593), (3995, 0.029992375735797813), (3815, 0.029888493993391243), (1636, 0.029806125844961055), (3722, 0.02974352572857416), (2285, 0.029743280231377914), (2264, 0.02971011904786347), (1004, 0.02962749366397357), (1954, 0.02962372036465201), (4168, 0.029586497580688438), (3390, 0.02953259253030261), (3604, 0.02951283851529969), (984, 0.02948353564369307), (2421, 0.02947495059399906), (3831, 0.02946550859601121), (2765, 0.02946288837809462), (2753, 0.02946104842819036), (92, 0.029430158207678622), (767, 0.02940287858935507), (3730, 0.029373173341050933), (102, 0.02935587224988099), (131, 0.029308861341316057), (3467, 0.02929853009441096), (2800, 0.029284403627610995), (3181, 0.02928021061850263), (1036, 0.029233786993303767), (824, 0.029207784744596472), (2082, 0.02915011512769542), (1295, 0.029028596026855855), (1226, 0.029020813095291944), (2813, 0.028990434484742658), (3937, 0.028932737893087087), (1456, 0.028770088969457742), (4347, 0.028753558677312392), (3570, 0.028747748934293403), (3120, 0.02869681469358427), (2611, 0.028690133781614627), (2868, 0.028676999083242463), (744, 0.02866461737324445), (3066, 0.028642216404137714), (3368, 0.028621729713176468), (500, 0.02858480568436399), (3585, 0.028572854773415833), (324, 0.028568462055645123), (2824, 0.028560968191014623), (1913, 0.028548135890523258), (152, 0.02846936559095752), (1672, 0.0283749460402979), (1202, 0.028366161135871516), (626, 0.028340481891581337), (2763, 0.028251776391876073), (3141, 0.02824393041671401), (3562, 0.028237625948037498), (320, 0.028169327905703624), (1544, 0.028141674981375174), (2039, 0.028130200116888077), (3418, 0.028129237124239755), (3871, 0.028045024633880297), (3985, 0.02802492035433986), (3881, 0.027956782200588653), (1506, 0.027949991198284004), (2950, 0.02785909464820477), (2690, 0.02783829933378454), (1738, 0.02783042208368495), (720, 0.027822846024440375), (3108, 0.027819577531291072), (732, 0.02767008629514977), (268, 0.027645347372589637), (2202, 0.02761808919959885), (2865, 0.02759181582207508), (1579, 0.027556097755176027), (3252, 0.02754296701501865), (4678, 0.027462883457788256), (1111, 0.027458095494837725), (45, 0.02745548901200554), (3899, 0.027445507408778796), (1958, 0.027426820716500457), (2578, 0.027402230637466867), (2823, 0.02738916394976253), (1992, 0.02738797561875175), (3272, 0.027347647080219376), (222, 0.027281410641011628), (1991, 0.027258227360606103), (3908, 0.02722359615568629), (2549, 0.02721462710968743), (97, 0.02720106595714737), (630, 0.027149824770907584), (4295, 0.027130022501004866), (4664, 0.027057941649863908), (4568, 0.027039409129207184), (3756, 0.02703807116779708), (2584, 0.027031075942259678), (4719, 0.027006444883076915), (2671, 0.026946807888835432), (2791, 0.026885812850206452), (2835, 0.026790524250018568), (3518, 0.026745360295633198), (4333, 0.026738275648551198), (4542, 0.026565823934776498), (2070, 0.02651227071906916), (1263, 0.026497480867458734), (1088, 0.02649657377859426), (4344, 0.02649580865677415), (467, 0.026487313405409104), (322, 0.026459274424413256), (2058, 0.026455247143164353), (1127, 0.026446738976179014), (2654, 0.026364345654279857), (1870, 0.02620200502218938), (825, 0.026060355795342004), (345, 0.02604217570680551), (1468, 0.02598531874227862), (318, 0.025967990805618922), (521, 0.02587049074012499), (390, 0.02586168755978315), (616, 0.02583029359071143), (91, 0.0256105186943067), (3548, 0.025489468184192936), (3751, 0.025476333021547386), (106, 0.02544497614034618), (2697, 0.025375137776581826), (257, 0.025257417285054824), (648, 0.025111581751475796), (3509, 0.02509859115050298), (3909, 0.025069554188141465), (1075, 0.02503169684280035), (2842, 0.025011396673800305), (2742, 0.024947605176645724), (1781, 0.024943908194166652), (3410, 0.024942707820830266), (2762, 0.02480881307691496), (4342, 0.024760559850436733), (801, 0.02461352696372617), (3213, 0.02457411632630895), (3559, 0.024572109854154294), (37, 0.024529235894065186), (1729, 0.024473144227166604), (1039, 0.02442802808983845), (1306, 0.024378638636219765), (3860, 0.02436231310001142), (3481, 0.024346852403824826), (2262, 0.02420748574045136), (3199, 0.02400304701422996), (2122, 0.02398843418926165), (602, 0.0239354895118777), (1384, 0.02391463523516826), (3082, 0.0238983104466577), (3492, 0.023732856496331164), (1772, 0.02331685090293694), (243, 0.02327148598334402), (692, 0.023223639610319036), (2678, 0.022709319819272853), (970, 0.02270218577337397), (3552, 0.022678495447404613), (29, 0.022628331596024575), (2068, 0.02257955025926678), (1221, 0.02233911219792873), (1752, 0.02221573302868828), (2388, 0.02218463272353672), (738, 0.02213550798409544), (1137, 0.022061157696113547), (3178, 0.02204621639579777), (332, 0.021950820362785485), (2064, 0.021592990944008586), (1115, 0.021590612977122683), (168, 0.021117929509897593), (3276, 0.02104903535885337), (4555, 0.021015638667650292), (3925, 0.020755280688289603), (3103, 0.020746661277481915), (1565, 0.02031094567817627), (24, 0.020244293710510584), (2529, 0.020241261936526877), (3391, 0.02014281577612273), (2732, 0.020026063626132223), (2764, 0.01986589518047502), (2287, 0.019824472189085247), (2614, 0.019620633182378715), (3161, 0.019371421996739475), (3166, 0.01934198801522707), (2349, 0.019306722249579585), (2220, 0.019291413613621432), (1145, 0.0192818974610911), (2407, 0.019274922638926488), (2814, 0.019223494545391566), (735, 0.019040561944820934), (2809, 0.019020116052921584), (787, 0.018959324856627085), (2775, 0.018929847718618203), (3030, 0.01888993279686626), (2883, 0.018869591428438193), (3291, 0.01873832974149417), (4222, 0.018700910973252247), (144, 0.018660557790273504), (3479, 0.018621873672219402), (3859, 0.01857305946152249), (2559, 0.018330337244250518), (2832, 0.01829942030874682), (2075, 0.01827083042432822), (3750, 0.018170396648677416), (2643, 0.01803383533231211), (2838, 0.017820120912042763), (3015, 0.017669733369415984), (3140, 0.01754848116650117), (3363, 0.017390397389502335), (2841, 0.017313001665657583), (2834, 0.01729936184643635), (4306, 0.017239275536974966), (2857, 0.01721229992220039), (3004, 0.01717473866352645), (2266, 0.01716952460042185), (3999, 0.01716947202337712), (2797, 0.017067311391241537), (2488, 0.017041108136486693), (2848, 0.017020427909128708), (3302, 0.016989484467703285), (1655, 0.016961756759279457), (2966, 0.016951038090524558), (2415, 0.016920073200080578), (3257, 0.0168018334296753), (3413, 0.016748417647232658), (489, 0.01668052086568117), (2434, 0.016669800964644037), (4458, 0.016630391675731382), (788, 0.016591146082455634), (3308, 0.01650808914495462), (2986, 0.016493587480423896), (2769, 0.016458496435665323), (4632, 0.01643919917914192), (4594, 0.01642418907533931), (2737, 0.01641562737754583), (2570, 0.016411660935544782), (3524, 0.01640589117253647), (3745, 0.016402919107502516), (1053, 0.016400861098808457), (1187, 0.016382874145999204), (4145, 0.016379671338503654), (1885, 0.016338179771931794), (3094, 0.016315635541170204), (3359, 0.016227618127884067), (2320, 0.016210222894674026), (2696, 0.016209363257502163), (3072, 0.01620666256271185), (2269, 0.01618360970780503), (2924, 0.01617143763343407), (3425, 0.016156847071293546), (1398, 0.01614181838781645), (4713, 0.016141785200232815), (3408, 0.016125189463862363), (448, 0.016094823600360353), (3506, 0.016082242212741578), (3866, 0.01607314097458007), (2872, 0.01605087266669273), (4369, 0.016042286378412027), (3165, 0.016015756947119403), (2560, 0.016003751113323045), (2187, 0.016003403040222637), (3952, 0.01599076577651795), (847, 0.01599004456031041), (985, 0.015950908893332387), (2702, 0.01593700876956413), (4117, 0.015917383376074228), (1184, 0.015907735626386824), (2701, 0.015890107858721303), (4243, 0.015874158045309505), (3296, 0.015859450719668728), (2051, 0.015842633242259825), (3867, 0.015840456025967304), (2302, 0.015837938887979096), (1909, 0.015826951444719732), (2893, 0.015812794990982613), (998, 0.015807372714147474), (999, 0.015794435481294), (3148, 0.01578761106109589), (737, 0.015727354553215053), (576, 0.015718868190112027), (3274, 0.015711040023173535), (1023, 0.01567401977064875), (1489, 0.015668383267043628), (3560, 0.015667380944394342), (813, 0.015661101596122308), (2974, 0.015655364318739783), (4718, 0.015638650062609116), (1594, 0.015612035745934592), (1858, 0.015602673495491808), (4051, 0.015556608600563165), (3248, 0.015551156788252807), (3273, 0.01552387585780126), (2830, 0.015518826714138154), (4605, 0.015488755663728948), (2108, 0.015476784596494729), (1109, 0.015461860061966582), (4138, 0.015455933321179297), (2535, 0.015454809722069675), (1707, 0.01543864051851612), (857, 0.015398106746735106), (62, 0.015394950705551955), (2890, 0.01538657560943122), (2159, 0.015376029624770545), (2049, 0.015372500925226133), (4263, 0.015358062276047194), (3417, 0.015357699966146152), (587, 0.015335364520998603), (3116, 0.015322784870885004), (2375, 0.015318850666437631), (1479, 0.01529361053015849), (2390, 0.015286139899644823), (3183, 0.015269342271690578), (1866, 0.015225779899803792), (1905, 0.015202183060450342), (2915, 0.015163708174101037), (2748, 0.015162936347743818), (3258, 0.015162619734424732), (3915, 0.015145571380254134), (8, 0.015143413546012436), (3889, 0.015122493921462478), (1897, 0.015118703959787805), (2705, 0.015098299301388098), (192, 0.015081408993166304), (3449, 0.015067831098994013), (3271, 0.015066485364146561), (3893, 0.015063699140101259), (2116, 0.015049524104929797), (4223, 0.015049252012634358), (2494, 0.015033587340394889), (2776, 0.01501801529232146), (1518, 0.015017713190606248), (4657, 0.014996813339587505), (2475, 0.014995544676241031), (3184, 0.014976847627243082), (1798, 0.014969393062467869), (2661, 0.014968923798755359), (3904, 0.01491458454299289), (2391, 0.014892945038935297), (1324, 0.014874145720645467), (2609, 0.014872978942131698), (3601, 0.014871059618618013), (2664, 0.014865726627925561), (3235, 0.014864836882894146), (4357, 0.014863752765423136), (1619, 0.014859935624196987), (2105, 0.0148483049027975), (4175, 0.014847780828838985), (3434, 0.014834561894820188), (623, 0.014809639900017369), (493, 0.01480492093364668), (2821, 0.014803065006432062), (930, 0.014800337215765662), (1951, 0.014794260287850518), (3314, 0.014788659961620109), (456, 0.014773481054673713), (3326, 0.014768548652668053), (4575, 0.01475372513854277), (1685, 0.014752972746302825), (2755, 0.014744567379073443), (193, 0.014742867986186566), (2610, 0.01473629471199656), (3406, 0.014715867355045435), (4566, 0.014699288383369976), (2878, 0.014698835669222917), (783, 0.014688859481400016), (3511, 0.01467797117932836), (3882, 0.014675486643699996), (51, 0.014670730655091835), (3654, 0.01466488720113666), (830, 0.01465785148604891), (2633, 0.014638928164973567), (564, 0.01460842372239305), (255, 0.014601687170392029), (3493, 0.014594605149950073), (3919, 0.014576526628925775), (211, 0.014574972470932273), (3599, 0.014559258374839883), (879, 0.01454755919511741), (3241, 0.014547202333685066), (3845, 0.014544277239060412), (890, 0.014542684514025406), (1475, 0.014536373926324174), (2531, 0.01453216073915411), (23, 0.014530843029654733), (4136, 0.014525941583265126), (1851, 0.014516889807072149), (2911, 0.014512199358588853), (2904, 0.014503286669181404), (2405, 0.014502631428972425), (588, 0.01448958915325477), (2650, 0.014487440014143399), (1364, 0.014478860420286113), (4625, 0.014478244924685971), (4025, 0.014466140219460232), (4079, 0.01445496904412588), (2744, 0.014451476114927215), (774, 0.014448033082472016), (4422, 0.01440970062010208), (4287, 0.014405896003886549), (3198, 0.014404703391399674), (606, 0.014398907506312784), (1629, 0.014393658974031127), (1382, 0.014392784909393684), (2863, 0.014377341061284549), (472, 0.014355395316607622), (2048, 0.01435193894916302), (1860, 0.01434021748431712), (1768, 0.014336397090069506), (764, 0.014328938895861043), (1946, 0.014328721429677421), (871, 0.014327206317238715), (2230, 0.014320288975857028), (2894, 0.014309329723035658), (3526, 0.014270160736517296), (2386, 0.014256107865109252), (1077, 0.01424537953475984), (406, 0.014226598967673964), (2489, 0.014210305270930042), (3182, 0.014204484176422068), (1122, 0.014196252179110143), (3303, 0.014189946606176378), (2397, 0.014181484341330004), (3792, 0.014180367380746801), (2746, 0.014177814060010317), (2798, 0.014159705659193639), (2313, 0.014156945169121547), (2430, 0.014147272295478245), (1533, 0.01414455321027406), (579, 0.014135040881364557), (1476, 0.014127152303733643), (1472, 0.014106120983411595), (1410, 0.01409302454729033), (3335, 0.014088700262672511), (1722, 0.014080982221474875), (3551, 0.014073452653568363), (1175, 0.014072287868970527), (2144, 0.014065185771226445), (897, 0.014050052041304478), (2169, 0.01403414018484898), (2492, 0.014031276598232036), (504, 0.014028274513012067), (3541, 0.014026478810996317), (2344, 0.013972989136366638), (1170, 0.013959672174229665), (114, 0.013957267527125766), (1378, 0.013932162813996691), (2212, 0.013913776966939524), (4320, 0.013908593576140688), (2195, 0.0139072386292254), (2891, 0.013907199234984747), (2943, 0.013893890378965792), (1612, 0.013885318187902833), (4056, 0.013868657372449522), (2999, 0.013864936471614298), (4060, 0.01385361305253412), (3477, 0.013826827693334143), (1634, 0.0138201961311856), (3667, 0.013815200563338455), (1438, 0.013809316496516113), (490, 0.01380778247274263), (3067, 0.013775165570086147), (174, 0.013773186621693509), (3237, 0.013772600275669455), (1666, 0.013750754085879446), (3009, 0.013747771449428398), (880, 0.013743772672703892), (867, 0.01374244747457538), (1313, 0.01374051715585365), (973, 0.013737838560116351), (2687, 0.013718697092068006), (169, 0.013699906404287558), (2500, 0.013698375746391418), (1026, 0.013682893747966614), (1286, 0.0136700008391696), (1084, 0.013663307417057645), (2945, 0.01364941091271129), (3447, 0.013625516770536434), (4309, 0.01360976254518454), (2553, 0.013594133231550953), (1350, 0.013582678344673065), (1408, 0.013580477313595667), (693, 0.013571597511521882), (358, 0.013561528589085232), (959, 0.013543867549639991), (3075, 0.013542483249970858), (2422, 0.0135354709817095), (4442, 0.013525112588993997), (4183, 0.013524334578077755), (2461, 0.013519898635310763), (4381, 0.013518168259095208), (1245, 0.013516420259333918), (1261, 0.013500577973005315), (3890, 0.013490260430854734), (488, 0.013487359178931624), (3298, 0.013469568512850437), (1247, 0.013468004149942168), (1060, 0.013453601911626391), (2467, 0.013453200298431552), (1421, 0.013442497495837227), (2642, 0.013434448555256223), (85, 0.013414298165207188), (3352, 0.013409346278248382), (3826, 0.013405415553265512), (1248, 0.013397231936503107), (2131, 0.0133951664603803), (1020, 0.013377724588732973), (1034, 0.01335355677774329), (2367, 0.013347581459951248), (1027, 0.013333708782035547), (4536, 0.01332200467469476), (3315, 0.013320456166547753), (883, 0.013320021814984278), (3214, 0.013312211546967326), (2779, 0.01331117788876274), (3268, 0.013308616969549943), (2886, 0.013303360066286322), (356, 0.013300574360976999), (1002, 0.013285787814867533), (4321, 0.013275304781950539), (1273, 0.013270762446537663), (3170, 0.01326548334951144), (221, 0.01325774225707287), (2242, 0.01325373541474939), (644, 0.01324620842676847), (1878, 0.013239711992224325), (3898, 0.013232363392284462), (2995, 0.01321543759933708), (373, 0.013215035147914174), (698, 0.013192773509524136), (3646, 0.013184972476029067), (408, 0.013183407737892661), (325, 0.013176622352771623), (197, 0.013166071445979734), (966, 0.01316560644537349), (3014, 0.01316353074426791), (388, 0.013163412205947094), (3194, 0.013161331837899618), (3954, 0.013160067031324676), (2004, 0.013105573399280467), (3300, 0.01310384118648559), (4011, 0.013095534381741472), (1693, 0.01309223375424696), (1682, 0.0130852709335608), (1372, 0.013080325138407704), (3071, 0.013060711301574565), (279, 0.013053802670181374), (975, 0.013053726762662395), (212, 0.013049446469652717), (2149, 0.01302853934525355), (3721, 0.013024523950503387), (471, 0.01302168806191143), (655, 0.013021306882438808), (1819, 0.01299078702051876), (3147, 0.012981125775249413), (921, 0.012977458909490506), (410, 0.01297268684437422), (838, 0.01296597016917729), (4198, 0.012964067129721413), (1558, 0.012962052417405896), (3829, 0.012961783589287294), (3800, 0.012953238008563392), (2528, 0.012949145673513959), (1052, 0.01290905722813299), (3558, 0.012873287421973967), (2399, 0.012871405714466173), (15, 0.012861479648792237), (355, 0.012857699802694203), (638, 0.01285165261227679), (907, 0.012823062974494499), (2453, 0.012815763884324718), (121, 0.012815718525659856), (3767, 0.012808994843073782), (1875, 0.012804763072753609), (524, 0.012791877547533038), (2362, 0.01278198616839362), (3050, 0.012775325931935682), (1628, 0.012758697882693196), (2301, 0.012755223757290374), (1782, 0.012753343220186201), (1065, 0.012744757670582989), (218, 0.012730232347290866), (465, 0.012730224699346272), (2011, 0.012679313957006028), (4166, 0.012675275803995049), (1237, 0.012657791367280893), (3217, 0.012652117407116664), (1216, 0.012644410829287547), (608, 0.012639849690668033), (2402, 0.012628000976653226), (3304, 0.012626117743869899), (1869, 0.012624900350899018), (4084, 0.012624693380248311), (3614, 0.012621261767130399), (3078, 0.012616259804110873), (2931, 0.012613490603998322), (2338, 0.012598160588419689), (1605, 0.012597372313411584), (1220, 0.012585383334255231), (1719, 0.01258439251658753), (4350, 0.012568336146876835), (3318, 0.012567266599340961), (1690, 0.012563064784791005), (4712, 0.012561296718803489), (2457, 0.012543210492600973), (3327, 0.012507289379751), (885, 0.01250712097290121), (4080, 0.012502583712238452), (2607, 0.012498644920347215), (3111, 0.012480146446863676), (3795, 0.012473303364505868), (1539, 0.012433703102653041), (4141, 0.01243256938208226), (3936, 0.012420371781388015), (1977, 0.012415068520397594), (2983, 0.012391172184771364), (703, 0.01238613414755893), (3380, 0.012378056238572311), (1423, 0.01237518202475265), (132, 0.01236234434075623), (948, 0.012362173011983833), (4104, 0.012359810388763263), (1394, 0.012354089399297276), (705, 0.012344637196739117), (33, 0.01232294450419593), (2502, 0.012302665647088243), (1199, 0.012300633413070186), (2308, 0.012287032345052842), (605, 0.012269581467065043), (3, 0.012258292243670154), (1616, 0.012253861850824438), (2975, 0.012250350501956721), (2240, 0.012236560672386758), (2237, 0.01223564418453705), (4156, 0.01222300954242867), (3403, 0.012216512510078242), (3592, 0.01220668451316538), (924, 0.012145881386388491), (3655, 0.012135091388741803), (2412, 0.012107634556249431), (1217, 0.01210566607787654), (1764, 0.012086828598554464), (103, 0.0120775096406791), (733, 0.012064731849566083), (2730, 0.012063176043764712), (2328, 0.012050401819151502), (3945, 0.012014243820919061), (278, 0.012009462343416485), (2761, 0.011999387838920263), (4411, 0.011945852217833317), (1763, 0.01194089176147874), (1833, 0.011940082992783903), (4514, 0.011875668818643147), (1743, 0.01186899402017827), (2933, 0.011841718483909231), (403, 0.011818808023159913), (2035, 0.011812721043346207), (531, 0.011787995416728127), (4408, 0.011787800295476259), (1365, 0.011774912055844392), (547, 0.011756321483370408), (3758, 0.011742580298169285), (195, 0.011720386941562293), (4483, 0.011712027253139943), (2603, 0.011711269113394322), (2368, 0.011701888605474862), (2253, 0.01170036199205015), (2333, 0.01168761992100096), (2211, 0.011683884337307217), (3686, 0.011671896754319842), (3017, 0.011665073958713666), (2132, 0.011649270107245042), (2876, 0.011645812569634465), (2009, 0.011628421176434613), (795, 0.011604377981048478), (582, 0.0115665084902437), (1305, 0.011527673542178655), (2844, 0.011516492077306041), (950, 0.011470905308543033), (843, 0.011467119723308475), (113, 0.011466555985143283), (2509, 0.011458859880750027), (1427, 0.011430442180775068), (1415, 0.011424440879790356), (3254, 0.011401241909655163), (1950, 0.011389694335840769), (1624, 0.011346901169165315), (3875, 0.01133375312360028), (4311, 0.011328751779850248), (156, 0.011327509761841688), (2441, 0.011291509461436998), (225, 0.011291502013174335), (3575, 0.011265057225709642), (4599, 0.011262049121857952), (3851, 0.01124115292809863), (1424, 0.011209074403625166), (4741, 0.011187975836191421), (194, 0.011187613714920372), (2982, 0.011173347459577777), (510, 0.011145981073203885), (4460, 0.011129090439920634), (2186, 0.011128527944616244), (1201, 0.011119244266360583), (2000, 0.011111814734478597), (3039, 0.011110083512203824), (1871, 0.011098253181155602), (63, 0.011097569273391391), (309, 0.011090676529075333), (2967, 0.01107487132552114), (2766, 0.011064275275959882), (609, 0.011063660340258456), (3168, 0.011055497850400949), (2420, 0.010997481718993457), (3761, 0.010979400940764949), (3964, 0.010965161945040568), (4580, 0.010955988742453885), (3180, 0.010923001081716765), (3950, 0.010913921517164554), (3808, 0.010900989363177516), (3681, 0.010899201283928841), (4463, 0.010898005865781631), (4064, 0.010891587772513077), (1040, 0.010890866913248493), (3371, 0.01087603279478787), (2806, 0.010873315153029181), (385, 0.01086868991448281), (1747, 0.010851591348587606), (4050, 0.01084565395766496), (2662, 0.010821024007825872), (982, 0.010800304707647283), (1786, 0.010798244801208733), (700, 0.01077183859281601), (3424, 0.01075694807089638), (607, 0.010744749311000557), (2101, 0.010744074119703103), (4061, 0.010724248360116054), (1803, 0.01072226136302135), (1806, 0.010718715500035038), (3626, 0.010697948461179382), (271, 0.010686398513243494), (2978, 0.01067567196849801), (3202, 0.01067480013192169), (4652, 0.010658141785783738), (2324, 0.010646771680578782), (2258, 0.010646387041104878), (146, 0.010590473547166353), (1441, 0.010584073694277309), (2880, 0.010581761396353197), (3584, 0.01054426237918958), (4351, 0.010528888884760605), (3175, 0.010520759599105941), (754, 0.010518597410825023), (2588, 0.01051636552773855), (873, 0.01051361720220768), (3834, 0.010504995170457426), (2817, 0.010469096910122783), (2086, 0.010456812880876725), (3109, 0.010456463347222632), (4315, 0.010455525953484293), (2044, 0.010428828344980786), (2550, 0.01042704242338856), (1648, 0.010413220020867149), (3546, 0.010403297102979431), (275, 0.010382563303661921), (2566, 0.010379825975314205), (3747, 0.01036972608848158), (4027, 0.010367350864589835), (474, 0.010316354054490554), (1955, 0.010312922955075316), (1718, 0.010291183011738604), (3513, 0.01028666907528609), (1881, 0.010269119063356803), (2249, 0.010267572485842626), (3061, 0.010265212211032803), (1445, 0.010258264628006625), (684, 0.010231917902136036), (3229, 0.010196800428625278), (3798, 0.010184032816418331), (784, 0.010180079599547918), (2511, 0.010176723097775717), (2794, 0.0101644196297538), (2816, 0.01015876829876372), (3648, 0.01015858168675613), (3549, 0.010153850452066591), (4628, 0.010133789117476316), (2519, 0.010127314639134289), (3489, 0.010120367651760132), (2353, 0.01010854894391185), (971, 0.010105841221531431), (2431, 0.010104797029104223), (4319, 0.010091397020123412), (2234, 0.010083813619322327), (929, 0.010058713174590651), (1585, 0.010046891090569504), (110, 0.010034317354402763), (2582, 0.010016207360762768), (768, 0.010015908025763987), (3603, 0.01000546876082741), (4702, 0.009969756354392977), (1956, 0.009930855805704632), (2335, 0.009904839475524629), (455, 0.009894694277855741), (398, 0.009886362778510127), (312, 0.009886024703076255), (736, 0.009883921575483989), (3034, 0.009881977544191728), (529, 0.009878772728224893), (1346, 0.009874179954252287), (347, 0.009851334477445893), (2472, 0.009849244667424891), (1804, 0.009847889598093885), (938, 0.009841365014493493), (665, 0.0098400059572774), (1566, 0.009825973268684415), (4738, 0.00981363438213929), (2026, 0.009810285230332247), (3188, 0.0098068996613648), (1501, 0.00980566132698845), (1345, 0.009796325168031883), (3594, 0.009779302290322242), (946, 0.009770246740804409), (940, 0.009758804837459134), (4688, 0.009748734134728439), (2836, 0.009741763891991004), (129, 0.009737094574767109), (1159, 0.009716452527777428), (2589, 0.009705254490820587), (1867, 0.009696268224511386), (1126, 0.009694951586074401), (1329, 0.009688630147461094), (1549, 0.009684734474086912), (3421, 0.009646933612475924), (3644, 0.00964626201918119), (1888, 0.009644615234160547), (983, 0.00964289217123181), (2807, 0.009631899239125684), (2973, 0.009629558595022137), (1589, 0.00961743563182192), (1094, 0.009608334583537171), (3288, 0.009606268264263236), (3400, 0.009601590619235652), (2663, 0.009598574675301272), (618, 0.00958490291071301), (1541, 0.009580137067366715), (1880, 0.009572430914558812), (1771, 0.009572016427600655), (4073, 0.009569442009963064), (4327, 0.009568299083795148), (328, 0.009535468787958416), (3879, 0.009518638159629679), (3375, 0.009517881279044163), (49, 0.009516573173118244), (1618, 0.009506731666668015), (773, 0.009497805135300451), (4229, 0.009491348996970557), (2693, 0.009491049219749406), (2003, 0.009485216640847801), (4252, 0.009446302466646355), (2681, 0.009439078273497572), (3490, 0.009428369980607938), (4438, 0.009412802881436979), (2555, 0.009383678479873462), (2107, 0.009352033335994077), (2409, 0.00935096685832632), (1190, 0.00933441013508324), (3177, 0.009326486283226347), (741, 0.009322632682139616), (1363, 0.009317780104490503), (4022, 0.009306203738790318), (819, 0.009305782531513164), (649, 0.009304907465447234), (1787, 0.009299044551655788), (3077, 0.00927185392163946), (1256, 0.009270081994561344), (4012, 0.009266186754304838), (2160, 0.009238700277497125), (2594, 0.009196132060317446), (1903, 0.009184328999911884), (2170, 0.009181564592038262), (1746, 0.009163093121472982), (2699, 0.00915964674802047), (2992, 0.009154462375333019), (202, 0.009149672681101215), (1180, 0.009145088095571713), (1778, 0.009144922435785007), (1457, 0.009143346536346462), (2866, 0.009136108029619278), (1606, 0.009133424144550144), (3083, 0.00912690099479287), (1610, 0.009090147698048447), (3589, 0.009053875312459355), (3753, 0.009044604673751053), (1984, 0.009023893090311312), (1157, 0.009008412993339458), (4322, 0.008989526727208734), (1974, 0.00897254183394723), (1038, 0.008966838443509569), (2036, 0.008937480081973422), (3295, 0.008934821481222311), (1236, 0.008928861920270283), (1200, 0.008924029444268846), (302, 0.008923540135585458), (1935, 0.00891190685513017), (583, 0.008900636817548166), (1485, 0.008857989580911474), (1816, 0.00885032476090634), (1061, 0.008838910279778261), (4437, 0.008831504637118426), (1569, 0.008815344806134502), (3933, 0.008751529881117161), (2156, 0.00874250810825291), (2161, 0.008742205383405905), (820, 0.00867269815405019), (1405, 0.008631564672271063), (1797, 0.008607473695759245), (2805, 0.0085854791852912), (1482, 0.008581833878553905), (520, 0.008578553360740288), (3748, 0.00849482051112996), (2001, 0.008454307373310299), (86, 0.008443633549297273), (4739, 0.008413604895270542), (2168, 0.008401619533809131), (3835, 0.008398078089157466), (4288, 0.008395374646376323), (1523, 0.008387857483293704), (2440, 0.008380280939119687), (1802, 0.008362393683408695), (2855, 0.008325958993301234), (1639, 0.008311642362552015), (4144, 0.008255222410534438), (786, 0.00822317965917501), (1442, 0.00816942492109172), (2331, 0.008055607125505541), (4498, 0.008046160766983885), (3240, 0.007974068891226769), (1963, 0.007943577509298244), (1453, 0.007899638656961677), (3980, 0.007876342031924917), (1019, 0.007830450380061357), (926, 0.007657657468716151), (3226, 0.007589466712415628), (3325, 0.007371581081918991), (3205, 0.007303086275522636), (1362, 0.007296047756379352), (4151, 0.00708888925971526), (611, 0.006628878575612298), (2299, 0.006597784371809611), (4571, 0.006556173850834437), (3512, 0.006326732104476487), (2757, 0.006315021890389554), (2998, 0.006194074369883051), (2379, 0.005954472000327905), (2490, 0.005946740116673694), (2937, 0.0059246437606710264), (3523, 0.005914596257736012), (4705, 0.005898989477862405), (3051, 0.005885356572164769), (2768, 0.005864955527423695), (3672, 0.005862837211696977), (2858, 0.005848088638613049), (2137, 0.0058477621863061175), (3139, 0.0058415194228786755), (2649, 0.005828020292650008), (2722, 0.005792078969100659), (2189, 0.005791693473319447), (4202, 0.005769208083764428), (3040, 0.00576191709366133), (2989, 0.005749104608440921), (2251, 0.0057406733155386785), (3990, 0.005694951336497273), (2889, 0.005679748863164846), (3119, 0.005656398106048354), (4617, 0.0056429549685048895), (4704, 0.00563650626524269), (3052, 0.005635571535264161), (3055, 0.005614319953920666), (2404, 0.0056118282252331335), (4017, 0.005598919202460596), (3561, 0.005593099162403257), (3042, 0.005590355900217977), (627, 0.005586832012746599), (3635, 0.005578271337030708), (947, 0.005565573194187411), (2923, 0.005559122296482373), (2731, 0.005538253611687906), (4749, 0.005537125531521348), (4529, 0.005532009852217603), (2484, 0.005516630917697973), (2310, 0.005516456929421489), (4221, 0.005516345745865113), (4484, 0.0055010133281731015), (4611, 0.005499494131170483), (2694, 0.005495947920349024), (3939, 0.00549524618162729), (2673, 0.005488589508546219), (2861, 0.005468813565976485), (2655, 0.00546776089920186), (2932, 0.005455124280489975), (4172, 0.0054545267903144705), (3878, 0.005422726319295654), (4696, 0.005405288052179602), (4444, 0.005404722162277205), (2628, 0.00540117102162083), (3076, 0.0053996717036530525), (4407, 0.005396803280588049), (3219, 0.005391945679187966), (2448, 0.005388328245575394), (2392, 0.005387126979596361), (3292, 0.005386044961516558), (3762, 0.005375211093009219), (2199, 0.005370783791324067), (3892, 0.005363545545067699), (4423, 0.005350177238787642), (4019, 0.005348526189948029), (2425, 0.005347336336597939), (4546, 0.005333175115814439), (2255, 0.005323124537165542), (2257, 0.005312043819039519), (3322, 0.0053101050458778465), (889, 0.005309917886741383), (2645, 0.0053098569676918), (3262, 0.00530884817492735), (2350, 0.005301781059819047), (4230, 0.0052865623879988985), (2154, 0.005284867063414717), (4142, 0.005274997881461477), (2286, 0.005272748732903272), (4400, 0.005259614662204374), (4403, 0.005258794961061122), (2530, 0.0052440048247438505), (4102, 0.005238653766205018), (3848, 0.005234504141835175), (4606, 0.005223398472467809), (4710, 0.005215253375315244), (2795, 0.00521049420031073), (3239, 0.00520182302720593), (3128, 0.005200962803337721), (2423, 0.005199674663292146), (3354, 0.005194579538193652), (526, 0.005188270354055437), (1711, 0.0051739913445668865), (1121, 0.005169124431703034), (3249, 0.005160334620887129), (4469, 0.005155066511802012), (3687, 0.005153310088383068), (4692, 0.005150265478399543), (4521, 0.005149908116681728), (4544, 0.00514701053848829), (3638, 0.005144079835127708), (4612, 0.005136375027502208), (3616, 0.0051307416296733025), (3357, 0.005128553468576375), (4242, 0.005125735166797256), (3537, 0.005117569360178052), (2557, 0.0051170759802532445), (2438, 0.005110555422209287), (3159, 0.005106440297389322), (4107, 0.005094634502874611), (3922, 0.005093334597187528), (3613, 0.00508904313094738), (4660, 0.0050877565724858345), (4724, 0.005086041320183566), (670, 0.005084722527567988), (3521, 0.005082932502448101), (4572, 0.005063707265036925), (3074, 0.005062051647775857), (4209, 0.005055817920518105), (4443, 0.005054337514956165), (3154, 0.005049892458576708), (2957, 0.005047634404366276), (2568, 0.0050461326964988526), (3874, 0.005045322100552808), (4723, 0.0050446222879292155), (3031, 0.005040025192140257), (3832, 0.0050368797952688674), (3123, 0.005032603901424938), (402, 0.005029740221961636), (2879, 0.005024724181538405), (3620, 0.0050240969147906), (3544, 0.005022296314747083), (2459, 0.005021912913070701), (3358, 0.0050090176327226435), (3020, 0.005008820909060859), (3228, 0.005007102227162099), (1593, 0.005000096240526637), (1064, 0.0049986869419088), (4062, 0.004997336001663592), (3206, 0.004991937968033257), (2778, 0.00498895167315467), (3779, 0.004982180729087773), (2454, 0.004982163588117144), (2993, 0.004976507479938089), (3901, 0.0049758557683074935), (1264, 0.0049699744638476645), (2619, 0.004968631619503799), (1429, 0.004960076539643616), (777, 0.004958889392827706), (1168, 0.004954519139828135), (2895, 0.004938599441313305), (3911, 0.004930123885496311), (3766, 0.0049202843792980665), (3675, 0.0049182691262035175), (4701, 0.004917412525558961), (949, 0.004907614016651243), (4554, 0.004904470970347461), (4490, 0.004893021115662081), (2772, 0.004887459023447151), (4735, 0.004882326733036832), (475, 0.004874679792784045), (4023, 0.004872484739957402), (4717, 0.004871812067071563), (3935, 0.0048617731916044725), (2613, 0.004860673396428005), (4416, 0.004856606279577088), (3081, 0.004855639164244903), (2378, 0.004855579574345339), (3621, 0.004854998248639222), (4584, 0.004850614123453946), (4633, 0.004848858748901025), (1792, 0.004848668492960051), (2089, 0.004848133361564537), (4694, 0.0048478313218825045), (2406, 0.004846389363318192), (1968, 0.00484534202759663), (2707, 0.004842413728735853), (2720, 0.004835669455100935), (4412, 0.004833165377640563), (2417, 0.00483083508127507), (1748, 0.004830598400903487), (4030, 0.004829237070863684), (4589, 0.004829213001435891), (1169, 0.004828811859180933), (2846, 0.004827748193162778), (3275, 0.004822357085595711), (937, 0.0048204129166386535), (4477, 0.004820249156898564), (4032, 0.004814361775089238), (4075, 0.004814271771029645), (3951, 0.0048142312065826195), (3540, 0.004812229075265354), (2142, 0.004811995956429807), (3019, 0.004803082384232514), (4126, 0.004801084979101731), (3884, 0.004800428094146338), (3307, 0.004792658953052832), (2427, 0.004792539083649724), (3450, 0.004791830122736002), (4002, 0.0047915825383135985), (1947, 0.004789637775654385), (4163, 0.004783516632901504), (4203, 0.004782539558644048), (3729, 0.004781568066016248), (860, 0.0047804472396375695), (443, 0.004772177953309803), (4398, 0.004767589978751538), (3230, 0.004763321584757725), (2987, 0.004763208653624616), (3419, 0.004761437453698085), (1275, 0.004760700024642426), (3337, 0.004760668158279986), (3396, 0.004759030504239638), (823, 0.00475574222311714), (2403, 0.00475534792360336), (3355, 0.004746728497694874), (925, 0.004744111230139856), (508, 0.004744098211475454), (2625, 0.004740300751538232), (4507, 0.0047390768030079935), (4267, 0.004737666820252259), (274, 0.004737383578587447), (2478, 0.004736429034852234), (614, 0.004733885897729679), (4516, 0.0047311875277833695), (1656, 0.004730323282416284), (4465, 0.00472860787285032), (721, 0.004727423270719006), (4244, 0.00472673013535687), (3903, 0.004725895431390754), (2796, 0.004721723863232466), (3423, 0.004720972799180331), (3651, 0.004719883434436116), (1924, 0.00471362118507542), (876, 0.0047093757599974105), (1497, 0.004708780525573477), (739, 0.004708042745358579), (3661, 0.004705588251369591), (4753, 0.0047046858518163676), (3883, 0.004703064978404124), (3772, 0.004695279110600595), (2223, 0.0046911977913254), (2346, 0.004691128608322936), (3611, 0.004687966239383336), (2638, 0.004687877674841623), (4187, 0.004681521570126525), (1843, 0.004679657601792679), (107, 0.004679464303493828), (3186, 0.00467823016413312), (3960, 0.004677506072615637), (1887, 0.004675642716119487), (2881, 0.004672866235700237), (2411, 0.004671928261402154), (4731, 0.004671405770355126), (2623, 0.00467084215362956), (3043, 0.004670704759493341), (2936, 0.004670569029799126), (478, 0.004669481857350941), (4092, 0.004669139937294591), (2400, 0.00466662913872246), (2914, 0.0046661359681584155), (3992, 0.004663840340165356), (1148, 0.004658431511586525), (683, 0.004657855482792946), (281, 0.004657738736941207), (1383, 0.004657450979150604), (235, 0.00465694672358029), (4699, 0.004655196133520144), (1349, 0.0046488522182588045), (3587, 0.004647720581988275), (419, 0.00464686678441087), (3373, 0.004643803756026363), (533, 0.004640617672488216), (3962, 0.004633825266814072), (3822, 0.004632677275694097), (922, 0.0046290111686808945), (1716, 0.004627181089047289), (2903, 0.004626933636629505), (3196, 0.004626599510494862), (4160, 0.0046259302652049685), (3012, 0.004625774280570125), (2579, 0.004624736248141436), (596, 0.004622887151843328), (2916, 0.004621483741447062), (1862, 0.004620856925765836), (3032, 0.0046182425828980925), (4535, 0.004618012412087933), (4396, 0.004616106686590009), (3146, 0.004615039151175558), (2134, 0.004615005817204039), (308, 0.004613731276694017), (2356, 0.004612313469968358), (2436, 0.004611398558478057), (3737, 0.004607093896386474), (3593, 0.004605762981520864), (701, 0.004605663055469284), (4293, 0.004604018386547017), (458, 0.004603720206195359), (2840, 0.004601703307184133), (3640, 0.004601351436828336), (729, 0.004600860812577642), (444, 0.004597169164889368), (3877, 0.004593765230085784), (2209, 0.004593354673410383), (2585, 0.004593037265332941), (2782, 0.0045928222415472205), (3157, 0.0045923627288225796), (4397, 0.004591842098012622), (41, 0.004590991270495107), (4593, 0.0045878885185816586), (1498, 0.004586986683198181), (4706, 0.0045838490872472945), (3003, 0.0045833659368965515), (4259, 0.00458294031780535), (4113, 0.004582690934567714), (3857, 0.004582634621809385), (2854, 0.0045822261641894685), (1923, 0.0045822188307272855), (2505, 0.004582114025730786), (1890, 0.004578158690105787), (3062, 0.004574242182244586), (888, 0.004572759052598768), (4531, 0.004572489338885861), (688, 0.004570566311451302), (1960, 0.0045681783470277754), (1658, 0.004567944854425837), (2592, 0.004567654019641752), (4551, 0.004566122391017445), (3797, 0.004565717586994678), (3967, 0.004561030655973812), (3026, 0.004558461633615009), (2040, 0.004558163920124528), (4042, 0.0045570018827345736), (967, 0.004555241309408076), (2176, 0.004554676375935802), (3961, 0.004553998432946648), (2112, 0.00455385916685591), (2428, 0.004553300944872345), (715, 0.004552914227639314), (1580, 0.004552790827333733), (4619, 0.004552265190398458), (3097, 0.004549548096744391), (254, 0.00454760510002939), (48, 0.004546140779927788), (1754, 0.0045450693222617595), (2996, 0.004540551696758874), (371, 0.004540115205774503), (3924, 0.004535451723453274), (476, 0.004529044661543583), (3677, 0.004528944558518716), (2739, 0.004527828362214411), (4602, 0.0045268039859187445), (2464, 0.004525028011948765), (4308, 0.004524650871200592), (4046, 0.004523118851401436), (4048, 0.004516798324135443), (2624, 0.004514642923033458), (123, 0.004514068320089581), (253, 0.004510952693533854), (4130, 0.004509599555654207), (2229, 0.004508935511037976), (1043, 0.004508773306806139), (4140, 0.004508044376592571), (3497, 0.004507996464957179), (896, 0.00450726126338025), (673, 0.0045024533450238186), (3813, 0.004501799413245581), (1243, 0.004500234633424081), (4732, 0.0045001639497803236), (675, 0.004499459513474179), (4133, 0.004498851945008121), (3749, 0.0044986195084228365), (4116, 0.004498185130839893), (3044, 0.004497433571710654), (2037, 0.004496408667375367), (4522, 0.004496319050762038), (1805, 0.004495260818614782), (342, 0.004494609080131249), (4669, 0.004493674381860578), (350, 0.004491720802084209), (499, 0.004490098601385442), (2097, 0.004489817105417473), (3064, 0.004489491775399926), (3516, 0.00448722095363743), (481, 0.004486963934575591), (887, 0.004486246175455622), (2214, 0.004486014523386358), (4087, 0.004485172423881132), (2882, 0.004483475832862343), (2507, 0.00448197728851986), (2595, 0.004475090257375898), (3642, 0.00447409940577327), (4722, 0.0044729291304414056), (1325, 0.004472002922002003), (2888, 0.004469336575880571), (3771, 0.004468882049673142), (4545, 0.004464885136991358), (3269, 0.0044630448394789805), (1015, 0.0044599997046533505), (1874, 0.004458926090297393), (794, 0.004458869933717566), (3704, 0.0044586836684535145), (2477, 0.004457735719068056), (3086, 0.004457091238015331), (4024, 0.004455569031658955), (3757, 0.0044506791998624165), (728, 0.004450070552854035), (2190, 0.004447353194923562), (4579, 0.00444722166832738), (210, 0.0044467006225856875), (3692, 0.004442396743097101), (1848, 0.004441508929790385), (1907, 0.004441135176898005), (4132, 0.004441085962403081), (430, 0.004440836149255522), (4161, 0.004438669193658202), (3112, 0.004436641626885496), (1995, 0.00443652354472539), (1359, 0.004433507243597486), (4540, 0.004433294199623029), (4245, 0.004432929933431419), (791, 0.00443235633136361), (1708, 0.004431438166687469), (2162, 0.004430732163315448), (3095, 0.004429568559136708), (991, 0.004428867222443616), (2254, 0.004427502146694436), (395, 0.004426688694602979), (1637, 0.004425710071165267), (4269, 0.004425597886158553), (2723, 0.004424952151868617), (4371, 0.004424439091338948), (485, 0.0044215401636199915), (3781, 0.00442072934195049), (2786, 0.004418394300264606), (1140, 0.004417718628355838), (4574, 0.004417705873181416), (1537, 0.004417332591112431), (872, 0.004417029831563603), (4111, 0.004416872186012255), (1683, 0.004415104346913278), (1409, 0.004413997771457298), (2260, 0.0044136691744209745), (2725, 0.004412525326475647), (4431, 0.004412417079557035), (21, 0.004412194797640553), (3728, 0.004411997322820501), (3873, 0.004411767964833962), (4680, 0.004411406267143849), (4038, 0.004410950538813369), (1712, 0.00441018665626872), (2940, 0.004409944028888674), (1141, 0.004409250826548915), (2964, 0.004408941286220099), (4005, 0.004408665911135027), (2949, 0.004408447120708609), (2712, 0.0044083340939755), (3007, 0.004407756656345212), (2104, 0.004406348098865458), (12, 0.004405987616721348), (3780, 0.004405334704626691), (1119, 0.004405101555579737), (2393, 0.004403081229652512), (1071, 0.004402987158777632), (4231, 0.004401250699594337), (2151, 0.004398998753984445), (2970, 0.004397779642906318), (2096, 0.0043976899498834165), (2522, 0.004397287318014025), (4355, 0.004395490007876647), (4169, 0.004394981160272025), (3987, 0.004394390877292797), (3973, 0.004392839681999393), (1779, 0.00439271933392606), (792, 0.004388850255806017), (74, 0.004388061449837309), (680, 0.004387840513952785), (246, 0.004387804967218124), (1339, 0.004385512557639262), (622, 0.004384135930099612), (3297, 0.004384084844765893), (3590, 0.004382753453332401), (208, 0.0043803316618654595), (1896, 0.00437699819694275), (2565, 0.004376800211481704), (206, 0.0043767001798553275), (2361, 0.0043763597457854835), (3084, 0.00437598867090889), (4489, 0.004375918685938838), (68, 0.00437574518130455), (4471, 0.004375258784031299), (4054, 0.004374915560122067), (1687, 0.004374573905792078), (2418, 0.004373443107466271), (3618, 0.004373415986802527), (2792, 0.004371184724237157), (1234, 0.004369064721698117), (3483, 0.004368468605718687), (4505, 0.004367269833905212), (1853, 0.004367225776046107), (2953, 0.004367188782135245), (2714, 0.00436660339613001), (1484, 0.004364391654634671), (2288, 0.004364140065987437), (2196, 0.004363141115108555), (4286, 0.0043622108677316895), (2849, 0.004361882658257937), (4052, 0.004360598387673832), (4318, 0.004359806159384408), (3264, 0.0043565764753626945), (4123, 0.00435643507629261), (483, 0.004356281196344833), (1822, 0.004355404081064155), (3037, 0.0043551341507760966), (4, 0.004353321268891567), (4033, 0.004352718372696975), (1225, 0.00435260470307883), (470, 0.004351537153952804), (4420, 0.004350578742489617), (1916, 0.004347869088035239), (2394, 0.004347490262690546), (4474, 0.004344256754345289), (1670, 0.004342567247418489), (3187, 0.004341821205992863), (2419, 0.004334695999555473), (262, 0.004334400292517995), (3372, 0.004333188122787023), (4757, 0.004332814313296301), (4178, 0.004332292129542224), (3242, 0.004331777966798527), (1643, 0.0043316204913856115), (4225, 0.004331093308865558), (716, 0.00432658702953154), (4624, 0.004326498394565452), (1402, 0.004326478942458446), (173, 0.0043241721944427235), (1192, 0.004322829665042687), (2088, 0.004322748712571707), (1439, 0.004319997050983786), (4430, 0.004319800686919647), (4497, 0.004319637151472443), (845, 0.004319451977806696), (502, 0.0043193742779460515), (3437, 0.0043192901521476165), (1736, 0.004319253212273737), (2083, 0.004317831755822216), (2640, 0.004316989233042943), (3150, 0.004316821267271735), (20, 0.004315563545207739), (270, 0.004315042483303188), (2926, 0.0043149438572641086), (3770, 0.004314545074665602), (580, 0.004311415159024661), (1660, 0.004310886608555411), (1006, 0.004310528255225101), (204, 0.004310453263758963), (3862, 0.004309086543770162), (4448, 0.004308839812076451), (4083, 0.004307503679901349), (1229, 0.004307434491766132), (3514, 0.0043073158134534365), (1224, 0.00430691432433609), (482, 0.0043065100990515035), (3351, 0.004306143761481491), (3382, 0.0043052473883519364), (2561, 0.004304473271178549), (4629, 0.004304116467694529), (2601, 0.00430290754668225), (717, 0.004302640921738251), (4419, 0.004301271744742791), (2545, 0.004298564341465934), (2370, 0.004298495972365306), (1513, 0.004297977502039948), (543, 0.004297195846184903), (1983, 0.0042970696928123905), (4089, 0.0042959956359220975), (3224, 0.004295586696908744), (2546, 0.004295144045548845), (34, 0.004293299551017997), (3902, 0.004292910636343805), (1083, 0.004292843354730792), (884, 0.004292629259211455), (3353, 0.004289446023322565), (1048, 0.004287504367346359), (3778, 0.004285670977581488), (551, 0.0042849420257643515), (447, 0.004284229951799502), (3666, 0.0042839889750481055), (4262, 0.00428349977574536), (2016, 0.004283218144206194), (4756, 0.0042825454961295285), (3536, 0.004281016721571247), (3349, 0.00428055889317467), (987, 0.004279458039432871), (1124, 0.00427753154639136), (216, 0.0042774861779435736), (2148, 0.0042764866749788405), (2072, 0.004275313423505536), (4379, 0.0042748409126684836), (3920, 0.0042736369694871415), (11, 0.00427255023930655), (3517, 0.004272004549043174), (2123, 0.0042705870211846185), (584, 0.004269175628645785), (1703, 0.0042689120630416645), (3689, 0.004267627134323768), (1765, 0.00426728439497114), (4340, 0.004267249035584584), (4334, 0.0042643509647126675), (980, 0.004264240509326605), (2053, 0.004259677524676914), (806, 0.0042578462484782744), (4249, 0.004257084074523147), (3623, 0.004256229310094847), (2988, 0.004255409487949227), (120, 0.004255168845647888), (2126, 0.004255003552221684), (4470, 0.0042537757637713825), (377, 0.004251104209876518), (1494, 0.00425048021675), (1717, 0.004249237920016337), (1516, 0.004249123840568106), (3153, 0.0042486143585802084), (2334, 0.004246691149474514), (3290, 0.004246010255734662), (3233, 0.004244573466919371), (4643, 0.004244047342718769), (743, 0.004239755419946404), (2321, 0.004238987686273985), (2466, 0.004237254681777113), (3016, 0.004235631037734285), (1294, 0.004235541823693019), (1334, 0.004235473440962702), (509, 0.004231207893197741), (4563, 0.0042308271102635756), (3701, 0.004229831618046716), (4098, 0.004229246432403075), (1254, 0.004228587424096116), (3289, 0.004228348629724592), (3445, 0.004225466613936105), (1355, 0.004225148094169787), (2977, 0.004224549605892672), (3000, 0.004224394663989539), (4533, 0.0042226485043085574), (4273, 0.004222108563327823), (3542, 0.004221427052052668), (652, 0.004220178172709836), (3571, 0.0042189902330564515), (115, 0.004218837765099695), (1174, 0.004217925065904584), (2784, 0.004217158974182221), (1936, 0.0042168627167112555), (1931, 0.00421551918973446), (3699, 0.004214191306801638), (933, 0.004213700617783654), (1176, 0.0042116038951429315), (969, 0.004211249693694403), (1337, 0.004210521745504347), (1182, 0.0042095521221631755), (593, 0.004208302435447178), (3113, 0.00420822198461193), (238, 0.004208142379597105), (3606, 0.004206792207694977), (3653, 0.004205819744304243), (4283, 0.0042057275074366355), (2292, 0.004202215396799343), (850, 0.004200330299622301), (3707, 0.0041992443245722445), (832, 0.004195162876603244), (2210, 0.004194937319505445), (3501, 0.004193960508091282), (2045, 0.0041930811277806025), (4068, 0.004191628864000883), (2295, 0.004191513235894128), (3643, 0.00419150468308137), (353, 0.00419038782742096), (1440, 0.0041896100064232385), (4049, 0.004187358388097118), (1413, 0.004187306640418617), (544, 0.004186941650155234), (4135, 0.004184437312505702), (4004, 0.0041842454675834135), (2091, 0.004183342270664834), (4255, 0.004182531648929686), (2277, 0.004182389133767603), (2374, 0.0041814620966475115), (2887, 0.004180629812520963), (2647, 0.004178844210838374), (4014, 0.004174599584876757), (1138, 0.0041736517584632475), (1872, 0.004173035065253919), (3739, 0.004171275331548803), (4391, 0.004169641347149046), (1985, 0.004169119574268958), (864, 0.00416910208811408), (636, 0.004166846316019704), (1922, 0.004165008859297017), (4137, 0.004163786781167531), (1574, 0.00416359628754349), (1706, 0.00416349338713572), (2396, 0.004163414433310025), (4266, 0.004163334248671405), (209, 0.004163290858713942), (3210, 0.004161764648482435), (3670, 0.0041611883725772405), (4503, 0.004161105248129393), (3227, 0.004160107435615847), (182, 0.004158815537174677), (1232, 0.00415774288424187), (2934, 0.004155975744387739), (2192, 0.004155019665824468), (2606, 0.004154410507954247), (3155, 0.004154139252318014), (696, 0.004152964298704661), (3436, 0.004152442817787398), (2783, 0.004152202963857301), (104, 0.0041519626453684205), (4686, 0.00415106946814789), (4517, 0.004150872405147805), (2067, 0.004150721612442831), (2533, 0.004149737381715598), (1876, 0.004149617531263389), (4081, 0.004148751603527295), (4604, 0.004148201574280232), (2284, 0.004148176702883924), (2826, 0.004147946582219937), (3125, 0.004146294978482031), (4435, 0.004145598905376175), (1191, 0.0041421874725486325), (3491, 0.004142113313458421), (1223, 0.004141873874094396), (172, 0.004138998159901155), (5, 0.004138191635946861), (3341, 0.004137469448848737), (4715, 0.0041365597442110024), (1488, 0.0041362890575933), (2340, 0.004136136501896413), (4640, 0.004133545883995157), (1385, 0.004131104459691879), (2695, 0.004131005087540363), (2831, 0.004130655753571939), (2354, 0.004130028951116969), (749, 0.004128395716902216), (4330, 0.004128216347179576), (1304, 0.004127286402908703), (761, 0.004126528212688088), (2558, 0.004126458765384826), (3478, 0.004125925064557331), (2495, 0.0041255507119035105), (226, 0.004125349827401181), (1179, 0.004125343272648964), (986, 0.004122765976177447), (4427, 0.004121284693483399), (479, 0.00412104356898556), (370, 0.004119232178855618), (1163, 0.004118643523313697), (66, 0.004117867327567361), (2250, 0.004117009387011834), (2387, 0.004116943227265777), (3665, 0.004116096604330362), (3346, 0.004114947597211935), (3174, 0.004114900349051534), (4016, 0.00411455613321298), (109, 0.004113414736020328), (79, 0.004113050185178441), (2900, 0.004112795057106209), (3330, 0.004111864391966601), (1021, 0.004109755557146115), (4268, 0.004109252056519509), (3673, 0.004109205725578066), (3216, 0.0041057898440107115), (2853, 0.00410524342913555), (3807, 0.004104282209602571), (4511, 0.004103681514868969), (689, 0.004103285805395474), (1298, 0.004103057466964967), (4409, 0.004101507878267028), (346, 0.0040997779901747146), (988, 0.004098096335785875), (2289, 0.004097344374666516), (2512, 0.004096309247854655), (1102, 0.004094888720888983), (3374, 0.004094646317648465), (4394, 0.004094198878798802), (1483, 0.0040939134766822555), (1811, 0.004092735908636703), (4000, 0.004092474704129661), (3441, 0.004092027629153879), (105, 0.004091942301551869), (3727, 0.004090808263839924), (2174, 0.004089672318531474), (1252, 0.004087804682019044), (3624, 0.004087682882740856), (894, 0.004087156985345034), (1072, 0.004086526564753908), (4520, 0.004084390952071726), (1059, 0.0040841400823644234), (2060, 0.004084020085277434), (3596, 0.004083284898347042), (3888, 0.004082380375728741), (1831, 0.00407949935106664), (247, 0.004079499022319833), (1411, 0.004077097076600581), (2569, 0.004076897497217204), (3381, 0.004076648899551187), (1500, 0.0040766158977452545), (4228, 0.004076182986287004), (534, 0.0040750153577462835), (61, 0.004073440758147342), (1598, 0.004072875739442948), (769, 0.004071903030569274), (374, 0.004070736508079852), (1550, 0.004068426602020603), (1621, 0.004067418472860493), (2416, 0.004066402378289477), (1257, 0.004065713080483944), (4668, 0.004065412118691216), (3173, 0.004063262072353479), (2173, 0.0040628459186031985), (2961, 0.004061216014020934), (3093, 0.0040604791388234), (2946, 0.004060431517573875), (3195, 0.004060292696377636), (3906, 0.0040593888106887025), (3647, 0.004059370254482179), (989, 0.004058148188401428), (1100, 0.004057631483339498), (4349, 0.00405705979654302), (2463, 0.0040555998461496105), (1110, 0.0040555102972648915), (2069, 0.00405378130908544), (727, 0.004053633396171257), (215, 0.00405340672718499), (3499, 0.004053248064819027), (4685, 0.0040507269017419825), (3260, 0.00404808078502356), (1319, 0.004047933435650532), (4020, 0.004047710368227261), (1807, 0.004047018472997199), (3046, 0.0040466853971174764), (2980, 0.004046472027405932), (3557, 0.004045982248148407), (3827, 0.004045363813534844), (3379, 0.004045081858146777), (2216, 0.004043618647679435), (1882, 0.004042515879957807), (98, 0.004040064965707868), (4362, 0.0040399066620288365), (1527, 0.004037918097812988), (26, 0.004036991195063029), (2910, 0.004036870112267974), (2087, 0.004035435708479684), (4530, 0.004035116647878464), (2226, 0.004034418591695603), (870, 0.004034396464932747), (4687, 0.0040343079118335045), (4036, 0.004031390817553716), (4641, 0.00403052345373854), (2632, 0.004028933609748997), (1617, 0.004027971672875064), (4299, 0.004027764887433696), (3719, 0.00402712458963031), (3706, 0.004026601292872448), (4743, 0.00402573871962888), (446, 0.004024862114941258), (3412, 0.004023944283059751), (2909, 0.0040239342431566995), (1653, 0.004023465804500148), (799, 0.004022138427304598), (3402, 0.004020618713685501), (2279, 0.004020071067250962), (2698, 0.004019893320097965), (2103, 0.004017514846747446), (127, 0.004017369753225864), (1422, 0.0040172145356461375), (1284, 0.004016378201366335), (1096, 0.004013949651552116), (4395, 0.0040138741079640385), (2008, 0.004012429454109629), (1017, 0.004010308157947931), (2401, 0.004009838539325279), (755, 0.004009679768325864), (1035, 0.004008224650142505), (1967, 0.004008208104645315), (3765, 0.00400784558256617), (4693, 0.004007796862063825), (4576, 0.004007422695373411), (1813, 0.004005631809623605), (3370, 0.004004896438433351), (292, 0.0040030269078842945), (349, 0.004001616199461095), (676, 0.003999978779601678), (4550, 0.003999826285944008), (4573, 0.003999728500672669), (643, 0.00399812263136596), (2808, 0.003997935850047382), (4673, 0.0039961418797639075), (1671, 0.003994587315332849), (1030, 0.003993848961766881), (1481, 0.003993320650156934), (3348, 0.00399289410955879), (817, 0.003992720099930773), (541, 0.0039907997097964765), (4382, 0.003989614723447678), (4472, 0.003988325749464283), (3028, 0.003987067825007225), (2080, 0.003986375694829538), (2571, 0.003986236545233744), (1645, 0.003985879191631886), (167, 0.003985876925169859), (4336, 0.0039852794462183925), (4069, 0.003985192325114246), (2612, 0.003984761350937988), (2268, 0.00398472396770219), (3641, 0.00398472265281588), (651, 0.003983370479005778), (87, 0.003982942522599972), (4504, 0.003982128217511266), (1969, 0.003981719146956674), (2653, 0.003981452909713127), (19, 0.0039807859187769865), (2027, 0.003979892662384794), (3660, 0.003978763571740947), (3010, 0.003978621048851182), (1597, 0.0039744519426793854), (112, 0.003972160170340296), (4461, 0.003971970377142979), (3917, 0.003968923439622863), (1864, 0.003968384679246757), (3900, 0.00396744661841632), (3487, 0.003966931938542802), (4658, 0.003966582705055369), (396, 0.003964864433793388), (1117, 0.00396358072819093), (4729, 0.003963159961655973), (620, 0.00396279683402718), (1582, 0.003961050661238985), (782, 0.003959153142709381), (2117, 0.003957633155085549), (3503, 0.003956346703510469), (18, 0.003956290472171826), (1033, 0.003954795952252291), (1446, 0.003953859892460974), (2024, 0.0039509569242337835), (487, 0.003949649796139982), (4523, 0.003946881787872901), (731, 0.003946738262130969), (52, 0.003944972371883867), (2143, 0.003944761552649741), (2141, 0.003943614248281696), (4567, 0.003943303982655166), (3498, 0.003942141687297971), (4155, 0.003941663718968314), (2309, 0.003941299234930544), (4614, 0.003940982664528403), (1854, 0.0039392855353528496), (854, 0.0039375811378012425), (798, 0.003937363325236221), (1877, 0.003937121500758535), (4152, 0.003936457538576631), (3122, 0.003935998617014063), (3978, 0.003935383900871312), (1929, 0.003933328117370934), (2540, 0.003932316502851474), (3151, 0.003930227053003177), (3733, 0.003929545897933926), (157, 0.0039294900455856645), (2473, 0.003929392767097743), (2121, 0.003927935179454024), (3035, 0.0039278390397188825), (3784, 0.003927184476165982), (164, 0.0039259745363014326), (3171, 0.003924745830175509), (4213, 0.003923297988656417), (2706, 0.003922494394505223), (1375, 0.003921456874544336), (1123, 0.003921230971590626), (1132, 0.003921125037629905), (1255, 0.0039202504020645354), (2965, 0.003919318706168432), (4206, 0.003919143118412305), (4428, 0.00391777001426584), (4374, 0.003916477975879561), (1160, 0.0039161765645309606), (2224, 0.003915111548961518), (437, 0.003914926918801652), (4345, 0.003913614097758637), (962, 0.003912259647631346), (3799, 0.003911038874049301), (911, 0.00390882478904274), (2572, 0.003908366917899188), (1710, 0.0039083101920973674), (4246, 0.003906541870933878), (3293, 0.003905159773237313), (2679, 0.003904221394228864), (4124, 0.003904034099291884), (203, 0.0039039224619750526), (2651, 0.003903603411355054), (2598, 0.003903566354615943), (434, 0.0039033238441421986), (2133, 0.0039025173009315218), (1742, 0.0039011787881144478), (1404, 0.003900088487306732), (2997, 0.003899752749114155), (4399, 0.0038992876923040114), (818, 0.00389777911505063), (828, 0.0038975354751365414), (878, 0.003896980296499194), (1032, 0.003896954685433198), (578, 0.003894018753966826), (126, 0.003892829517460345), (939, 0.00389161805438616), (3734, 0.003891456451939239), (2303, 0.0038912924420161817), (387, 0.003891224580269763), (276, 0.0038902794169759654), (2972, 0.0038890795027620296), (2812, 0.0038883497411575504), (1663, 0.0038869126834534247), (4257, 0.0038867304703744843), (1177, 0.0038866242990666213), (2348, 0.003886275011071673), (2166, 0.0038857156593309194), (2023, 0.003885353679801698), (3615, 0.0038853336727357776), (2525, 0.003885142479582953), (3433, 0.003884932042673171), (694, 0.003879895978387282), (2899, 0.0038785272767346717), (742, 0.003878350411205212), (236, 0.0038755372197732947), (507, 0.003874119166636948), (4254, 0.0038740420696265192), (1203, 0.0038738865487800665), (1041, 0.0038728928463398335), (287, 0.00387142302566625), (3057, 0.003870531786313249), (307, 0.003870087440905401), (903, 0.0038675012544793193), (3941, 0.0038664111306543013), (941, 0.0038643298851232495), (3243, 0.0038643150169175343), (734, 0.0038640404018962537), (1665, 0.003863130761355221), (2496, 0.003858452667048752), (4059, 0.0038584183496850406), (1620, 0.0038579667088961054), (900, 0.0038576680614306573), (2552, 0.0038574687740628036), (1206, 0.0038569639091180752), (2099, 0.003856405683345428), (1884, 0.0038563645073318585), (2634, 0.003855185956017988), (3399, 0.0038546934020522723), (4603, 0.0038486512189878593), (3452, 0.003847331914233446), (229, 0.0038465634594251215), (2862, 0.0038451356492224605), (372, 0.0038442984727517977), (598, 0.003844208024126623), (659, 0.003843255527538249), (3725, 0.0038417131113838007), (1555, 0.0038409254127893546), (213, 0.0038400809559194014), (1107, 0.003838783662713922), (1433, 0.0038385065100659194), (935, 0.0038376226964069453), (4591, 0.0038373253606665617), (4356, 0.0038371378128521263), (866, 0.003835626440452888), (111, 0.003832746627126225), (2446, 0.0038321319715205584), (3342, 0.003831255000585504), (868, 0.0038307519575573527), (1183, 0.0038296717235555837), (1641, 0.0038260464281994234), (1650, 0.003825884792947356), (2556, 0.0038257931873580484), (463, 0.003823778968593081), (2129, 0.0038230989487415532), (399, 0.0038230926666756007), (96, 0.0038186366266959827), (1642, 0.0038185921263709476), (1514, 0.0038184017824728776), (2777, 0.0038176842982684065), (766, 0.0038176055550591084), (2317, 0.003817582828477673), (3627, 0.003817522036526289), (1519, 0.003815358440754576), (4402, 0.003815105498429879), (1920, 0.0038148769110974944), (1760, 0.0038146752102838403), (1448, 0.0038123752331418056), (4616, 0.0038113332714058683), (136, 0.0038101043764191627), (2735, 0.0038094547406569714), (2593, 0.003806650849137459), (3369, 0.003805754598155096), (1477, 0.0038055755374375127), (558, 0.0038045806650003444), (899, 0.0038033302894883506), (590, 0.0038027061872041115), (1667, 0.0038024742478986492), (1357, 0.0038022257116648106), (1814, 0.0037989477126507214), (2674, 0.003798008914386167), (4282, 0.0037979371066515387), (4174, 0.00379757089534143), (2845, 0.003797540609041876), (669, 0.0037963067227295396), (3389, 0.0037946366262956613), (604, 0.0037945673265030702), (4348, 0.0037942857697610376), (1079, 0.003794165265733259), (3460, 0.0037939945032194216), (4176, 0.003793834710451913), (2347, 0.00379282531717747), (829, 0.0037901845411817013), (4649, 0.003789077378954778), (3455, 0.003788394981818332), (43, 0.0037870773336399527), (457, 0.003786806901837615), (359, 0.003786376304424477), (1308, 0.0037853648495265032), (1462, 0.0037843753594624468), (4326, 0.003782726623348454), (416, 0.0037808779732802374), (4277, 0.003779154013424863), (3284, 0.003778785070143362), (910, 0.003776852305535928), (2920, 0.0037750577361043538), (3329, 0.00377193707197047), (863, 0.0037714298624743), (3742, 0.003768703046700629), (4502, 0.003768314279622947), (957, 0.0037674503216927726), (124, 0.003767426628840141), (2954, 0.0037673110700101645), (1434, 0.0037669508146577465), (1796, 0.003764514758717122), (199, 0.003762072932664933), (1730, 0.003761548199287134), (3563, 0.00376039839227486), (934, 0.003760273589743865), (1675, 0.0037586966642391396), (759, 0.003756523763538565), (2728, 0.0037555190525633683), (1360, 0.0037550769348073036), (2803, 0.0037547526889962247), (3278, 0.003751628906808831), (3474, 0.0037490844790561257), (1680, 0.0037471417745723475), (1892, 0.00374652006349757), (2265, 0.00374559010065565), (1538, 0.003745052612857058), (2236, 0.0037439771601082616), (4053, 0.0037438252656764467), (3267, 0.0037437510089893896), (1865, 0.0037430007622713123), (2055, 0.003739424507429362), (968, 0.0037374674643243146), (285, 0.0037367471760851355), (1595, 0.0037338303255821633), (3705, 0.003733474667029003), (473, 0.00373274935919808), (3311, 0.0037322347086303264), (449, 0.0037315247827482117), (1826, 0.003730909068562435), (4154, 0.003728230257235082), (1387, 0.0037246389953419657), (1161, 0.0037244297203628094), (2323, 0.003723323786703837), (2031, 0.003723150637834486), (563, 0.0037204246916523573), (515, 0.00371904808611228), (581, 0.0037181104761313368), (2741, 0.003714927511613591), (981, 0.003714466731564067), (3336, 0.0037136478938428197), (3974, 0.003713566032399135), (3027, 0.0037127457334743025), (936, 0.0037123701464113023), (1000, 0.003711011833427069), (804, 0.0037109390077948497), (4475, 0.0037102233102153195), (1625, 0.0037100744178728516), (1739, 0.0037098139887877858), (2248, 0.003709285630002007), (597, 0.0037088758038309193), (4143, 0.0037087558840811995), (800, 0.0037085076508963895), (3863, 0.0037075414106496215), (722, 0.0037073030568561694), (2065, 0.003706807072531604), (4304, 0.0037030422781467354), (2591, 0.0037015804961778847), (158, 0.0037009674332085705), (1808, 0.0037002525966115052), (2191, 0.003700210952906505), (3841, 0.0037000552767248508), (3801, 0.003696533666703888), (2976, 0.0036960166597543014), (3167, 0.0036949739682156), (4590, 0.0036945191517794335), (917, 0.003693076212198443), (3556, 0.0036891088363307954), (594, 0.0036878138402109944), (815, 0.003686069846399606), (4205, 0.003685267464104569), (2580, 0.0036845842346805704), (1934, 0.0036840299876455007), (856, 0.0036828561892968117), (1414, 0.0036808252112036036), (1318, 0.003679659678378262), (2213, 0.003679331335438309), (672, 0.0036790831471422976), (3956, 0.0036774191313795434), (1392, 0.0036683488082647556), (2724, 0.0036662786620692838), (3360, 0.0036649394766980047), (4608, 0.0036613550195543987), (1009, 0.003660207924423354), (4661, 0.0036572728593151954), (1830, 0.0036558240409861943), (1290, 0.0036552735136771773), (252, 0.0036546691479567386), (1251, 0.0036510029894327254), (4343, 0.003649440081247394), (495, 0.0036492160374051196), (3755, 0.003646458146571054), (2047, 0.003645926255132156), (200, 0.003645684623963186), (712, 0.003645219028139464), (166, 0.003643823272079119), (519, 0.003642964915075335), (1608, 0.0036418761852422587), (1553, 0.00364136558965605), (4220, 0.0036397832699316575), (2617, 0.003637641205157956), (808, 0.0036373333947841507), (1776, 0.0036336181236099395), (184, 0.0036332133663035766), (4247, 0.0036263645852927704), (4066, 0.00362334266655298), (1186, 0.0036228045417877764), (3910, 0.0036222895738345995), (647, 0.003620082507564686), (3894, 0.003618517094406307), (249, 0.0036184069846365054), (32, 0.0036181806983480486), (1136, 0.003617127266596691), (851, 0.003614451523170536), (317, 0.0036127471669950054), (4432, 0.0036113036519607533), (3637, 0.0036081871595938122), (1301, 0.003604602539277461), (3880, 0.0035996214340238922), (4296, 0.0035938479283786906), (4473, 0.003593402940100815), (1943, 0.00359121911581974), (653, 0.0035897668972044512), (2621, 0.0035896093942540787), (4232, 0.0035869073719438887), (3096, 0.0035865343722085996), (2721, 0.0035850688235092875), (2692, 0.00358280122205307), (4429, 0.0035823637562027626), (1465, 0.003577085319830774), (2520, 0.003576681463351322), (4748, 0.003573320173505932), (3211, 0.003572296556842034), (242, 0.003572233458087975), (2942, 0.003570246607795383), (147, 0.0035695852328052205), (1397, 0.0035679463867294135), (165, 0.0035666946836953755), (2270, 0.0035648646393126046), (642, 0.0035638164815578618), (357, 0.0035604074431147765), (1828, 0.0035600971948174616), (4386, 0.0035584239829931506), (874, 0.0035580894018614317), (1370, 0.003557556317279054), (1450, 0.003555547575537953), (861, 0.0035529297276974967), (3238, 0.0035506915400696426), (364, 0.0035495465497384924), (3393, 0.0035485109231819093), (3629, 0.003543392459999979), (286, 0.0035405261418117633), (269, 0.003540314481318063), (4627, 0.0035403046146791368), (3569, 0.0035374528629295416), (2743, 0.003537407878231095), (251, 0.0035363300619059837), (2382, 0.003534352566403257), (445, 0.0035320707231288762), (1215, 0.0035316325704527743), (4476, 0.0035305531745418403), (1627, 0.003526865038571865), (2146, 0.003525983362301605), (2981, 0.003524544122862437), (3376, 0.0035232346437114957), (496, 0.003522499250761357), (190, 0.003520897300841631), (1691, 0.0035204720626886062), (3409, 0.003520070404244513), (1050, 0.0035149697029401763), (432, 0.003509987741350208), (1352, 0.003504709109647373), (3065, 0.003504532188226563), (2758, 0.0035041047185850804), (1340, 0.0035039063321516944), (4095, 0.003501487579099169), (2771, 0.0035009604760594805), (3855, 0.003500890815461072), (1971, 0.0034971183019946784), (267, 0.0034964757714454043), (3668, 0.003492261015191372), (1356, 0.003492126027640791), (3634, 0.0034884399801312855), (617, 0.0034834703241643857), (951, 0.003483048337495542), (1312, 0.0034818505434304724), (3657, 0.0034817981766764464), (2076, 0.0034797935444792877), (4636, 0.003479381409518219), (707, 0.003470313832691173), (2157, 0.00346932546970249), (196, 0.0034655241628282402), (1801, 0.0034649880396555493), (2127, 0.003463680632352086), (3347, 0.00346293812074521), (4610, 0.0034627465091907547), (566, 0.003461482032942084), (3821, 0.003460178282504769), (3091, 0.0034534507246683334), (3928, 0.0034464313914596752), (1042, 0.003445898257463239), (1367, 0.0034455162496886344), (2359, 0.003443716770841084), (4733, 0.00344261178443278), (2355, 0.003439757099278369), (3331, 0.003439324811262666), (16, 0.0034388991811048052), (1209, 0.0034382290739462446), (1078, 0.0034359914253894075), (2481, 0.003435921630607009), (44, 0.0034345282956725924), (3430, 0.0034342804633542253), (3927, 0.0034342006259357044), (2221, 0.0034300366729445833), (2602, 0.0034234763964146983), (2969, 0.0034219871661436744), (442, 0.0034210975070277866), (901, 0.0034173951090981083), (142, 0.0034136135980709116), (3024, 0.003413083049842278), (25, 0.00341295310855454), (2563, 0.0034123257037067694), (4200, 0.0034112612086215056), (1571, 0.003411154958223785), (441, 0.003409511071614865), (149, 0.003407124227397022), (4015, 0.0034034838864864616), (3957, 0.003400781057460582), (2034, 0.003399230692478275), (1241, 0.0033918222809216523), (1464, 0.0033797123183143016), (3317, 0.0033793464092522303), (1369, 0.0033769391849777864), (2526, 0.0033757909595382254), (412, 0.003370765645398696), (645, 0.0033698072578108866), (3313, 0.0033684996324046946), (1098, 0.003364441759868593), (816, 0.0033581261926403936), (1037, 0.003356281788427815), (942, 0.0033542311285592362), (4744, 0.0033446908027603257), (4626, 0.003335768741964259), (691, 0.0033346516875452504), (1377, 0.0033282497178506363), (1303, 0.0033265530855218673), (953, 0.003322004691965566), (719, 0.0033146724475757523), (1989, 0.003313880791833356), (4674, 0.0033138069131526827), (3431, 0.0033132323350567768), (2925, 0.003312681280351406), (757, 0.0032957198380808472), (1144, 0.0032894555837864044), (3471, 0.003280530624880548), (1886, 0.0032793669510554325), (706, 0.0032770730964861157), (3362, 0.003267124797996714), (527, 0.0032663422366369663), (2010, 0.0032582950540403057), (2917, 0.0032498075327097252), (4598, 0.00323690117109326), (3301, 0.0032309367791152907), (159, 0.0032291482724649285), (1417, 0.003220668381960736), (3152, 0.0032196604812880906), (2767, 0.0032189262738871937), (266, 0.003174612638055292), (3316, 0.0031737798824382586), (2760, 0.0031668051360376325), (2474, 0.0031654724206723905), (1005, 0.003153632663002623), (1774, 0.0031503124959464655), (351, 0.0031478188804051877), (82, 0.0031309647126099385), (4182, 0.003130263201082959), (562, 0.003130125641736099), (1861, 0.0031274069679219194), (228, 0.0031247773982589345), (3645, 0.0031098820494696046), (452, 0.0031075093358106168), (3285, 0.0031017592656929177), (2636, 0.003097586052708706), (296, 0.0030922855588654103), (3983, 0.003090996267515069), (1277, 0.0030853804476031607), (256, 0.0030824140796808287), (4301, 0.0030611063575440452), (1471, 0.0030596174255517524), (1351, 0.0030427473492543023), (2902, 0.0030344991545969762), (7, 0.0029639018990599993), (4752, 0.0029554209214349447), (641, 0.0029545603765932537), (293, 0.0029336370649842513), (4171, 0.002915948475755331), (831, 0.002912720839608125), (3365, 0.0029096110916841103), (542, 0.002893282521747646), (1919, 0.002883765339773846), (330, 0.002850840608801724), (3458, 0.002826684724586889), (1509, 0.002818614781941816), (858, 0.0027858085497488314), (3392, 0.002741465319260017), (1780, 0.0026914872748170903), (3608, 0.0026874135209147315), (2538, 0.0024686617314967196), (2534, 0.00184052929333755), (1, 0.0), (2, 0.0), (6, 0.0), (9, 0.0), (10, 0.0), (13, 0.0), (17, 0.0), (22, 0.0), (27, 0.0), (28, 0.0), (30, 0.0), (35, 0.0), (38, 0.0), (39, 0.0), (40, 0.0), (42, 0.0), (46, 0.0), (47, 0.0), (50, 0.0), (53, 0.0), (54, 0.0), (55, 0.0), (56, 0.0), (57, 0.0), (58, 0.0), (64, 0.0), (65, 0.0), (67, 0.0), (69, 0.0), (70, 0.0), (72, 0.0), (73, 0.0), (75, 0.0), (76, 0.0), (78, 0.0), (80, 0.0), (81, 0.0), (83, 0.0), (84, 0.0), (88, 0.0), (89, 0.0), (90, 0.0), (93, 0.0), (94, 0.0), (95, 0.0), (99, 0.0), (100, 0.0), (101, 0.0), (117, 0.0), (122, 0.0), (125, 0.0), (128, 0.0), (130, 0.0), (133, 0.0), (134, 0.0), (135, 0.0), (137, 0.0), (138, 0.0), (139, 0.0), (141, 0.0), (143, 0.0), (145, 0.0), (148, 0.0), (150, 0.0), (151, 0.0), (153, 0.0), (155, 0.0), (160, 0.0), (162, 0.0), (163, 0.0), (170, 0.0), (171, 0.0), (177, 0.0), (179, 0.0), (180, 0.0), (181, 0.0), (185, 0.0), (186, 0.0), (187, 0.0), (188, 0.0), (189, 0.0), (191, 0.0), (205, 0.0), (214, 0.0), (219, 0.0), (220, 0.0), (223, 0.0), (230, 0.0), (231, 0.0), (233, 0.0), (234, 0.0), (237, 0.0), (239, 0.0), (240, 0.0), (241, 0.0), (244, 0.0), (245, 0.0), (248, 0.0), (250, 0.0), (258, 0.0), (260, 0.0), (261, 0.0), (264, 0.0), (265, 0.0), (273, 0.0), (277, 0.0), (284, 0.0), (288, 0.0), (289, 0.0), (290, 0.0), (291, 0.0), (294, 0.0), (295, 0.0), (297, 0.0), (298, 0.0), (299, 0.0), (300, 0.0), (301, 0.0), (303, 0.0), (304, 0.0), (305, 0.0), (306, 0.0), (310, 0.0), (311, 0.0), (313, 0.0), (314, 0.0), (315, 0.0), (316, 0.0), (319, 0.0), (323, 0.0), (327, 0.0), (331, 0.0), (333, 0.0), (334, 0.0), (335, 0.0), (336, 0.0), (337, 0.0), (339, 0.0), (340, 0.0), (341, 0.0), (344, 0.0), (352, 0.0), (354, 0.0), (360, 0.0), (362, 0.0), (363, 0.0), (365, 0.0), (366, 0.0), (367, 0.0), (368, 0.0), (369, 0.0), (375, 0.0), (376, 0.0), (379, 0.0), (380, 0.0), (382, 0.0), (383, 0.0), (384, 0.0), (386, 0.0), (391, 0.0), (392, 0.0), (393, 0.0), (394, 0.0), (397, 0.0), (401, 0.0), (404, 0.0), (409, 0.0), (411, 0.0), (413, 0.0), (414, 0.0), (415, 0.0), (417, 0.0), (418, 0.0), (420, 0.0), (421, 0.0), (422, 0.0), (423, 0.0), (424, 0.0), (425, 0.0), (426, 0.0), (427, 0.0), (435, 0.0), (439, 0.0), (440, 0.0), (451, 0.0), (454, 0.0), (459, 0.0), (460, 0.0), (461, 0.0), (462, 0.0), (468, 0.0), (477, 0.0), (486, 0.0), (491, 0.0), (492, 0.0), (494, 0.0), (497, 0.0), (498, 0.0), (501, 0.0), (503, 0.0), (506, 0.0), (511, 0.0), (512, 0.0), (513, 0.0), (514, 0.0), (516, 0.0), (523, 0.0), (525, 0.0), (528, 0.0), (530, 0.0), (532, 0.0), (536, 0.0), (537, 0.0), (539, 0.0), (540, 0.0), (546, 0.0), (548, 0.0), (549, 0.0), (550, 0.0), (552, 0.0), (553, 0.0), (554, 0.0), (555, 0.0), (556, 0.0), (557, 0.0), (559, 0.0), (560, 0.0), (561, 0.0), (565, 0.0), (567, 0.0), (568, 0.0), (569, 0.0), (570, 0.0), (572, 0.0), (573, 0.0), (574, 0.0), (575, 0.0), (577, 0.0), (585, 0.0), (586, 0.0), (591, 0.0), (592, 0.0), (599, 0.0), (600, 0.0), (601, 0.0), (603, 0.0), (610, 0.0), (613, 0.0), (615, 0.0), (619, 0.0), (621, 0.0), (625, 0.0), (629, 0.0), (633, 0.0), (634, 0.0), (635, 0.0), (639, 0.0), (640, 0.0), (650, 0.0), (654, 0.0), (656, 0.0), (658, 0.0), (661, 0.0), (662, 0.0), (663, 0.0), (664, 0.0), (666, 0.0), (668, 0.0), (674, 0.0), (677, 0.0), (678, 0.0), (679, 0.0), (681, 0.0), (682, 0.0), (685, 0.0), (686, 0.0), (687, 0.0), (690, 0.0), (699, 0.0), (702, 0.0), (704, 0.0), (708, 0.0), (710, 0.0), (711, 0.0), (714, 0.0), (718, 0.0), (723, 0.0), (724, 0.0), (725, 0.0), (730, 0.0), (746, 0.0), (747, 0.0), (748, 0.0), (751, 0.0), (752, 0.0), (753, 0.0), (756, 0.0), (762, 0.0), (763, 0.0), (765, 0.0), (770, 0.0), (772, 0.0), (775, 0.0), (776, 0.0), (778, 0.0), (779, 0.0), (789, 0.0), (790, 0.0), (793, 0.0), (797, 0.0), (803, 0.0), (807, 0.0), (809, 0.0), (810, 0.0), (811, 0.0), (812, 0.0), (814, 0.0), (821, 0.0), (822, 0.0), (827, 0.0), (833, 0.0), (834, 0.0), (835, 0.0), (836, 0.0), (837, 0.0), (839, 0.0), (840, 0.0), (841, 0.0), (842, 0.0), (849, 0.0), (855, 0.0), (862, 0.0), (869, 0.0), (875, 0.0), (881, 0.0), (882, 0.0), (892, 0.0), (893, 0.0), (898, 0.0), (902, 0.0), (904, 0.0), (905, 0.0), (906, 0.0), (908, 0.0), (909, 0.0), (912, 0.0), (913, 0.0), (914, 0.0), (915, 0.0), (916, 0.0), (918, 0.0), (919, 0.0), (920, 0.0), (927, 0.0), (928, 0.0), (931, 0.0), (943, 0.0), (945, 0.0), (954, 0.0), (955, 0.0), (956, 0.0), (958, 0.0), (960, 0.0), (965, 0.0), (972, 0.0), (974, 0.0), (977, 0.0), (978, 0.0), (979, 0.0), (990, 0.0), (992, 0.0), (995, 0.0), (996, 0.0), (997, 0.0), (1003, 0.0), (1010, 0.0), (1011, 0.0), (1012, 0.0), (1013, 0.0), (1014, 0.0), (1016, 0.0), (1018, 0.0), (1022, 0.0), (1024, 0.0), (1025, 0.0), (1028, 0.0), (1029, 0.0), (1031, 0.0), (1045, 0.0), (1046, 0.0), (1047, 0.0), (1051, 0.0), (1056, 0.0), (1057, 0.0), (1058, 0.0), (1062, 0.0), (1063, 0.0), (1066, 0.0), (1067, 0.0), (1068, 0.0), (1069, 0.0), (1070, 0.0), (1074, 0.0), (1076, 0.0), (1081, 0.0), (1082, 0.0), (1085, 0.0), (1086, 0.0), (1089, 0.0), (1090, 0.0), (1091, 0.0), (1092, 0.0), (1093, 0.0), (1095, 0.0), (1097, 0.0), (1101, 0.0), (1103, 0.0), (1104, 0.0), (1105, 0.0), (1106, 0.0), (1113, 0.0), (1116, 0.0), (1118, 0.0), (1120, 0.0), (1125, 0.0), (1128, 0.0), (1129, 0.0), (1130, 0.0), (1133, 0.0), (1134, 0.0), (1135, 0.0), (1139, 0.0), (1142, 0.0), (1143, 0.0), (1147, 0.0), (1150, 0.0), (1151, 0.0), (1152, 0.0), (1153, 0.0), (1155, 0.0), (1156, 0.0), (1158, 0.0), (1166, 0.0), (1167, 0.0), (1171, 0.0), (1173, 0.0), (1178, 0.0), (1181, 0.0), (1185, 0.0), (1189, 0.0), (1194, 0.0), (1195, 0.0), (1196, 0.0), (1197, 0.0), (1198, 0.0), (1205, 0.0), (1207, 0.0), (1210, 0.0), (1211, 0.0), (1212, 0.0), (1213, 0.0), (1214, 0.0), (1218, 0.0), (1227, 0.0), (1228, 0.0), (1230, 0.0), (1231, 0.0), (1233, 0.0), (1235, 0.0), (1238, 0.0), (1239, 0.0), (1240, 0.0), (1242, 0.0), (1246, 0.0), (1249, 0.0), (1250, 0.0), (1253, 0.0), (1258, 0.0), (1259, 0.0), (1260, 0.0), (1262, 0.0), (1265, 0.0), (1266, 0.0), (1267, 0.0), (1269, 0.0), (1270, 0.0), (1271, 0.0), (1272, 0.0), (1274, 0.0), (1276, 0.0), (1278, 0.0), (1279, 0.0), (1280, 0.0), (1281, 0.0), (1282, 0.0), (1283, 0.0), (1285, 0.0), (1287, 0.0), (1288, 0.0), (1289, 0.0), (1291, 0.0), (1292, 0.0), (1293, 0.0), (1296, 0.0), (1297, 0.0), (1299, 0.0), (1300, 0.0), (1307, 0.0), (1309, 0.0), (1310, 0.0), (1311, 0.0), (1314, 0.0), (1315, 0.0), (1316, 0.0), (1320, 0.0), (1321, 0.0), (1322, 0.0), (1323, 0.0), (1326, 0.0), (1327, 0.0), (1328, 0.0), (1330, 0.0), (1331, 0.0), (1333, 0.0), (1336, 0.0), (1341, 0.0), (1342, 0.0), (1343, 0.0), (1347, 0.0), (1348, 0.0), (1353, 0.0), (1354, 0.0), (1358, 0.0), (1361, 0.0), (1368, 0.0), (1371, 0.0), (1373, 0.0), (1374, 0.0), (1376, 0.0), (1379, 0.0), (1380, 0.0), (1381, 0.0), (1386, 0.0), (1388, 0.0), (1389, 0.0), (1391, 0.0), (1393, 0.0), (1395, 0.0), (1396, 0.0), (1399, 0.0), (1401, 0.0), (1406, 0.0), (1407, 0.0), (1412, 0.0), (1418, 0.0), (1419, 0.0), (1420, 0.0), (1425, 0.0), (1426, 0.0), (1428, 0.0), (1430, 0.0), (1431, 0.0), (1432, 0.0), (1435, 0.0), (1436, 0.0), (1437, 0.0), (1443, 0.0), (1444, 0.0), (1447, 0.0), (1449, 0.0), (1452, 0.0), (1455, 0.0), (1458, 0.0), (1459, 0.0), (1460, 0.0), (1461, 0.0), (1466, 0.0), (1467, 0.0), (1469, 0.0), (1470, 0.0), (1473, 0.0), (1480, 0.0), (1486, 0.0), (1490, 0.0), (1491, 0.0), (1492, 0.0), (1493, 0.0), (1495, 0.0), (1496, 0.0), (1502, 0.0), (1504, 0.0), (1505, 0.0), (1507, 0.0), (1508, 0.0), (1511, 0.0), (1512, 0.0), (1515, 0.0), (1517, 0.0), (1520, 0.0), (1521, 0.0), (1522, 0.0), (1525, 0.0), (1526, 0.0), (1529, 0.0), (1531, 0.0), (1532, 0.0), (1534, 0.0), (1535, 0.0), (1542, 0.0), (1545, 0.0), (1546, 0.0), (1548, 0.0), (1551, 0.0), (1554, 0.0), (1556, 0.0), (1557, 0.0), (1560, 0.0), (1561, 0.0), (1562, 0.0), (1563, 0.0), (1564, 0.0), (1567, 0.0), (1568, 0.0), (1573, 0.0), (1575, 0.0), (1576, 0.0), (1577, 0.0), (1578, 0.0), (1581, 0.0), (1583, 0.0), (1584, 0.0), (1586, 0.0), (1587, 0.0), (1588, 0.0), (1590, 0.0), (1591, 0.0), (1592, 0.0), (1596, 0.0), (1599, 0.0), (1600, 0.0), (1601, 0.0), (1602, 0.0), (1603, 0.0), (1604, 0.0), (1607, 0.0), (1609, 0.0), (1611, 0.0), (1614, 0.0), (1615, 0.0), (1622, 0.0), (1623, 0.0), (1630, 0.0), (1631, 0.0), (1632, 0.0), (1633, 0.0), (1635, 0.0), (1638, 0.0), (1640, 0.0), (1644, 0.0), (1646, 0.0), (1647, 0.0), (1649, 0.0), (1651, 0.0), (1652, 0.0), (1654, 0.0), (1657, 0.0), (1659, 0.0), (1661, 0.0), (1662, 0.0), (1664, 0.0), (1668, 0.0), (1669, 0.0), (1673, 0.0), (1674, 0.0), (1676, 0.0), (1679, 0.0), (1681, 0.0), (1684, 0.0), (1686, 0.0), (1689, 0.0), (1692, 0.0), (1694, 0.0), (1695, 0.0), (1696, 0.0), (1697, 0.0), (1698, 0.0), (1699, 0.0), (1700, 0.0), (1701, 0.0), (1702, 0.0), (1704, 0.0), (1705, 0.0), (1709, 0.0), (1713, 0.0), (1714, 0.0), (1715, 0.0), (1720, 0.0), (1721, 0.0), (1723, 0.0), (1725, 0.0), (1726, 0.0), (1728, 0.0), (1732, 0.0), (1734, 0.0), (1735, 0.0), (1737, 0.0), (1741, 0.0), (1745, 0.0), (1749, 0.0), (1750, 0.0), (1751, 0.0), (1753, 0.0), (1755, 0.0), (1757, 0.0), (1758, 0.0), (1761, 0.0), (1766, 0.0), (1770, 0.0), (1773, 0.0), (1775, 0.0), (1777, 0.0), (1783, 0.0), (1784, 0.0), (1785, 0.0), (1788, 0.0), (1789, 0.0), (1790, 0.0), (1791, 0.0), (1795, 0.0), (1799, 0.0), (1809, 0.0), (1810, 0.0), (1812, 0.0), (1815, 0.0), (1818, 0.0), (1820, 0.0), (1823, 0.0), (1825, 0.0), (1832, 0.0), (1834, 0.0), (1835, 0.0), (1836, 0.0), (1837, 0.0), (1838, 0.0), (1839, 0.0), (1840, 0.0), (1841, 0.0), (1842, 0.0), (1844, 0.0), (1849, 0.0), (1850, 0.0), (1852, 0.0), (1855, 0.0), (1856, 0.0), (1857, 0.0), (1859, 0.0), (1863, 0.0), (1868, 0.0), (1873, 0.0), (1879, 0.0), (1889, 0.0), (1894, 0.0), (1895, 0.0), (1898, 0.0), (1899, 0.0), (1900, 0.0), (1904, 0.0), (1910, 0.0), (1911, 0.0), (1912, 0.0), (1914, 0.0), (1915, 0.0), (1917, 0.0), (1926, 0.0), (1927, 0.0), (1928, 0.0), (1930, 0.0), (1932, 0.0), (1933, 0.0), (1937, 0.0), (1938, 0.0), (1939, 0.0), (1940, 0.0), (1941, 0.0), (1944, 0.0), (1945, 0.0), (1948, 0.0), (1952, 0.0), (1953, 0.0), (1957, 0.0), (1961, 0.0), (1962, 0.0), (1966, 0.0), (1970, 0.0), (1972, 0.0), (1973, 0.0), (1975, 0.0), (1976, 0.0), (1978, 0.0), (1979, 0.0), (1981, 0.0), (1982, 0.0), (1986, 0.0), (1987, 0.0), (1988, 0.0), (1990, 0.0), (1993, 0.0), (1994, 0.0), (1996, 0.0), (1998, 0.0), (1999, 0.0), (2002, 0.0), (2005, 0.0), (2012, 0.0), (2013, 0.0), (2014, 0.0), (2015, 0.0), (2017, 0.0), (2018, 0.0), (2019, 0.0), (2020, 0.0), (2021, 0.0), (2022, 0.0), (2025, 0.0), (2028, 0.0), (2030, 0.0), (2033, 0.0), (2038, 0.0), (2041, 0.0), (2042, 0.0), (2043, 0.0), (2046, 0.0), (2050, 0.0), (2052, 0.0), (2054, 0.0), (2056, 0.0), (2057, 0.0), (2059, 0.0), (2062, 0.0), (2063, 0.0), (2066, 0.0), (2071, 0.0), (2074, 0.0), (2077, 0.0), (2078, 0.0), (2081, 0.0), (2084, 0.0), (2085, 0.0), (2092, 0.0), (2093, 0.0), (2094, 0.0), (2095, 0.0), (2098, 0.0), (2100, 0.0), (2110, 0.0), (2113, 0.0), (2114, 0.0), (2115, 0.0), (2118, 0.0), (2119, 0.0), (2120, 0.0), (2124, 0.0), (2125, 0.0), (2128, 0.0), (2130, 0.0), (2135, 0.0), (2136, 0.0), (2138, 0.0), (2139, 0.0), (2140, 0.0), (2145, 0.0), (2147, 0.0), (2150, 0.0), (2152, 0.0), (2153, 0.0), (2158, 0.0), (2164, 0.0), (2165, 0.0), (2171, 0.0), (2172, 0.0), (2175, 0.0), (2177, 0.0), (2178, 0.0), (2179, 0.0), (2180, 0.0), (2181, 0.0), (2182, 0.0), (2183, 0.0), (2185, 0.0), (2194, 0.0), (2197, 0.0), (2198, 0.0), (2200, 0.0), (2204, 0.0), (2205, 0.0), (2206, 0.0), (2207, 0.0), (2215, 0.0), (2217, 0.0), (2218, 0.0), (2219, 0.0), (2225, 0.0), (2227, 0.0), (2228, 0.0), (2231, 0.0), (2232, 0.0), (2233, 0.0), (2235, 0.0), (2238, 0.0), (2239, 0.0), (2241, 0.0), (2243, 0.0), (2244, 0.0), (2245, 0.0), (2246, 0.0), (2247, 0.0), (2256, 0.0), (2259, 0.0), (2263, 0.0), (2267, 0.0), (2271, 0.0), (2272, 0.0), (2273, 0.0), (2274, 0.0), (2275, 0.0), (2276, 0.0), (2278, 0.0), (2281, 0.0), (2282, 0.0), (2283, 0.0), (2290, 0.0), (2291, 0.0), (2294, 0.0), (2297, 0.0), (2298, 0.0), (2300, 0.0), (2304, 0.0), (2305, 0.0), (2307, 0.0), (2311, 0.0), (2312, 0.0), (2314, 0.0), (2315, 0.0), (2316, 0.0), (2318, 0.0), (2322, 0.0), (2325, 0.0), (2326, 0.0), (2327, 0.0), (2329, 0.0), (2330, 0.0), (2332, 0.0), (2336, 0.0), (2337, 0.0), (2339, 0.0), (2341, 0.0), (2342, 0.0), (2343, 0.0), (2345, 0.0), (2351, 0.0), (2352, 0.0), (2358, 0.0), (2360, 0.0), (2363, 0.0), (2364, 0.0), (2365, 0.0), (2366, 0.0), (2369, 0.0), (2371, 0.0), (2372, 0.0), (2373, 0.0), (2376, 0.0), (2377, 0.0), (2380, 0.0), (2381, 0.0), (2383, 0.0), (2384, 0.0), (2389, 0.0), (2395, 0.0), (2398, 0.0), (2408, 0.0), (2413, 0.0), (2414, 0.0), (2424, 0.0), (2426, 0.0), (2429, 0.0), (2432, 0.0), (2433, 0.0), (2435, 0.0), (2439, 0.0), (2442, 0.0), (2444, 0.0), (2445, 0.0), (2449, 0.0), (2450, 0.0), (2451, 0.0), (2452, 0.0), (2455, 0.0), (2456, 0.0), (2458, 0.0), (2460, 0.0), (2462, 0.0), (2465, 0.0), (2468, 0.0), (2470, 0.0), (2471, 0.0), (2476, 0.0), (2479, 0.0), (2480, 0.0), (2483, 0.0), (2485, 0.0), (2486, 0.0), (2487, 0.0), (2491, 0.0), (2493, 0.0), (2497, 0.0), (2498, 0.0), (2499, 0.0), (2501, 0.0), (2503, 0.0), (2504, 0.0), (2506, 0.0), (2508, 0.0), (2513, 0.0), (2514, 0.0), (2515, 0.0), (2517, 0.0), (2518, 0.0), (2521, 0.0), (2523, 0.0), (2524, 0.0), (2532, 0.0), (2536, 0.0), (2539, 0.0), (2541, 0.0), (2542, 0.0), (2544, 0.0), (2547, 0.0), (2548, 0.0), (2551, 0.0), (2562, 0.0), (2564, 0.0), (2567, 0.0), (2573, 0.0), (2574, 0.0), (2576, 0.0), (2577, 0.0), (2581, 0.0), (2586, 0.0), (2590, 0.0), (2596, 0.0), (2597, 0.0), (2599, 0.0), (2600, 0.0), (2604, 0.0), (2605, 0.0), (2615, 0.0), (2616, 0.0), (2618, 0.0), (2620, 0.0), (2622, 0.0), (2627, 0.0), (2630, 0.0), (2631, 0.0), (2639, 0.0), (2641, 0.0), (2644, 0.0), (2646, 0.0), (2648, 0.0), (2656, 0.0), (2658, 0.0), (2659, 0.0), (2660, 0.0), (2665, 0.0), (2666, 0.0), (2667, 0.0), (2669, 0.0), (2670, 0.0), (2672, 0.0), (2676, 0.0), (2680, 0.0), (2682, 0.0), (2683, 0.0), (2684, 0.0), (2685, 0.0), (2686, 0.0), (2688, 0.0), (2691, 0.0), (2700, 0.0), (2703, 0.0), (2704, 0.0), (2708, 0.0), (2709, 0.0), (2710, 0.0), (2711, 0.0), (2715, 0.0), (2717, 0.0), (2718, 0.0), (2719, 0.0), (2726, 0.0), (2727, 0.0), (2729, 0.0), (2733, 0.0), (2736, 0.0), (2751, 0.0), (2754, 0.0), (2756, 0.0), (2759, 0.0), (2770, 0.0), (2773, 0.0), (2774, 0.0), (2780, 0.0), (2781, 0.0), (2785, 0.0), (2787, 0.0), (2788, 0.0), (2789, 0.0), (2790, 0.0), (2793, 0.0), (2801, 0.0), (2804, 0.0), (2810, 0.0), (2811, 0.0), (2815, 0.0), (2818, 0.0), (2819, 0.0), (2820, 0.0), (2822, 0.0), (2825, 0.0), (2827, 0.0), (2828, 0.0), (2829, 0.0), (2833, 0.0), (2837, 0.0), (2839, 0.0), (2843, 0.0), (2850, 0.0), (2851, 0.0), (2856, 0.0), (2860, 0.0), (2864, 0.0), (2867, 0.0), (2869, 0.0), (2871, 0.0), (2874, 0.0), (2875, 0.0), (2885, 0.0), (2905, 0.0), (2906, 0.0), (2913, 0.0), (2918, 0.0), (2921, 0.0), (2922, 0.0), (2929, 0.0), (2930, 0.0), (2935, 0.0), (2938, 0.0), (2939, 0.0), (2941, 0.0), (2944, 0.0), (2947, 0.0), (2948, 0.0), (2951, 0.0), (2952, 0.0), (2955, 0.0), (2956, 0.0), (2958, 0.0), (2959, 0.0), (2960, 0.0), (2962, 0.0), (2963, 0.0), (2971, 0.0), (2979, 0.0), (2984, 0.0), (2991, 0.0), (2994, 0.0), (3001, 0.0), (3002, 0.0), (3005, 0.0), (3006, 0.0), (3008, 0.0), (3011, 0.0), (3018, 0.0), (3021, 0.0), (3023, 0.0), (3025, 0.0), (3029, 0.0), (3033, 0.0), (3038, 0.0), (3041, 0.0), (3045, 0.0), (3047, 0.0), (3048, 0.0), (3049, 0.0), (3053, 0.0), (3058, 0.0), (3059, 0.0), (3060, 0.0), (3068, 0.0), (3070, 0.0), (3073, 0.0), (3079, 0.0), (3080, 0.0), (3085, 0.0), (3087, 0.0), (3088, 0.0), (3090, 0.0), (3092, 0.0), (3099, 0.0), (3100, 0.0), (3102, 0.0), (3104, 0.0), (3105, 0.0), (3107, 0.0), (3114, 0.0), (3117, 0.0), (3118, 0.0), (3121, 0.0), (3124, 0.0), (3126, 0.0), (3127, 0.0), (3129, 0.0), (3130, 0.0), (3131, 0.0), (3132, 0.0), (3133, 0.0), (3134, 0.0), (3135, 0.0), (3136, 0.0), (3138, 0.0), (3142, 0.0), (3143, 0.0), (3144, 0.0), (3145, 0.0), (3149, 0.0), (3156, 0.0), (3158, 0.0), (3160, 0.0), (3162, 0.0), (3163, 0.0), (3164, 0.0), (3169, 0.0), (3172, 0.0), (3176, 0.0), (3179, 0.0), (3185, 0.0), (3190, 0.0), (3191, 0.0), (3192, 0.0), (3193, 0.0), (3201, 0.0), (3203, 0.0), (3204, 0.0), (3207, 0.0), (3208, 0.0), (3209, 0.0), (3212, 0.0), (3215, 0.0), (3221, 0.0), (3222, 0.0), (3223, 0.0), (3231, 0.0), (3232, 0.0), (3245, 0.0), (3247, 0.0), (3250, 0.0), (3251, 0.0), (3253, 0.0), (3255, 0.0), (3256, 0.0), (3259, 0.0), (3261, 0.0), (3263, 0.0), (3265, 0.0), (3266, 0.0), (3270, 0.0), (3277, 0.0), (3279, 0.0), (3280, 0.0), (3281, 0.0), (3286, 0.0), (3294, 0.0), (3305, 0.0), (3309, 0.0), (3310, 0.0), (3319, 0.0), (3320, 0.0), (3321, 0.0), (3323, 0.0), (3324, 0.0), (3332, 0.0), (3333, 0.0), (3334, 0.0), (3338, 0.0), (3339, 0.0), (3340, 0.0), (3343, 0.0), (3345, 0.0), (3350, 0.0), (3356, 0.0), (3361, 0.0), (3366, 0.0), (3367, 0.0), (3377, 0.0), (3378, 0.0), (3383, 0.0), (3384, 0.0), (3385, 0.0), (3387, 0.0), (3394, 0.0), (3397, 0.0), (3398, 0.0), (3401, 0.0), (3404, 0.0), (3405, 0.0), (3411, 0.0), (3416, 0.0), (3420, 0.0), (3422, 0.0), (3426, 0.0), (3427, 0.0), (3428, 0.0), (3429, 0.0), (3432, 0.0), (3438, 0.0), (3439, 0.0), (3440, 0.0), (3442, 0.0), (3443, 0.0), (3444, 0.0), (3448, 0.0), (3451, 0.0), (3454, 0.0), (3456, 0.0), (3457, 0.0), (3459, 0.0), (3461, 0.0), (3463, 0.0), (3464, 0.0), (3465, 0.0), (3466, 0.0), (3469, 0.0), (3470, 0.0), (3472, 0.0), (3473, 0.0), (3475, 0.0), (3476, 0.0), (3480, 0.0), (3484, 0.0), (3485, 0.0), (3486, 0.0), (3488, 0.0), (3494, 0.0), (3495, 0.0), (3502, 0.0), (3505, 0.0), (3507, 0.0), (3508, 0.0), (3510, 0.0), (3515, 0.0), (3519, 0.0), (3520, 0.0), (3522, 0.0), (3525, 0.0), (3528, 0.0), (3530, 0.0), (3532, 0.0), (3533, 0.0), (3535, 0.0), (3539, 0.0), (3543, 0.0), (3545, 0.0), (3547, 0.0), (3550, 0.0), (3554, 0.0), (3555, 0.0), (3566, 0.0), (3567, 0.0), (3568, 0.0), (3572, 0.0), (3573, 0.0), (3574, 0.0), (3576, 0.0), (3578, 0.0), (3580, 0.0), (3581, 0.0), (3582, 0.0), (3583, 0.0), (3586, 0.0), (3588, 0.0), (3591, 0.0), (3595, 0.0), (3597, 0.0), (3600, 0.0), (3602, 0.0), (3605, 0.0), (3609, 0.0), (3610, 0.0), (3617, 0.0), (3619, 0.0), (3622, 0.0), (3625, 0.0), (3628, 0.0), (3630, 0.0), (3632, 0.0), (3633, 0.0), (3649, 0.0), (3650, 0.0), (3652, 0.0), (3658, 0.0), (3659, 0.0), (3662, 0.0), (3663, 0.0), (3664, 0.0), (3671, 0.0), (3674, 0.0), (3676, 0.0), (3679, 0.0), (3682, 0.0), (3683, 0.0), (3685, 0.0), (3688, 0.0), (3690, 0.0), (3693, 0.0), (3695, 0.0), (3697, 0.0), (3698, 0.0), (3700, 0.0), (3702, 0.0), (3708, 0.0), (3709, 0.0), (3710, 0.0), (3711, 0.0), (3712, 0.0), (3713, 0.0), (3715, 0.0), (3717, 0.0), (3718, 0.0), (3723, 0.0), (3724, 0.0), (3726, 0.0), (3732, 0.0), (3736, 0.0), (3738, 0.0), (3740, 0.0), (3741, 0.0), (3743, 0.0), (3744, 0.0), (3746, 0.0), (3752, 0.0), (3759, 0.0), (3760, 0.0), (3764, 0.0), (3768, 0.0), (3769, 0.0), (3773, 0.0), (3774, 0.0), (3775, 0.0), (3776, 0.0), (3782, 0.0), (3783, 0.0), (3785, 0.0), (3786, 0.0), (3787, 0.0), (3788, 0.0), (3790, 0.0), (3791, 0.0), (3796, 0.0), (3802, 0.0), (3803, 0.0), (3805, 0.0), (3806, 0.0), (3810, 0.0), (3812, 0.0), (3814, 0.0), (3816, 0.0), (3817, 0.0), (3818, 0.0), (3820, 0.0), (3823, 0.0), (3824, 0.0), (3825, 0.0), (3830, 0.0), (3833, 0.0), (3836, 0.0), (3837, 0.0), (3838, 0.0), (3842, 0.0), (3843, 0.0), (3844, 0.0), (3846, 0.0), (3847, 0.0), (3849, 0.0), (3850, 0.0), (3852, 0.0), (3858, 0.0), (3864, 0.0), (3870, 0.0), (3872, 0.0), (3885, 0.0), (3896, 0.0), (3897, 0.0), (3905, 0.0), (3907, 0.0), (3912, 0.0), (3914, 0.0), (3918, 0.0), (3921, 0.0), (3923, 0.0), (3926, 0.0), (3929, 0.0), (3930, 0.0), (3931, 0.0), (3938, 0.0), (3942, 0.0), (3943, 0.0), (3946, 0.0), (3947, 0.0), (3948, 0.0), (3949, 0.0), (3955, 0.0), (3958, 0.0), (3965, 0.0), (3966, 0.0), (3968, 0.0), (3969, 0.0), (3970, 0.0), (3971, 0.0), (3972, 0.0), (3975, 0.0), (3977, 0.0), (3979, 0.0), (3981, 0.0), (3982, 0.0), (3989, 0.0), (3991, 0.0), (3993, 0.0), (3994, 0.0), (3996, 0.0), (3997, 0.0), (3998, 0.0), (4001, 0.0), (4008, 0.0), (4009, 0.0), (4010, 0.0), (4021, 0.0), (4026, 0.0), (4029, 0.0), (4031, 0.0), (4034, 0.0), (4035, 0.0), (4037, 0.0), (4039, 0.0), (4040, 0.0), (4041, 0.0), (4043, 0.0), (4044, 0.0), (4045, 0.0), (4047, 0.0), (4055, 0.0), (4057, 0.0), (4063, 0.0), (4065, 0.0), (4067, 0.0), (4070, 0.0), (4071, 0.0), (4072, 0.0), (4076, 0.0), (4077, 0.0), (4078, 0.0), (4086, 0.0), (4088, 0.0), (4090, 0.0), (4093, 0.0), (4094, 0.0), (4096, 0.0), (4097, 0.0), (4099, 0.0), (4100, 0.0), (4103, 0.0), (4106, 0.0), (4108, 0.0), (4109, 0.0), (4110, 0.0), (4112, 0.0), (4114, 0.0), (4115, 0.0), (4118, 0.0), (4119, 0.0), (4120, 0.0), (4121, 0.0), (4122, 0.0), (4125, 0.0), (4127, 0.0), (4128, 0.0), (4131, 0.0), (4134, 0.0), (4146, 0.0), (4148, 0.0), (4150, 0.0), (4153, 0.0), (4157, 0.0), (4159, 0.0), (4162, 0.0), (4164, 0.0), (4165, 0.0), (4167, 0.0), (4170, 0.0), (4173, 0.0), (4177, 0.0), (4179, 0.0), (4180, 0.0), (4181, 0.0), (4184, 0.0), (4185, 0.0), (4186, 0.0), (4188, 0.0), (4190, 0.0), (4191, 0.0), (4193, 0.0), (4194, 0.0), (4195, 0.0), (4196, 0.0), (4199, 0.0), (4201, 0.0), (4204, 0.0), (4207, 0.0), (4210, 0.0), (4211, 0.0), (4212, 0.0), (4214, 0.0), (4215, 0.0), (4216, 0.0), (4217, 0.0), (4218, 0.0), (4219, 0.0), (4224, 0.0), (4226, 0.0), (4234, 0.0), (4235, 0.0), (4236, 0.0), (4237, 0.0), (4238, 0.0), (4239, 0.0), (4241, 0.0), (4248, 0.0), (4250, 0.0), (4251, 0.0), (4253, 0.0), (4258, 0.0), (4260, 0.0), (4261, 0.0), (4264, 0.0), (4265, 0.0), (4270, 0.0), (4271, 0.0), (4272, 0.0), (4274, 0.0), (4275, 0.0), (4276, 0.0), (4278, 0.0), (4279, 0.0), (4281, 0.0), (4285, 0.0), (4289, 0.0), (4290, 0.0), (4292, 0.0), (4294, 0.0), (4297, 0.0), (4302, 0.0), (4303, 0.0), (4305, 0.0), (4307, 0.0), (4310, 0.0), (4312, 0.0), (4313, 0.0), (4314, 0.0), (4316, 0.0), (4317, 0.0), (4323, 0.0), (4324, 0.0), (4325, 0.0), (4328, 0.0), (4329, 0.0), (4331, 0.0), (4335, 0.0), (4337, 0.0), (4339, 0.0), (4341, 0.0), (4346, 0.0), (4352, 0.0), (4353, 0.0), (4358, 0.0), (4360, 0.0), (4364, 0.0), (4365, 0.0), (4366, 0.0), (4367, 0.0), (4370, 0.0), (4373, 0.0), (4375, 0.0), (4376, 0.0), (4377, 0.0), (4378, 0.0), (4380, 0.0), (4384, 0.0), (4388, 0.0), (4390, 0.0), (4393, 0.0), (4404, 0.0), (4405, 0.0), (4406, 0.0), (4410, 0.0), (4413, 0.0), (4414, 0.0), (4415, 0.0), (4417, 0.0), (4421, 0.0), (4424, 0.0), (4425, 0.0), (4426, 0.0), (4433, 0.0), (4434, 0.0), (4436, 0.0), (4439, 0.0), (4441, 0.0), (4447, 0.0), (4450, 0.0), (4451, 0.0), (4452, 0.0), (4453, 0.0), (4454, 0.0), (4455, 0.0), (4456, 0.0), (4457, 0.0), (4459, 0.0), (4462, 0.0), (4464, 0.0), (4466, 0.0), (4467, 0.0), (4468, 0.0), (4478, 0.0), (4480, 0.0), (4481, 0.0), (4482, 0.0), (4485, 0.0), (4486, 0.0), (4491, 0.0), (4492, 0.0), (4493, 0.0), (4496, 0.0), (4499, 0.0), (4508, 0.0), (4509, 0.0), (4510, 0.0), (4512, 0.0), (4513, 0.0), (4515, 0.0), (4518, 0.0), (4519, 0.0), (4524, 0.0), (4525, 0.0), (4526, 0.0), (4527, 0.0), (4532, 0.0), (4534, 0.0), (4538, 0.0), (4541, 0.0), (4543, 0.0), (4547, 0.0), (4548, 0.0), (4549, 0.0), (4552, 0.0), (4553, 0.0), (4556, 0.0), (4557, 0.0), (4559, 0.0), (4560, 0.0), (4561, 0.0), (4562, 0.0), (4564, 0.0), (4565, 0.0), (4569, 0.0), (4570, 0.0), (4577, 0.0), (4578, 0.0), (4581, 0.0), (4583, 0.0), (4585, 0.0), (4586, 0.0), (4587, 0.0), (4588, 0.0), (4595, 0.0), (4596, 0.0), (4597, 0.0), (4600, 0.0), (4609, 0.0), (4613, 0.0), (4615, 0.0), (4618, 0.0), (4622, 0.0), (4623, 0.0), (4630, 0.0), (4631, 0.0), (4635, 0.0), (4639, 0.0), (4642, 0.0), (4644, 0.0), (4645, 0.0), (4646, 0.0), (4648, 0.0), (4651, 0.0), (4654, 0.0), (4655, 0.0), (4656, 0.0), (4659, 0.0), (4662, 0.0), (4663, 0.0), (4665, 0.0), (4666, 0.0), (4667, 0.0), (4671, 0.0), (4672, 0.0), (4676, 0.0), (4681, 0.0), (4682, 0.0), (4683, 0.0), (4684, 0.0), (4689, 0.0), (4690, 0.0), (4691, 0.0), (4695, 0.0), (4697, 0.0), (4698, 0.0), (4700, 0.0), (4703, 0.0), (4708, 0.0), (4709, 0.0), (4711, 0.0), (4714, 0.0), (4716, 0.0), (4720, 0.0), (4721, 0.0), (4725, 0.0), (4726, 0.0), (4727, 0.0), (4730, 0.0), (4736, 0.0), (4737, 0.0), (4740, 0.0), (4742, 0.0), (4745, 0.0), (4746, 0.0), (4747, 0.0), (4750, 0.0), (4751, 0.0), (4755, 0.0), (4758, 0.0), (4759, 0.0)]\n"
          ]
        }
      ]
    },
    {
      "cell_type": "code",
      "source": [
        "# print the name of similar movies based on the index\n",
        "\n",
        "print('Top 30 Movies Suggested for you: \\n')\n",
        "\n",
        "i = 1\n",
        "\n",
        "for movie in Sorted_Similar_Movies:\n",
        "    index = movie[0]\n",
        "    title_from_index = df[df.index==index]['Movie_Title'].values[0]\n",
        "    if (i<31):\n",
        "        print(i, '.',title_from_index)\n",
        "        i+=1"
      ],
      "metadata": {
        "colab": {
          "base_uri": "https://localhost:8080/"
        },
        "id": "np1ptqo4bU7L",
        "outputId": "22b92852-f031-4e37-e086-b031d5e15350"
      },
      "execution_count": null,
      "outputs": [
        {
          "output_type": "stream",
          "name": "stdout",
          "text": [
            "Top 30 Movies Suggested for you: \n",
            "\n",
            "1 . The Velocity of Gary\n",
            "2 . Broken Horses\n",
            "3 . We Have Your Husband\n",
            "4 . Once Upon a Time in Mexico\n",
            "5 . Jason Bourne\n",
            "6 . The Dangerous Lives of Altar Boys\n",
            "7 . Impostor\n",
            "8 . The Pirates! In an Adventure with Scientists!\n",
            "9 . Grown Ups 2\n",
            "10 . Frida\n",
            "11 . Fled\n",
            "12 . After the Sunset\n",
            "13 . Bad Grandpa\n",
            "14 . Here Comes the Boom\n",
            "15 . Wild Wild West\n",
            "16 . The Judge\n",
            "17 . Cirque du Freak: The Vampire's Assistant\n",
            "18 . Puss in Boots\n",
            "19 . Mystic Pizza\n",
            "20 . Savages\n",
            "21 . Quest for Camelot\n",
            "22 . Michael Collins\n",
            "23 . Desperado\n",
            "24 . Grown Ups\n",
            "25 . Bandidas\n",
            "26 . Buffalo '66\n",
            "27 . Jurassic World\n",
            "28 . Open Secret\n",
            "29 . Brooklyn's Finest\n",
            "30 . The Last Stand\n"
          ]
        }
      ]
    },
    {
      "cell_type": "code",
      "source": [
        "Movie_Name = input('Enter your favorite movie name: ')\n",
        "\n",
        "list_of_all_titles = df['Movie_Title'].tolist()\n",
        "\n",
        "Find_Close_Match = difflib.get_close_matches(Movie_Name, list_of_all_titles)\n",
        "\n",
        "Close_Match = Find_Close_Match[0]\n",
        "\n",
        "Index_of_Movie = df[df.Movie_Title == Close_Match]['Movie_ID'].values[0]\n",
        "\n",
        "Recommendation_Score = list(enumerate(Similarity_Score[Index_of_Movie]))\n",
        "\n",
        "sorted_similar_movies = sorted(Recommendation_Score, key = lambda x:x[1], reverse = True)\n",
        "\n",
        "print('Top 10 Movies suggested for you : \\n')\n",
        "\n",
        "i = 1\n",
        "\n",
        "for movie in sorted_similar_movies:\n",
        "    index = movie[0]\n",
        "    title_from_index = df[df.Movie_ID==index]['Movie_Title'].values\n",
        "    if (i<11):\n",
        "        print(i,'.',title_from_index)\n",
        "        i+=1\n"
      ],
      "metadata": {
        "colab": {
          "base_uri": "https://localhost:8080/"
        },
        "id": "hS0S6oStbjY4",
        "outputId": "1d7f7e01-098a-4958-ce91-73cc0768dd83"
      },
      "execution_count": null,
      "outputs": [
        {
          "output_type": "stream",
          "name": "stdout",
          "text": [
            "Enter your favorite movie name: drama\n",
            "Top 10 Movies suggested for you : \n",
            "\n",
            "1 . ['Mama']\n",
            "2 . ['Black November']\n",
            "3 . ['Sea Rex 3D: Journey to a Prehistoric World']\n",
            "4 . ['Perfume: The Story of a Murderer']\n",
            "5 . ['Censored Voices']\n",
            "6 . ['Welcome to Mooseport']\n",
            "7 . ['Knocked Up']\n",
            "8 . ['Ted']\n",
            "9 . ['The Counselor']\n",
            "10 . ['American Psycho']\n"
          ]
        }
      ]
    }
  ]
}